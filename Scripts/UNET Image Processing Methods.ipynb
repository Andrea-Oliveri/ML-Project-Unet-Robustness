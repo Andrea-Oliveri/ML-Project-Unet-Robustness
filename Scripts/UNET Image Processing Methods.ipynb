{
 "cells": [
  {
   "cell_type": "markdown",
   "metadata": {},
   "source": [
    "# Evaluation of UNET performance upon common distortions"
   ]
  },
  {
   "cell_type": "markdown",
   "metadata": {},
   "source": [
    "The aim of this notebook is to provide some informations about how a UNET initially trained to segment cells is perturbated by some common distortions applied on the input images. The tested distortions applied on the inputs are an added 2D gaussian, a gaussian noise as well as a rescaling of the input images. To evaluate the performance of the UNET, several plots are generated: the accuracy, the Jaccard index and the number of detected cells in function of the degree of degradation that depends on the parameters of the distortions."
   ]
  },
  {
   "cell_type": "markdown",
   "metadata": {},
   "source": [
    "### $\\bullet$ Importing libraries and utilitary functions"
   ]
  },
  {
   "cell_type": "code",
   "execution_count": null,
   "metadata": {
    "colab": {
     "base_uri": "https://localhost:8080/"
    },
    "executionInfo": {
     "elapsed": 1491,
     "status": "ok",
     "timestamp": 1605116259220,
     "user": {
      "displayName": "EPFLML2020 GoodLastName",
      "photoUrl": "",
      "userId": "08441615881122576683"
     },
     "user_tz": -60
    },
    "id": "T3d4FS-rUEiK",
    "outputId": "302be8e3-c259-4739-8108-501a318136cd"
   },
   "outputs": [],
   "source": [
    "# import python libraries\n",
    "import matplotlib.pyplot as plt\n",
    "%matplotlib inline\n",
    "import numpy as np\n",
    "%load_ext autoreload\n",
    "%autoreload 2\n",
    "import os\n",
    "os.environ['TF_CPP_MIN_LOG_LEVEL'] = '1'\n",
    "import tensorflow\n",
    "\n",
    "# import distortion filters and utilitary functions\n",
    "from distortions import add_gaussian, zoom_image, zoom_image_to_meet_shape, add_gaussian_noise\n",
    "from utils import *\n",
    "from plots import show_image_mask, show_image_pred, plot_all\n",
    "from image_processing_methods import dog"
   ]
  },
  {
   "cell_type": "markdown",
   "metadata": {},
   "source": [
    "### $\\bullet$ Setting size of the input image and different paths"
   ]
  },
  {
   "cell_type": "code",
   "execution_count": null,
   "metadata": {
    "colab": {
     "background_save": true
    },
    "executionInfo": {
     "elapsed": 3866,
     "status": "ok",
     "timestamp": 1605116263978,
     "user": {
      "displayName": "EPFLML2020 GoodLastName",
      "photoUrl": "",
      "userId": "08441615881122576683"
     },
     "user_tz": -60
    },
    "id": "oFUJJMwMalBG"
   },
   "outputs": [],
   "source": [
    "# Shape of the inputs of the deep network.\n",
    "images_shape = (256, 256, 1)\n",
    "\n",
    "# Variables defining the path to the dataset.\n",
    "test_input_path = '../Dataset/test/input/'\n",
    "test_output_path = '../Dataset/test/output/'\n",
    "\n",
    "# Variable defining where model is stored.\n",
    "model_save_path = \"../Model/\""
   ]
  },
  {
   "cell_type": "markdown",
   "metadata": {},
   "source": [
    "### $\\bullet$ Function to display the input images and predictions upon distorsion as well as a summary of values that shows the quality of the predicted images compared to the ground truth"
   ]
  },
  {
   "cell_type": "code",
   "execution_count": null,
   "metadata": {
    "id": "b72u9_VE31H2"
   },
   "outputs": [],
   "source": [
    "def evaluation_summary(result, parameter_name, parameter_val, image, mask, distorted_image, model):\n",
    "    \"\"\"Eval.\n",
    "    \n",
    "    Args:\n",
    "        images::[np.array]\n",
    "            The output measures associated to the input measures tX.\n",
    "        masks::[np.array]\n",
    "            The input measures.\n",
    "    \n",
    "    \"\"\"\n",
    "    print(\"{:<45}: {}\".format(parameter_name.upper()          , parameter_val))\n",
    "    print(\"{:<45}: {}\".format(\"Accuracy\"                      , result[\"accuracy\"]))\n",
    "    print(\"{:<45}: {}\".format(\"Jaccard score\"                 , result[\"jaccard\"]))\n",
    "    print(\"{:<45}: {}\".format(\"Precision\"                     , result[\"precision\"]))\n",
    "    print(\"{:<45}: {}\".format(\"Recall\"                        , result[\"recall\"]))\n",
    "    print(\"{:<45}: {}\".format(\"Number of cells in predictions\", result[\"number_cells_predictions\"]))\n",
    "    print(\"{:<45}: {}\".format(\"Number of cells in masks\"      , result[\"number_cells_masks\"]))\n",
    "    show_image_mask(image, mask)\n",
    "    show_image_pred(distorted_image, model)\n",
    "    \n",
    "    \n",
    "def evaluate_model(images, masks, model, number_cells_masks=None):\n",
    "    \"\"\"Eval.\n",
    "    \n",
    "    Args:\n",
    "        images::[np.array]\n",
    "            The output measures associated to the input measures tX.\n",
    "        masks::[np.array]\n",
    "            The input measures.\n",
    "    Returns:\n",
    "        accuracy::[float]\n",
    "            An array comprised of n_folds equally distributed arrays of y.\n",
    "        jaccard_score::[float]\n",
    "            An array comprised of n_folds equally distributed arrays of tX.\n",
    "        number_cells_predictions::[int]\n",
    "        number_cells_masks::[int]\n",
    "    \n",
    "    \"\"\"\n",
    "    predictions = get_binary_predictions(images, model)\n",
    "    accuracy    = np.mean(predictions == masks)\n",
    "    jaccard     = compute_jaccard_score(predictions, masks)\n",
    "    precision, recall = compute_precision_recall(predictions, masks)\n",
    "\n",
    "    number_cells_predictions = get_number_cells(predictions)\n",
    "    if number_cells_masks is None:\n",
    "        number_cells_masks = get_number_cells(masks)\n",
    "    \n",
    "    return {\"accuracy\": accuracy, \"jaccard\": jaccard, \"precision\": precision, \n",
    "            \"recall\": recall, \"number_cells_predictions\": number_cells_predictions,\n",
    "            \"number_cells_masks\": number_cells_masks}\n",
    "\n",
    "\n",
    "def apply_distortion_to_all(function, images, params_for_images={}):\n",
    "    distorted_images = []\n",
    "    for image in images:\n",
    "        distorted_images.append(function(image, **params_for_images))\n",
    "    \n",
    "    return np.array(distorted_images)"
   ]
  },
  {
   "cell_type": "markdown",
   "metadata": {},
   "source": [
    "### $\\bullet$ Retrieve trained model"
   ]
  },
  {
   "cell_type": "code",
   "execution_count": null,
   "metadata": {},
   "outputs": [],
   "source": [
    "model = tensorflow.keras.models.load_model(model_save_path)"
   ]
  },
  {
   "cell_type": "markdown",
   "metadata": {},
   "source": [
    "### $\\bullet$ Get input images with the wanted shape from dataset"
   ]
  },
  {
   "cell_type": "code",
   "execution_count": null,
   "metadata": {
    "colab": {
     "base_uri": "https://localhost:8080/"
    },
    "executionInfo": {
     "elapsed": 7175,
     "status": "ok",
     "timestamp": 1605116267655,
     "user": {
      "displayName": "EPFLML2020 GoodLastName",
      "photoUrl": "",
      "userId": "08441615881122576683"
     },
     "user_tz": -60
    },
    "id": "5kRpcG_R9SvH",
    "outputId": "0f533a82-ba05-4b2a-d4c8-eeb691e26ae0"
   },
   "outputs": [],
   "source": [
    "test_images, test_masks = get_dataset_from_folders(test_input_path, test_output_path, images_shape)\n",
    "\n",
    "print(f'Test set contains {len(test_images)} images of shape {test_images[0].shape}.')\n",
    "\n",
    "number_cells_masks = get_number_cells(test_masks)\n",
    "print(f\"{number_cells_masks} cells were counted in total over all masks.\")"
   ]
  },
  {
   "cell_type": "code",
   "execution_count": null,
   "metadata": {},
   "outputs": [],
   "source": [
    "from tqdm import tqdm"
   ]
  },
  {
   "cell_type": "code",
   "execution_count": null,
   "metadata": {},
   "outputs": [],
   "source": [
    "amplitudes = np.linspace(0, 4000, 10)\n",
    "\n",
    "all_images = np.zeros((510*10, 256, 256, 1))\n",
    "\n",
    "for i,amplitude in enumerate(amplitudes):\n",
    "    all_images[510*i:510*(1+i), :, :, :] = apply_distortion_to_all(add_gaussian, test_images, {\"amplitude\": amplitude})\n",
    "    \n",
    "all_masks = np.repeat(test_masks, 10, axis=0)"
   ]
  },
  {
   "cell_type": "code",
   "execution_count": null,
   "metadata": {},
   "outputs": [],
   "source": [
    "sigmas = np.linspace(0.5,0.9,9) \n",
    "\n",
    "dist_sigma = []\n",
    "for sigma in sigmas:\n",
    "    dist = []\n",
    "    indeces = np.random.choice(all_images.shape[0], 1000)\n",
    "    for i in tqdm(indeces):\n",
    "        dog_added_gaussian_img = dog(all_images[i], sigma)\n",
    "        dist.append(cv2.norm(all_masks[i]-dog_added_gaussian_img, cv2.NORM_L1))\n",
    "    \n",
    "    dist_sigma.append(np.mean(dist))\n"
   ]
  },
  {
   "cell_type": "code",
   "execution_count": null,
   "metadata": {},
   "outputs": [],
   "source": [
    "sigma = 0.65\n",
    "indeces = np.random.choice(all_images.shape[0], 100)\n",
    "for i in tqdm([-1]):\n",
    "    dog_added_gaussian_img = dog(all_images[i], sigma)\n",
    "    #m = np.median(dog_added_gaussian_img)\n",
    "    #pred = dog_added_gaussian_img >= m\n",
    "    \n",
    "    plt.figure()\n",
    "    plt.imshow(dog_added_gaussian_img, 'gray', vmin=0, vmax=1)\n",
    "    plt.show()\n",
    "    \n",
    "    dog_added_gaussian_img = dog_added_gaussian_img.reshape((1, 256, 256, 1))\n",
    "    \n",
    "    result = evaluate_model(dog_added_gaussian_img*256, test_masks[-1], model)\n",
    "    \n",
    "    evaluation_summary(result, \"Amplitude before DOG\", 4000, test_images[-1], test_masks[-1], dog_added_gaussian_img.reshape((256, 256, 1))*256, model)"
   ]
  },
  {
   "cell_type": "code",
   "execution_count": null,
   "metadata": {},
   "outputs": [],
   "source": [
    "plt.plot(sigmas, dist_sigma)"
   ]
  },
  {
   "cell_type": "code",
   "execution_count": null,
   "metadata": {},
   "outputs": [],
   "source": [
    "best_dists = []\n",
    "best_sigmas = []\n",
    "for img, mask in zip(test_images, test_masks):\n",
    "    added_gaussian_img = add_gaussian(img, 1000)\n",
    "\n",
    "    sigmas = np.linspace(0.1,1.9,20)\n",
    "    distances = []\n",
    "    for sigma in sigmas:\n",
    "        fig, axes = plt.subplots(1, 3)\n",
    "        ax1, ax2, ax3 = axes\n",
    "\n",
    "        dog_added_gaussian_img = dog(added_gaussian_img, sigma)\n",
    "        ax1.imshow(img, 'gray')\n",
    "        ax1.axis('off')\n",
    "        ax2.imshow(added_gaussian_img, 'gray')\n",
    "        ax2.axis('off')\n",
    "        ax3.imshow(dog_added_gaussian_img, 'gray')\n",
    "        ax3.axis('off')\n",
    "        plt.show()\n",
    "        \n",
    "        distances.append(np.sum(np.abs(mask-dog_added_gaussian_img)))\n",
    "        print(\"sigma: \", sigma)\n",
    "        print(\"distance: \", np.sum(np.abs(mask-dog_added_gaussian_img)))\n",
    "        \n",
    "    best_dist = np.min(distances)\n",
    "    best_sigma = sigmas[np.argmin(distances)]\n",
    "    best_dists.append(best_dist)\n",
    "    best_sigmas.append(best_sigma)\n",
    "    plt.plot(sigmas, distances)\n",
    "    plt.scatter(best_sigma, best_dist)\n",
    "    \n"
   ]
  },
  {
   "cell_type": "code",
   "execution_count": null,
   "metadata": {},
   "outputs": [],
   "source": [
    "plt.plot(sigmas, distances)"
   ]
  },
  {
   "cell_type": "code",
   "execution_count": null,
   "metadata": {},
   "outputs": [],
   "source": [
    "from noise_removal import de_noise\n",
    "\n",
    "for img, mask in list(zip(test_images, test_masks))[:1]:\n",
    "    \n",
    "    sigmas = np.linspace(1,100,40)\n",
    "    distances = []\n",
    "    for sigma in sigmas:\n",
    "        added_noise_img = add_gaussian_noise(img, 0, sigma)\n",
    "        \n",
    "        de_noised_img = de_noise(np.array(added_noise_img, dtype=np.uint8))\n",
    "\n",
    "        fig, axes = plt.subplots(1, 3)\n",
    "        ax1, ax2, ax3 = axes\n",
    "\n",
    "        ax1.imshow(img, 'gray')\n",
    "        ax1.axis('off')\n",
    "        ax2.imshow(added_noise_img, 'gray')\n",
    "        ax2.axis('off')\n",
    "        ax3.imshow(de_noised_img, 'gray')\n",
    "        ax3.axis('off')\n",
    "        plt.show()\n",
    "        print(\"sigma: \", sigma)\n",
    "        distance = np.sum(np.abs(img - de_noised_img))\n",
    "        print(\"distance: \", distance)\n",
    "        distances.append(distance)\n",
    "        \n",
    "\n",
    "    best_dist = np.min(distances)\n",
    "    best_sigma = sigmas[np.argmin(distances)]\n",
    "    best_dists.append(best_dist)\n",
    "    best_sigmas.append(best_sigma)\n",
    "    plt.plot(sigmas, distances)\n",
    "    plt.scatter(best_sigma, best_dist)"
   ]
  },
  {
   "cell_type": "code",
   "execution_count": null,
   "metadata": {},
   "outputs": [],
   "source": [
    "sigma = 40\n",
    "indeces = np.random.choice(all_images.shape[0], 100)\n",
    "for i in tqdm([-1]):\n",
    "    added_noise_img = add_gaussian_noise(test_images[0], 0, sigma)\n",
    "    de_noised_img = de_noise(np.array(added_noise_img, dtype=np.uint8))\n",
    "        \n",
    "    de_noised_img = de_noised_img.reshape((1, 256, 256, 1))\n",
    "    \n",
    "    result = evaluate_model(de_noised_img*256, test_masks[0], model)\n",
    "    \n",
    "    evaluation_summary(result, \"Model after denoiser\", 0, test_images[0], test_masks[0], de_noised_img.reshape((256, 256, 1))*256, model)"
   ]
  }
 ],
 "metadata": {
  "colab": {
   "collapsed_sections": [],
   "name": "UNET Distortion.ipynb",
   "version": ""
  },
  "kernelspec": {
   "display_name": "Python 3",
   "language": "python",
   "name": "python3"
  },
  "language_info": {
   "codemirror_mode": {
    "name": "ipython",
    "version": 3
   },
   "file_extension": ".py",
   "mimetype": "text/x-python",
   "name": "python",
   "nbconvert_exporter": "python",
   "pygments_lexer": "ipython3",
   "version": "3.8.6"
  }
 },
 "nbformat": 4,
 "nbformat_minor": 1
}
