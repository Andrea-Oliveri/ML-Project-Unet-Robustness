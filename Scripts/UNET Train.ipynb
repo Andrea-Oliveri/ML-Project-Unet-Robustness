{
 "cells": [
  {
   "cell_type": "code",
   "execution_count": 1,
   "metadata": {
    "colab": {
     "background_save": true
    },
    "executionInfo": {
     "elapsed": 3866,
     "status": "ok",
     "timestamp": 1605116263978,
     "user": {
      "displayName": "EPFLML2020 GoodLastName",
      "photoUrl": "",
      "userId": "08441615881122576683"
     },
     "user_tz": -60
    },
    "id": "oFUJJMwMalBG"
   },
   "outputs": [],
   "source": [
    "# Shape of the inputs of the deep network.\n",
    "images_shape = (256, 256, 1)\n",
    "\n",
    "# Variables defining the path to the dataset.\n",
    "train_input_path = '../Dataset/train/input/'\n",
    "train_output_path = '../Dataset/train/output/'\n",
    "val_input_path = '../Dataset/validation/input/'\n",
    "val_output_path = '../Dataset/validation/output/'\n",
    "test_input_path = '../Dataset/test/input/'\n",
    "test_output_path = '../Dataset/test/output/'\n",
    "\n",
    "# Variable defining where models will be stored.\n",
    "model_original_save_path = \"../Model Original/\"\n",
    "model_retrained_save_path = \"../Model Retrained/\""
   ]
  },
  {
   "cell_type": "code",
   "execution_count": 2,
   "metadata": {
    "colab": {
     "base_uri": "https://localhost:8080/"
    },
    "executionInfo": {
     "elapsed": 7175,
     "status": "ok",
     "timestamp": 1605116267655,
     "user": {
      "displayName": "EPFLML2020 GoodLastName",
      "photoUrl": "",
      "userId": "08441615881122576683"
     },
     "user_tz": -60
    },
    "id": "5kRpcG_R9SvH",
    "outputId": "0f533a82-ba05-4b2a-d4c8-eeb691e26ae0"
   },
   "outputs": [
    {
     "name": "stdout",
     "output_type": "stream",
     "text": [
      "Training set contains 606 images.\n",
      "Validation set contains 96 images.\n",
      "Test set contains 510 images.\n"
     ]
    }
   ],
   "source": [
    "from utils import get_dataset_from_folders\n",
    "\n",
    "train_images, train_masks = get_dataset_from_folders(train_input_path, train_output_path, images_shape)\n",
    "val_images, val_masks = get_dataset_from_folders(val_input_path, val_output_path, images_shape)\n",
    "test_images, test_masks = get_dataset_from_folders(test_input_path, test_output_path, images_shape)\n",
    "\n",
    "print(f'Training set contains {len(train_images)} images.')\n",
    "print(f'Validation set contains {len(val_images)} images.')\n",
    "print(f'Test set contains {len(test_images)} images.')"
   ]
  },
  {
   "cell_type": "code",
   "execution_count": 3,
   "metadata": {
    "id": "b72u9_VE31H2"
   },
   "outputs": [],
   "source": [
    "import os\n",
    "os.environ['TF_CPP_MIN_LOG_LEVEL'] = '1'\n",
    "from tensorflow.keras.callbacks import EarlyStopping, ModelCheckpoint\n",
    "import numpy as np\n",
    "import model"
   ]
  },
  {
   "cell_type": "code",
   "execution_count": 4,
   "metadata": {},
   "outputs": [
    {
     "name": "stdout",
     "output_type": "stream",
     "text": [
      "Model: \"model\"\n",
      "__________________________________________________________________________________________________\n",
      "Layer (type)                    Output Shape         Param #     Connected to                     \n",
      "==================================================================================================\n",
      "input_1 (InputLayer)            [(None, 256, 256, 1) 0                                            \n",
      "__________________________________________________________________________________________________\n",
      "conv2d (Conv2D)                 (None, 256, 256, 16) 160         input_1[0][0]                    \n",
      "__________________________________________________________________________________________________\n",
      "conv2d_1 (Conv2D)               (None, 256, 256, 16) 2320        conv2d[0][0]                     \n",
      "__________________________________________________________________________________________________\n",
      "dropout (Dropout)               (None, 256, 256, 16) 0           conv2d_1[0][0]                   \n",
      "__________________________________________________________________________________________________\n",
      "average_pooling2d (AveragePooli (None, 128, 128, 16) 0           dropout[0][0]                    \n",
      "__________________________________________________________________________________________________\n",
      "conv2d_2 (Conv2D)               (None, 128, 128, 32) 4640        average_pooling2d[0][0]          \n",
      "__________________________________________________________________________________________________\n",
      "conv2d_3 (Conv2D)               (None, 128, 128, 32) 9248        conv2d_2[0][0]                   \n",
      "__________________________________________________________________________________________________\n",
      "dropout_1 (Dropout)             (None, 128, 128, 32) 0           conv2d_3[0][0]                   \n",
      "__________________________________________________________________________________________________\n",
      "average_pooling2d_1 (AveragePoo (None, 64, 64, 32)   0           dropout_1[0][0]                  \n",
      "__________________________________________________________________________________________________\n",
      "conv2d_4 (Conv2D)               (None, 64, 64, 64)   18496       average_pooling2d_1[0][0]        \n",
      "__________________________________________________________________________________________________\n",
      "conv2d_5 (Conv2D)               (None, 64, 64, 64)   36928       conv2d_4[0][0]                   \n",
      "__________________________________________________________________________________________________\n",
      "dropout_2 (Dropout)             (None, 64, 64, 64)   0           conv2d_5[0][0]                   \n",
      "__________________________________________________________________________________________________\n",
      "average_pooling2d_2 (AveragePoo (None, 32, 32, 64)   0           dropout_2[0][0]                  \n",
      "__________________________________________________________________________________________________\n",
      "conv2d_6 (Conv2D)               (None, 32, 32, 128)  73856       average_pooling2d_2[0][0]        \n",
      "__________________________________________________________________________________________________\n",
      "conv2d_7 (Conv2D)               (None, 32, 32, 128)  147584      conv2d_6[0][0]                   \n",
      "__________________________________________________________________________________________________\n",
      "dropout_3 (Dropout)             (None, 32, 32, 128)  0           conv2d_7[0][0]                   \n",
      "__________________________________________________________________________________________________\n",
      "conv2d_transpose (Conv2DTranspo (None, 64, 64, 64)   32832       dropout_3[0][0]                  \n",
      "__________________________________________________________________________________________________\n",
      "concatenate (Concatenate)       (None, 64, 64, 128)  0           dropout_2[0][0]                  \n",
      "                                                                 conv2d_transpose[0][0]           \n",
      "__________________________________________________________________________________________________\n",
      "conv2d_8 (Conv2D)               (None, 64, 64, 64)   73792       concatenate[0][0]                \n",
      "__________________________________________________________________________________________________\n",
      "conv2d_9 (Conv2D)               (None, 64, 64, 64)   36928       conv2d_8[0][0]                   \n",
      "__________________________________________________________________________________________________\n",
      "dropout_4 (Dropout)             (None, 64, 64, 64)   0           conv2d_9[0][0]                   \n",
      "__________________________________________________________________________________________________\n",
      "conv2d_transpose_1 (Conv2DTrans (None, 128, 128, 32) 8224        dropout_4[0][0]                  \n",
      "__________________________________________________________________________________________________\n",
      "concatenate_1 (Concatenate)     (None, 128, 128, 64) 0           dropout_1[0][0]                  \n",
      "                                                                 conv2d_transpose_1[0][0]         \n",
      "__________________________________________________________________________________________________\n",
      "conv2d_10 (Conv2D)              (None, 128, 128, 32) 18464       concatenate_1[0][0]              \n",
      "__________________________________________________________________________________________________\n",
      "conv2d_11 (Conv2D)              (None, 128, 128, 32) 9248        conv2d_10[0][0]                  \n",
      "__________________________________________________________________________________________________\n",
      "dropout_5 (Dropout)             (None, 128, 128, 32) 0           conv2d_11[0][0]                  \n",
      "__________________________________________________________________________________________________\n",
      "conv2d_transpose_2 (Conv2DTrans (None, 256, 256, 16) 2064        dropout_5[0][0]                  \n",
      "__________________________________________________________________________________________________\n",
      "concatenate_2 (Concatenate)     (None, 256, 256, 32) 0           dropout[0][0]                    \n",
      "                                                                 conv2d_transpose_2[0][0]         \n",
      "__________________________________________________________________________________________________\n",
      "conv2d_12 (Conv2D)              (None, 256, 256, 16) 4624        concatenate_2[0][0]              \n",
      "__________________________________________________________________________________________________\n",
      "conv2d_13 (Conv2D)              (None, 256, 256, 16) 2320        conv2d_12[0][0]                  \n",
      "__________________________________________________________________________________________________\n",
      "dropout_6 (Dropout)             (None, 256, 256, 16) 0           conv2d_13[0][0]                  \n",
      "__________________________________________________________________________________________________\n",
      "conv2d_14 (Conv2D)              (None, 256, 256, 1)  17          dropout_6[0][0]                  \n",
      "==================================================================================================\n",
      "Total params: 481,745\n",
      "Trainable params: 481,745\n",
      "Non-trainable params: 0\n",
      "__________________________________________________________________________________________________\n"
     ]
    }
   ],
   "source": [
    "# Building Unet model.\n",
    "unet = model.unet(images_shape)"
   ]
  },
  {
   "cell_type": "code",
   "execution_count": 5,
   "metadata": {
    "id": "ZoO0FYx9Pjl8",
    "scrolled": false
   },
   "outputs": [
    {
     "name": "stdout",
     "output_type": "stream",
     "text": [
      "Train on 606 samples, validate on 96 samples\n",
      "Epoch 1/100\n",
      "602/606 [============================>.] - ETA: 0s - loss: 1.0012 - accuracy: 0.9385WARNING:tensorflow:From C:\\Anaconda3\\lib\\site-packages\\tensorflow_core\\python\\ops\\resource_variable_ops.py:1786: calling BaseResourceVariable.__init__ (from tensorflow.python.ops.resource_variable_ops) with constraint is deprecated and will be removed in a future version.\n",
      "Instructions for updating:\n",
      "If using Keras pass *_constraint arguments to layers.\n",
      "INFO:tensorflow:Assets written to: ../Model Original/assets\n",
      "606/606 [==============================] - 24s 39ms/sample - loss: 0.9957 - accuracy: 0.9386 - val_loss: 0.0721 - val_accuracy: 0.9750\n",
      "Epoch 2/100\n",
      "604/606 [============================>.] - ETA: 0s - loss: 0.0825 - accuracy: 0.9704INFO:tensorflow:Assets written to: ../Model Original/assets\n",
      "606/606 [==============================] - 20s 32ms/sample - loss: 0.0825 - accuracy: 0.9704 - val_loss: 0.0518 - val_accuracy: 0.9801\n",
      "Epoch 3/100\n",
      "604/606 [============================>.] - ETA: 0s - loss: 0.0590 - accuracy: 0.9768INFO:tensorflow:Assets written to: ../Model Original/assets\n",
      "606/606 [==============================] - 20s 33ms/sample - loss: 0.0590 - accuracy: 0.9768 - val_loss: 0.0475 - val_accuracy: 0.9821\n",
      "Epoch 4/100\n",
      "604/606 [============================>.] - ETA: 0s - loss: 0.0517 - accuracy: 0.9796INFO:tensorflow:Assets written to: ../Model Original/assets\n",
      "606/606 [==============================] - 20s 33ms/sample - loss: 0.0517 - accuracy: 0.9796 - val_loss: 0.0447 - val_accuracy: 0.9832\n",
      "Epoch 5/100\n",
      "604/606 [============================>.] - ETA: 0s - loss: 0.0466 - accuracy: 0.9816INFO:tensorflow:Assets written to: ../Model Original/assets\n",
      "606/606 [==============================] - 20s 33ms/sample - loss: 0.0465 - accuracy: 0.9816 - val_loss: 0.0438 - val_accuracy: 0.9832\n",
      "Epoch 6/100\n",
      "604/606 [============================>.] - ETA: 0s - loss: 0.0434 - accuracy: 0.9828 - ETA: 14s - loss: 0.0439 - accura - ETA: 13s - loss: 0.0450 - accuracy: 0.981 - ETA: 13s - loss: 0.0450  - ETA: 9s - loss: 0.0432 -  - ETAINFO:tensorflow:Assets written to: ../Model Original/assets\n",
      "606/606 [==============================] - 20s 33ms/sample - loss: 0.0435 - accuracy: 0.9828 - val_loss: 0.0436 - val_accuracy: 0.9834\n",
      "Epoch 7/100\n",
      "606/606 [==============================] - 16s 26ms/sample - loss: 0.0402 - accuracy: 0.9840 - val_loss: 0.0426 - val_accuracy: 0.9833\n",
      "Epoch 8/100\n",
      "602/606 [============================>.] - ETA: 0s - loss: 0.0383 - accuracy: 0.9846 ETA: 4s - loss: 0.0384 - accuracy - ETA: 3s - loss: 0.0384  - ETA: 0s - loss: 0.0381 - accuINFO:tensorflow:Assets written to: ../Model Original/assets\n",
      "606/606 [==============================] - 20s 34ms/sample - loss: 0.0383 - accuracy: 0.9846 - val_loss: 0.0423 - val_accuracy: 0.9839\n",
      "Epoch 9/100\n",
      "606/606 [==============================] - 16s 26ms/sample - loss: 0.0363 - accuracy: 0.9854 - val_loss: 0.0432 - val_accuracy: 0.9837\n",
      "Epoch 10/100\n",
      "606/606 [==============================] - 16s 26ms/sample - loss: 0.0342 - accuracy: 0.9862 - val_loss: 0.0438 - val_accuracy: 0.9829\n",
      "Epoch 11/100\n",
      "602/606 [============================>.] - ETA: 0s - loss: 0.0327 - accuracy: 0.9868INFO:tensorflow:Assets written to: ../Model Original/assets\n",
      "606/606 [==============================] - 20s 34ms/sample - loss: 0.0327 - accuracy: 0.9868 - val_loss: 0.0411 - val_accuracy: 0.9843\n",
      "Epoch 12/100\n",
      "606/606 [==============================] - 16s 26ms/sample - loss: 0.0316 - accuracy: 0.9872 - val_loss: 0.0433 - val_accuracy: 0.9834\n",
      "Epoch 13/100\n",
      "602/606 [============================>.] - ETA: 0s - loss: 0.0307 - accuracy: 0.9875INFO:tensorflow:Assets written to: ../Model Original/assets\n",
      "606/606 [==============================] - 20s 33ms/sample - loss: 0.0307 - accuracy: 0.9875 - val_loss: 0.0399 - val_accuracy: 0.9848\n",
      "Epoch 14/100\n",
      "606/606 [==============================] - 15s 26ms/sample - loss: 0.0294 - accuracy: 0.9880 - val_loss: 0.0437 - val_accuracy: 0.9840\n",
      "Epoch 15/100\n",
      "606/606 [==============================] - 16s 26ms/sample - loss: 0.0285 - accuracy: 0.9883 - val_loss: 0.0439 - val_accuracy: 0.9836\n",
      "Epoch 16/100\n",
      "606/606 [==============================] - 16s 26ms/sample - loss: 0.0281 - accuracy: 0.9884 - val_loss: 0.0426 - val_accuracy: 0.9844\n",
      "Epoch 17/100\n",
      "606/606 [==============================] - 16s 26ms/sample - loss: 0.0275 - accuracy: 0.9886 - val_loss: 0.0426 - val_accuracy: 0.9840\n",
      "Epoch 18/100\n",
      "604/606 [============================>.] - ETA: 0s - loss: 0.0266 - accuracy: 0.9890INFO:tensorflow:Assets written to: ../Model Original/assets\n",
      "606/606 [==============================] - 20s 34ms/sample - loss: 0.0266 - accuracy: 0.9890 - val_loss: 0.0431 - val_accuracy: 0.9849\n",
      "Epoch 19/100\n",
      "606/606 [==============================] - 16s 26ms/sample - loss: 0.0258 - accuracy: 0.9893 - val_loss: 0.0416 - val_accuracy: 0.9845\n",
      "Epoch 20/100\n",
      "604/606 [============================>.] - ETA: 0s - loss: 0.0253 - accuracy: 0.9895INFO:tensorflow:Assets written to: ../Model Original/assets\n",
      "606/606 [==============================] - 20s 33ms/sample - loss: 0.0253 - accuracy: 0.9895 - val_loss: 0.0431 - val_accuracy: 0.9852\n",
      "Epoch 21/100\n",
      "606/606 [==============================] - 16s 26ms/sample - loss: 0.0255 - accuracy: 0.9895 - val_loss: 0.0469 - val_accuracy: 0.9818\n",
      "Epoch 22/100\n",
      "606/606 [==============================] - 16s 26ms/sample - loss: 0.0249 - accuracy: 0.9897 - val_loss: 0.0417 - val_accuracy: 0.9844\n",
      "Epoch 23/100\n",
      "606/606 [==============================] - 16s 26ms/sample - loss: 0.0237 - accuracy: 0.9901 - val_loss: 0.0482 - val_accuracy: 0.9821\n",
      "Epoch 24/100\n",
      "606/606 [==============================] - 16s 26ms/sample - loss: 0.0241 - accuracy: 0.9899 - val_loss: 0.0449 - val_accuracy: 0.9843\n",
      "Epoch 25/100\n",
      "606/606 [==============================] - 16s 26ms/sample - loss: 0.0233 - accuracy: 0.9902 - val_loss: 0.0443 - val_accuracy: 0.9844\n",
      "Epoch 26/100\n",
      "606/606 [==============================] - 16s 26ms/sample - loss: 0.0232 - accuracy: 0.9903 - val_loss: 0.0453 - val_accuracy: 0.9850\n",
      "Epoch 27/100\n",
      "606/606 [==============================] - 16s 26ms/sample - loss: 0.0227 - accuracy: 0.9905 - val_loss: 0.0465 - val_accuracy: 0.9844\n",
      "Epoch 28/100\n",
      "606/606 [==============================] - 16s 26ms/sample - loss: 0.0235 - accuracy: 0.9901 - val_loss: 0.0452 - val_accuracy: 0.9846\n",
      "Epoch 29/100\n",
      "606/606 [==============================] - 16s 26ms/sample - loss: 0.0219 - accuracy: 0.9908 - val_loss: 0.0467 - val_accuracy: 0.9841\n",
      "Epoch 30/100\n",
      "606/606 [==============================] - 16s 27ms/sample - loss: 0.0216 - accuracy: 0.9909 - val_loss: 0.0435 - val_accuracy: 0.9850\n",
      "Epoch 31/100\n",
      "606/606 [==============================] - 16s 27ms/sample - loss: 0.0211 - accuracy: 0.9911 - val_loss: 0.0440 - val_accuracy: 0.9848\n",
      "Epoch 32/100\n",
      "606/606 [==============================] - 16s 26ms/sample - loss: 0.0210 - accuracy: 0.9911 - val_loss: 0.0469 - val_accuracy: 0.9847\n",
      "Epoch 33/100\n",
      "606/606 [==============================] - 16s 27ms/sample - loss: 0.0210 - accuracy: 0.9912 - val_loss: 0.0474 - val_accuracy: 0.9841\n",
      "Epoch 34/100\n",
      "606/606 [==============================] - 16s 26ms/sample - loss: 0.0216 - accuracy: 0.9909 - val_loss: 0.0460 - val_accuracy: 0.9849\n",
      "Epoch 35/100\n",
      "602/606 [============================>.] - ETA: 0s - loss: 0.0211 - accuracy: 0.9911 ETA: 0s - loss: 0.0211 - INFO:tensorflow:Assets written to: ../Model Original/assets\n",
      "606/606 [==============================] - 20s 34ms/sample - loss: 0.0210 - accuracy: 0.9911 - val_loss: 0.0456 - val_accuracy: 0.9855\n",
      "Epoch 36/100\n",
      "606/606 [==============================] - 16s 26ms/sample - loss: 0.0207 - accuracy: 0.9913 - val_loss: 0.0463 - val_accuracy: 0.9852\n",
      "Epoch 37/100\n",
      "606/606 [==============================] - 16s 27ms/sample - loss: 0.0204 - accuracy: 0.9914 - val_loss: 0.0483 - val_accuracy: 0.9852\n",
      "Epoch 38/100\n",
      "606/606 [==============================] - 16s 27ms/sample - loss: 0.0207 - accuracy: 0.9913 - val_loss: 0.0473 - val_accuracy: 0.9852\n",
      "Epoch 39/100\n"
     ]
    },
    {
     "name": "stdout",
     "output_type": "stream",
     "text": [
      "606/606 [==============================] - 16s 27ms/sample - loss: 0.0205 - accuracy: 0.9914 - val_loss: 0.0464 - val_accuracy: 0.9848\n",
      "Epoch 40/100\n",
      "606/606 [==============================] - 16s 27ms/sample - loss: 0.0200 - accuracy: 0.9916 - val_loss: 0.0514 - val_accuracy: 0.9844\n",
      "Epoch 41/100\n",
      "606/606 [==============================] - 16s 27ms/sample - loss: 0.0193 - accuracy: 0.9919 - val_loss: 0.0489 - val_accuracy: 0.9855\n",
      "Epoch 42/100\n",
      "606/606 [==============================] - 16s 27ms/sample - loss: 0.0197 - accuracy: 0.9917 - val_loss: 0.0471 - val_accuracy: 0.9850\n",
      "Epoch 43/100\n",
      "606/606 [==============================] - 16s 27ms/sample - loss: 0.0197 - accuracy: 0.9917 - val_loss: 0.0494 - val_accuracy: 0.9855\n",
      "Epoch 44/100\n",
      "606/606 [==============================] - 16s 27ms/sample - loss: 0.0197 - accuracy: 0.9917 - val_loss: 0.0474 - val_accuracy: 0.9851\n",
      "Epoch 45/100\n",
      "606/606 [==============================] - 16s 27ms/sample - loss: 0.0193 - accuracy: 0.9919 - val_loss: 0.0461 - val_accuracy: 0.9848\n",
      "Epoch 46/100\n",
      "604/606 [============================>.] - ETA: 0s - loss: 0.0192 - accuracy: 0.9919 - ETA: 0s - losINFO:tensorflow:Assets written to: ../Model Original/assets\n",
      "606/606 [==============================] - 21s 34ms/sample - loss: 0.0192 - accuracy: 0.9919 - val_loss: 0.0448 - val_accuracy: 0.9856\n",
      "Epoch 47/100\n",
      "604/606 [============================>.] - ETA: 0s - loss: 0.0189 - accuracy: 0.9920INFO:tensorflow:Assets written to: ../Model Original/assets\n",
      "606/606 [==============================] - 20s 33ms/sample - loss: 0.0189 - accuracy: 0.9920 - val_loss: 0.0462 - val_accuracy: 0.9858\n",
      "Epoch 48/100\n",
      "606/606 [==============================] - 16s 26ms/sample - loss: 0.0194 - accuracy: 0.9918 - val_loss: 0.0479 - val_accuracy: 0.9856\n",
      "Epoch 49/100\n",
      "606/606 [==============================] - 16s 26ms/sample - loss: 0.0190 - accuracy: 0.9919 - val_loss: 0.0521 - val_accuracy: 0.9835\n",
      "Epoch 50/100\n",
      "604/606 [============================>.] - ETA: 0s - loss: 0.0192 - accuracy: 0.9919INFO:tensorflow:Assets written to: ../Model Original/assets\n",
      "606/606 [==============================] - 20s 33ms/sample - loss: 0.0192 - accuracy: 0.9919 - val_loss: 0.0446 - val_accuracy: 0.9859\n",
      "Epoch 51/100\n",
      "606/606 [==============================] - 16s 26ms/sample - loss: 0.0184 - accuracy: 0.9922 - val_loss: 0.0466 - val_accuracy: 0.9859\n",
      "Epoch 52/100\n",
      "606/606 [==============================] - 16s 26ms/sample - loss: 0.0183 - accuracy: 0.9923 - val_loss: 0.0490 - val_accuracy: 0.9857\n",
      "Epoch 53/100\n",
      "606/606 [==============================] - 16s 27ms/sample - loss: 0.0182 - accuracy: 0.9923 - val_loss: 0.0459 - val_accuracy: 0.9859\n",
      "Epoch 54/100\n",
      "606/606 [==============================] - 16s 27ms/sample - loss: 0.0181 - accuracy: 0.9924 - val_loss: 0.0507 - val_accuracy: 0.9853\n",
      "Epoch 55/100\n",
      "604/606 [============================>.] - ETA: 0s - loss: 0.0183 - accuracy: 0.9923INFO:tensorflow:Assets written to: ../Model Original/assets\n",
      "606/606 [==============================] - 21s 34ms/sample - loss: 0.0183 - accuracy: 0.9923 - val_loss: 0.0471 - val_accuracy: 0.9860\n",
      "Epoch 56/100\n",
      "606/606 [==============================] - 16s 26ms/sample - loss: 0.0180 - accuracy: 0.9924 - val_loss: 0.0473 - val_accuracy: 0.9857\n",
      "Epoch 57/100\n",
      "606/606 [==============================] - 16s 26ms/sample - loss: 0.0185 - accuracy: 0.9922 - val_loss: 0.0476 - val_accuracy: 0.9857\n",
      "Epoch 58/100\n",
      "606/606 [==============================] - 16s 26ms/sample - loss: 0.0176 - accuracy: 0.9925 - val_loss: 0.0493 - val_accuracy: 0.9850\n",
      "Epoch 59/100\n",
      "606/606 [==============================] - 16s 26ms/sample - loss: 0.0180 - accuracy: 0.9924 - val_loss: 0.0490 - val_accuracy: 0.9852\n",
      "Epoch 60/100\n",
      "606/606 [==============================] - 16s 26ms/sample - loss: 0.0179 - accuracy: 0.9924 - val_loss: 0.0473 - val_accuracy: 0.9852\n",
      "Epoch 61/100\n",
      "604/606 [============================>.] - ETA: 0s - loss: 0.0177 - accuracy: 0.9925 ETA: 1s - loss: 0.0176 - accuracy: 0.99 - ETA: INFO:tensorflow:Assets written to: ../Model Original/assets\n",
      "606/606 [==============================] - 20s 33ms/sample - loss: 0.0177 - accuracy: 0.9925 - val_loss: 0.0484 - val_accuracy: 0.9861\n",
      "Epoch 62/100\n",
      "606/606 [==============================] - 16s 26ms/sample - loss: 0.0178 - accuracy: 0.9925 - val_loss: 0.0480 - val_accuracy: 0.9859\n",
      "Epoch 63/100\n",
      "602/606 [============================>.] - ETA: 0s - loss: 0.0178 - accuracy: 0.9925Restoring model weights from the end of the best epoch.\n",
      "606/606 [==============================] - 16s 26ms/sample - loss: 0.0177 - accuracy: 0.9925 - val_loss: 0.0500 - val_accuracy: 0.9861\n",
      "Epoch 00063: early stopping\n"
     ]
    }
   ],
   "source": [
    "# Setting up parameters used for training\n",
    "number_epochs = 100\n",
    "batch_size = 2\n",
    "early_stopping = EarlyStopping(patience=50, verbose=1, restore_best_weights=True)\n",
    "model_checkpoint = ModelCheckpoint(filepath=model_original_save_path, save_weights_only=False, monitor='val_accuracy', mode='max', save_best_only=True)\n",
    "\n",
    "# Training\n",
    "history = unet.fit(train_images, train_masks, validation_data = (val_images, val_masks), batch_size = batch_size, epochs=number_epochs, callbacks=[early_stopping, model_checkpoint])"
   ]
  },
  {
   "cell_type": "code",
   "execution_count": 6,
   "metadata": {
    "id": "CbpnxqaAYnfU"
   },
   "outputs": [
    {
     "data": {
      "image/png": "[encoded data removed]",
      "text/plain": [
       "<Figure size 432x288 with 1 Axes>"
      ]
     },
     "metadata": {
      "needs_background": "light"
     },
     "output_type": "display_data"
    },
    {
     "data": {
      "image/png": "[encoded data removed]",
      "text/plain": [
       "<Figure size 432x288 with 1 Axes>"
      ]
     },
     "metadata": {
      "needs_background": "light"
     },
     "output_type": "display_data"
    }
   ],
   "source": [
    "import matplotlib.pyplot as plt\n",
    "\n",
    "def plot_history(history):\n",
    "    plt.plot(history.history['accuracy'])\n",
    "    plt.plot(history.history['val_accuracy'])\n",
    "    plt.title('Model Accuracy')\n",
    "    plt.ylabel('Accuracy')\n",
    "    plt.xlabel('Epoch')\n",
    "    plt.legend(['Train', 'Validation'])\n",
    "    plt.show()\n",
    "\n",
    "    plt.plot(history.history['loss'])\n",
    "    plt.plot(history.history['val_loss'])\n",
    "    plt.title('Model Loss')\n",
    "    plt.ylabel('Loss')\n",
    "    plt.xlabel('Epoch')\n",
    "    plt.legend(['Train', 'Validation'])\n",
    "    plt.show()\n",
    "    \n",
    "plot_history(history)"
   ]
  },
  {
   "cell_type": "code",
   "execution_count": 7,
   "metadata": {},
   "outputs": [
    {
     "name": "stdout",
     "output_type": "stream",
     "text": [
      "510/510 [==============================] - 6s 12ms/sample - loss: 0.0288 - accuracy: 0.9889\n"
     ]
    }
   ],
   "source": [
    "unet.evaluate(test_images, test_masks);"
   ]
  },
  {
   "cell_type": "code",
   "execution_count": 8,
   "metadata": {},
   "outputs": [],
   "source": [
    "from distortions import add_gaussian, add_gaussian_noise\n",
    "\n",
    "def apply_random_distortion_to_all(function, images, params_for_images={}):\n",
    "    distorted_images = []\n",
    "\n",
    "    for image in images:\n",
    "        params_for_image = {}\n",
    "        for param, val_range in params_for_images.items():\n",
    "            params_for_image[param] =  np.random.uniform(*val_range)\n",
    "            \n",
    "        distorted_images.append(function(image, **params_for_image))\n",
    "    \n",
    "    return np.array(distorted_images)\n",
    "\n",
    "train_images_added_gaussian = apply_random_distortion_to_all(add_gaussian, train_images, {\"amplitude\": (0, 500)})\n",
    "val_images_added_gaussian   = apply_random_distortion_to_all(add_gaussian, val_images  , {\"amplitude\": (0, 500)})\n",
    "test_images_added_gaussian  = apply_random_distortion_to_all(add_gaussian, test_images , {\"amplitude\": (0, 500)})\n",
    "train_images_added_gaussian_noise = apply_random_distortion_to_all(add_gaussian_noise, train_images, {\"mean\": (0, 0), \"sigma\": (0, 50)})\n",
    "val_images_added_gaussian_noise   = apply_random_distortion_to_all(add_gaussian_noise, val_images  , {\"mean\": (0, 0), \"sigma\": (0, 50)})\n",
    "test_images_added_gaussian_noise  = apply_random_distortion_to_all(add_gaussian_noise, test_images , {\"mean\": (0, 0), \"sigma\": (0, 50)})"
   ]
  },
  {
   "cell_type": "code",
   "execution_count": 9,
   "metadata": {},
   "outputs": [
    {
     "name": "stdout",
     "output_type": "stream",
     "text": [
      "Training set contains 1818 images.\n",
      "Validation set contains 288 images.\n",
      "Test set contains 1530 images.\n"
     ]
    }
   ],
   "source": [
    "train_images = np.append(train_images, train_images_added_gaussian      , axis=0)\n",
    "train_images = np.append(train_images, train_images_added_gaussian_noise, axis=0)\n",
    "train_masks  = np.repeat(train_masks , 3                                , axis=0)\n",
    "val_images   = np.append(val_images  , val_images_added_gaussian        , axis=0)\n",
    "val_images   = np.append(val_images  , val_images_added_gaussian_noise  , axis=0)\n",
    "val_masks    = np.repeat(val_masks   , 3                                , axis=0)\n",
    "test_images  = np.append(test_images , test_images_added_gaussian       , axis=0)\n",
    "test_images  = np.append(test_images , test_images_added_gaussian_noise , axis=0)\n",
    "test_masks   = np.repeat(test_masks  , 3                                , axis=0)\n",
    "\n",
    "print(f'Training set contains {len(train_images)} images.')\n",
    "print(f'Validation set contains {len(val_images)} images.')\n",
    "print(f'Test set contains {len(test_images)} images.')"
   ]
  },
  {
   "cell_type": "code",
   "execution_count": 10,
   "metadata": {},
   "outputs": [
    {
     "name": "stdout",
     "output_type": "stream",
     "text": [
      "Model: \"model_1\"\n",
      "__________________________________________________________________________________________________\n",
      "Layer (type)                    Output Shape         Param #     Connected to                     \n",
      "==================================================================================================\n",
      "input_2 (InputLayer)            [(None, 256, 256, 1) 0                                            \n",
      "__________________________________________________________________________________________________\n",
      "conv2d_15 (Conv2D)              (None, 256, 256, 16) 160         input_2[0][0]                    \n",
      "__________________________________________________________________________________________________\n",
      "conv2d_16 (Conv2D)              (None, 256, 256, 16) 2320        conv2d_15[0][0]                  \n",
      "__________________________________________________________________________________________________\n",
      "dropout_7 (Dropout)             (None, 256, 256, 16) 0           conv2d_16[0][0]                  \n",
      "__________________________________________________________________________________________________\n",
      "average_pooling2d_3 (AveragePoo (None, 128, 128, 16) 0           dropout_7[0][0]                  \n",
      "__________________________________________________________________________________________________\n",
      "conv2d_17 (Conv2D)              (None, 128, 128, 32) 4640        average_pooling2d_3[0][0]        \n",
      "__________________________________________________________________________________________________\n",
      "conv2d_18 (Conv2D)              (None, 128, 128, 32) 9248        conv2d_17[0][0]                  \n",
      "__________________________________________________________________________________________________\n",
      "dropout_8 (Dropout)             (None, 128, 128, 32) 0           conv2d_18[0][0]                  \n",
      "__________________________________________________________________________________________________\n",
      "average_pooling2d_4 (AveragePoo (None, 64, 64, 32)   0           dropout_8[0][0]                  \n",
      "__________________________________________________________________________________________________\n",
      "conv2d_19 (Conv2D)              (None, 64, 64, 64)   18496       average_pooling2d_4[0][0]        \n",
      "__________________________________________________________________________________________________\n",
      "conv2d_20 (Conv2D)              (None, 64, 64, 64)   36928       conv2d_19[0][0]                  \n",
      "__________________________________________________________________________________________________\n",
      "dropout_9 (Dropout)             (None, 64, 64, 64)   0           conv2d_20[0][0]                  \n",
      "__________________________________________________________________________________________________\n",
      "average_pooling2d_5 (AveragePoo (None, 32, 32, 64)   0           dropout_9[0][0]                  \n",
      "__________________________________________________________________________________________________\n",
      "conv2d_21 (Conv2D)              (None, 32, 32, 128)  73856       average_pooling2d_5[0][0]        \n",
      "__________________________________________________________________________________________________\n",
      "conv2d_22 (Conv2D)              (None, 32, 32, 128)  147584      conv2d_21[0][0]                  \n",
      "__________________________________________________________________________________________________\n",
      "dropout_10 (Dropout)            (None, 32, 32, 128)  0           conv2d_22[0][0]                  \n",
      "__________________________________________________________________________________________________\n",
      "conv2d_transpose_3 (Conv2DTrans (None, 64, 64, 64)   32832       dropout_10[0][0]                 \n",
      "__________________________________________________________________________________________________\n",
      "concatenate_3 (Concatenate)     (None, 64, 64, 128)  0           dropout_9[0][0]                  \n",
      "                                                                 conv2d_transpose_3[0][0]         \n",
      "__________________________________________________________________________________________________\n",
      "conv2d_23 (Conv2D)              (None, 64, 64, 64)   73792       concatenate_3[0][0]              \n",
      "__________________________________________________________________________________________________\n",
      "conv2d_24 (Conv2D)              (None, 64, 64, 64)   36928       conv2d_23[0][0]                  \n",
      "__________________________________________________________________________________________________\n",
      "dropout_11 (Dropout)            (None, 64, 64, 64)   0           conv2d_24[0][0]                  \n",
      "__________________________________________________________________________________________________\n",
      "conv2d_transpose_4 (Conv2DTrans (None, 128, 128, 32) 8224        dropout_11[0][0]                 \n",
      "__________________________________________________________________________________________________\n",
      "concatenate_4 (Concatenate)     (None, 128, 128, 64) 0           dropout_8[0][0]                  \n",
      "                                                                 conv2d_transpose_4[0][0]         \n",
      "__________________________________________________________________________________________________\n",
      "conv2d_25 (Conv2D)              (None, 128, 128, 32) 18464       concatenate_4[0][0]              \n",
      "__________________________________________________________________________________________________\n",
      "conv2d_26 (Conv2D)              (None, 128, 128, 32) 9248        conv2d_25[0][0]                  \n",
      "__________________________________________________________________________________________________\n",
      "dropout_12 (Dropout)            (None, 128, 128, 32) 0           conv2d_26[0][0]                  \n",
      "__________________________________________________________________________________________________\n",
      "conv2d_transpose_5 (Conv2DTrans (None, 256, 256, 16) 2064        dropout_12[0][0]                 \n",
      "__________________________________________________________________________________________________\n",
      "concatenate_5 (Concatenate)     (None, 256, 256, 32) 0           dropout_7[0][0]                  \n",
      "                                                                 conv2d_transpose_5[0][0]         \n",
      "__________________________________________________________________________________________________\n",
      "conv2d_27 (Conv2D)              (None, 256, 256, 16) 4624        concatenate_5[0][0]              \n",
      "__________________________________________________________________________________________________\n",
      "conv2d_28 (Conv2D)              (None, 256, 256, 16) 2320        conv2d_27[0][0]                  \n",
      "__________________________________________________________________________________________________\n",
      "dropout_13 (Dropout)            (None, 256, 256, 16) 0           conv2d_28[0][0]                  \n",
      "__________________________________________________________________________________________________\n",
      "conv2d_29 (Conv2D)              (None, 256, 256, 1)  17          dropout_13[0][0]                 \n",
      "==================================================================================================\n",
      "Total params: 481,745\n",
      "Trainable params: 481,745\n",
      "Non-trainable params: 0\n",
      "__________________________________________________________________________________________________\n"
     ]
    }
   ],
   "source": [
    "# Building Unet model.\n",
    "unet = model.unet(images_shape)"
   ]
  },
  {
   "cell_type": "code",
   "execution_count": 11,
   "metadata": {
    "scrolled": false
   },
   "outputs": [
    {
     "name": "stdout",
     "output_type": "stream",
     "text": [
      "Train on 1818 samples, validate on 288 samples\n",
      "Epoch 1/100\n",
      "1816/1818 [============================>.] - ETA: 0s - loss: 0.5977 - accuracy: 0.9037 ETA: 0s - loss: 0.5980 - accuracy: 0.90INFO:tensorflow:Assets written to: ../Model Retrained/assets\n",
      "1818/1818 [==============================] - 53s 29ms/sample - loss: 0.5974 - accuracy: 0.9038 - val_loss: 0.3112 - val_accuracy: 0.9067\n",
      "Epoch 2/100\n",
      "1814/1818 [============================>.] - ETA: 0s - loss: 0.3052 - accuracy: 0.9108INFO:tensorflow:Assets written to: ../Model Retrained/assets\n",
      "1818/1818 [==============================] - 51s 28ms/sample - loss: 0.3051 - accuracy: 0.9109 - val_loss: 0.3145 - val_accuracy: 0.9067\n",
      "Epoch 3/100\n",
      "1818/1818 [==============================] - 47s 26ms/sample - loss: 0.3038 - accuracy: 0.9109 - val_loss: 0.3113 - val_accuracy: 0.9067037 - \n",
      "Epoch 4/100\n",
      "1818/1818 [==============================] - 48s 26ms/sample - loss: 0.3035 - accuracy: 0.9109 - val_loss: 0.3108 - val_accuracy: 0.9067\n",
      "Epoch 5/100\n",
      "1818/1818 [==============================] - 47s 26ms/sample - loss: 0.3035 - accuracy: 0.9109 - val_loss: 0.3102 - val_accuracy: 0.9067\n",
      "Epoch 6/100\n",
      "1818/1818 [==============================] - 48s 26ms/sample - loss: 0.3033 - accuracy: 0.9109 - val_loss: 0.3105 - val_accuracy: 0.9067\n",
      "Epoch 7/100\n",
      "1818/1818 [==============================] - 47s 26ms/sample - loss: 0.3033 - accuracy: 0.9109 - val_loss: 0.3102 - val_accuracy: 0.9067\n",
      "Epoch 8/100\n",
      "1818/1818 [==============================] - 47s 26ms/sample - loss: 0.3031 - accuracy: 0.9109 - val_loss: 0.3133 - val_accuracy: 0.9067\n",
      "Epoch 9/100\n",
      "1818/1818 [==============================] - 48s 26ms/sample - loss: 0.3028 - accuracy: 0.9109 - val_loss: 0.3104 - val_accuracy: 0.9067\n",
      "Epoch 10/100\n",
      "1818/1818 [==============================] - 48s 26ms/sample - loss: 0.3030 - accuracy: 0.9109 - val_loss: 0.3107 - val_accuracy: 0.9067\n",
      "Epoch 11/100\n",
      "1818/1818 [==============================] - 48s 26ms/sample - loss: 0.3025 - accuracy: 0.9109 - val_loss: 0.3118 - val_accuracy: 0.9067\n",
      "Epoch 12/100\n",
      "1818/1818 [==============================] - 48s 26ms/sample - loss: 0.3024 - accuracy: 0.9109 - val_loss: 0.3130 - val_accuracy: 0.9067\n",
      "Epoch 13/100\n",
      "1818/1818 [==============================] - 48s 26ms/sample - loss: 0.3023 - accuracy: 0.9109 - val_loss: 0.3104 - val_accuracy: 0.9067\n",
      "Epoch 14/100\n",
      "1818/1818 [==============================] - 49s 27ms/sample - loss: 0.3020 - accuracy: 0.9109 - val_loss: 0.3102 - val_accuracy: 0.9067\n",
      "Epoch 15/100\n",
      "1818/1818 [==============================] - 49s 27ms/sample - loss: 0.3019 - accuracy: 0.9109 - val_loss: 0.3106 - val_accuracy: 0.9067\n",
      "Epoch 16/100\n",
      "1818/1818 [==============================] - 49s 27ms/sample - loss: 0.3018 - accuracy: 0.9109 - val_loss: 0.3102 - val_accuracy: 0.9067\n",
      "Epoch 17/100\n",
      "1818/1818 [==============================] - 49s 27ms/sample - loss: 0.3018 - accuracy: 0.9109 - val_loss: 0.3103 - val_accuracy: 0.9067\n",
      "Epoch 18/100\n",
      "1818/1818 [==============================] - 49s 27ms/sample - loss: 0.3016 - accuracy: 0.9109 - val_loss: 0.3103 - val_accuracy: 0.9067\n",
      "Epoch 19/100\n",
      "1818/1818 [==============================] - 49s 27ms/sample - loss: 0.3016 - accuracy: 0.9109 - val_loss: 0.3105 - val_accuracy: 0.9067\n",
      "Epoch 20/100\n",
      "1818/1818 [==============================] - 49s 27ms/sample - loss: 0.3015 - accuracy: 0.9109 - val_loss: 0.3107 - val_accuracy: 0.9067\n",
      "Epoch 21/100\n",
      "1818/1818 [==============================] - 49s 27ms/sample - loss: 0.3015 - accuracy: 0.9109 - val_loss: 0.3117 - val_accuracy: 0.9067\n",
      "Epoch 22/100\n",
      "1818/1818 [==============================] - 48s 27ms/sample - loss: 0.3015 - accuracy: 0.9109 - val_loss: 0.3105 - val_accuracy: 0.9067\n",
      "Epoch 23/100\n",
      "1818/1818 [==============================] - 48s 27ms/sample - loss: 0.3014 - accuracy: 0.9109 - val_loss: 0.3103 - val_accuracy: 0.9067\n",
      "Epoch 24/100\n",
      "1818/1818 [==============================] - 48s 27ms/sample - loss: 0.3014 - accuracy: 0.9109 - val_loss: 0.3103 - val_accuracy: 0.9067\n",
      "Epoch 25/100\n",
      "1818/1818 [==============================] - 48s 27ms/sample - loss: 0.3013 - accuracy: 0.9109 - val_loss: 0.3105 - val_accuracy: 0.9067\n",
      "Epoch 26/100\n",
      "1818/1818 [==============================] - 48s 26ms/sample - loss: 0.3013 - accuracy: 0.9109 - val_loss: 0.3102 - val_accuracy: 0.9067\n",
      "Epoch 27/100\n",
      "1818/1818 [==============================] - 49s 27ms/sample - loss: 0.3012 - accuracy: 0.9109 - val_loss: 0.3103 - val_accuracy: 0.9067\n",
      "Epoch 28/100\n",
      "1818/1818 [==============================] - 49s 27ms/sample - loss: 0.3012 - accuracy: 0.9109 - val_loss: 0.3103 - val_accuracy: 0.9067\n",
      "Epoch 29/100\n",
      "1818/1818 [==============================] - 49s 27ms/sample - loss: 0.3012 - accuracy: 0.9109 - val_loss: 0.3102 - val_accuracy: 0.9067\n",
      "Epoch 30/100\n",
      "1818/1818 [==============================] - 49s 27ms/sample - loss: 0.3011 - accuracy: 0.9109 - val_loss: 0.3111 - val_accuracy: 0.9067\n",
      "Epoch 31/100\n",
      "1818/1818 [==============================] - 49s 27ms/sample - loss: 0.3012 - accuracy: 0.9109 - val_loss: 0.3108 - val_accuracy: 0.9067\n",
      "Epoch 32/100\n",
      "1818/1818 [==============================] - 49s 27ms/sample - loss: 0.3011 - accuracy: 0.9109 - val_loss: 0.3120 - val_accuracy: 0.9067\n",
      "Epoch 33/100\n",
      "1818/1818 [==============================] - 49s 27ms/sample - loss: 0.3011 - accuracy: 0.9109 - val_loss: 0.3102 - val_accuracy: 0.9067\n",
      "Epoch 34/100\n",
      "1818/1818 [==============================] - 49s 27ms/sample - loss: 0.3011 - accuracy: 0.9109 - val_loss: 0.3102 - val_accuracy: 0.9067\n",
      "Epoch 35/100\n",
      "1818/1818 [==============================] - 49s 27ms/sample - loss: 0.3010 - accuracy: 0.9109 - val_loss: 0.3105 - val_accuracy: 0.9067\n",
      "Epoch 36/100\n",
      "1818/1818 [==============================] - 49s 27ms/sample - loss: 0.3010 - accuracy: 0.9109 - val_loss: 0.3103 - val_accuracy: 0.9067\n",
      "Epoch 37/100\n",
      "1818/1818 [==============================] - 49s 27ms/sample - loss: 0.3010 - accuracy: 0.9109 - val_loss: 0.3102 - val_accuracy: 0.9067\n",
      "Epoch 38/100\n",
      "1818/1818 [==============================] - 49s 27ms/sample - loss: 0.3009 - accuracy: 0.9109 - val_loss: 0.3102 - val_accuracy: 0.9067\n",
      "Epoch 39/100\n",
      "1818/1818 [==============================] - 49s 27ms/sample - loss: 0.3009 - accuracy: 0.9109 - val_loss: 0.3102 - val_accuracy: 0.9067\n",
      "Epoch 40/100\n",
      "1818/1818 [==============================] - 49s 27ms/sample - loss: 0.3008 - accuracy: 0.9109 - val_loss: 0.3105 - val_accuracy: 0.9067\n",
      "Epoch 41/100\n",
      "1818/1818 [==============================] - 49s 27ms/sample - loss: 0.3008 - accuracy: 0.9109 - val_loss: 0.3103 - val_accuracy: 0.9067\n",
      "Epoch 42/100\n",
      "1818/1818 [==============================] - 49s 27ms/sample - loss: 0.3008 - accuracy: 0.9109 - val_loss: 0.3102 - val_accuracy: 0.9067\n",
      "Epoch 43/100\n",
      "1818/1818 [==============================] - 49s 27ms/sample - loss: 0.3008 - accuracy: 0.9109 - val_loss: 0.3104 - val_accuracy: 0.9067\n",
      "Epoch 44/100\n",
      "1818/1818 [==============================] - 49s 27ms/sample - loss: 0.3007 - accuracy: 0.9109 - val_loss: 0.3102 - val_accuracy: 0.9067\n",
      "Epoch 45/100\n",
      "1818/1818 [==============================] - 49s 27ms/sample - loss: 0.3007 - accuracy: 0.9109 - val_loss: 0.3102 - val_accuracy: 0.9067\n",
      "Epoch 46/100\n",
      "1818/1818 [==============================] - 49s 27ms/sample - loss: 0.3007 - accuracy: 0.9109 - val_loss: 0.3102 - val_accuracy: 0.9067\n",
      "Epoch 47/100\n",
      "1818/1818 [==============================] - 49s 27ms/sample - loss: 0.3007 - accuracy: 0.9109 - val_loss: 0.3102 - val_accuracy: 0.9067\n",
      "Epoch 48/100\n",
      "1818/1818 [==============================] - 49s 27ms/sample - loss: 0.3007 - accuracy: 0.9109 - val_loss: 0.3102 - val_accuracy: 0.9067\n",
      "Epoch 49/100\n",
      "1818/1818 [==============================] - 49s 27ms/sample - loss: 0.3007 - accuracy: 0.9109 - val_loss: 0.3104 - val_accuracy: 0.9067\n",
      "Epoch 50/100\n",
      "1818/1818 [==============================] - 49s 27ms/sample - loss: 0.3007 - accuracy: 0.9109 - val_loss: 0.3102 - val_accuracy: 0.9067\n",
      "Epoch 51/100\n",
      "1818/1818 [==============================] - 89s 49ms/sample - loss: 0.3007 - accuracy: 0.9109 - val_loss: 0.3102 - val_accuracy: 0.9067\n",
      "Epoch 52/100\n"
     ]
    },
    {
     "name": "stdout",
     "output_type": "stream",
     "text": [
      "1818/1818 [==============================] - 47s 26ms/sample - loss: 0.3007 - accuracy: 0.9109 - val_loss: 0.3102 - val_accuracy: 0.9067\n",
      "Epoch 53/100\n",
      "1818/1818 [==============================] - 47s 26ms/sample - loss: 0.3007 - accuracy: 0.9109 - val_loss: 0.3104 - val_accuracy: 0.9067\n",
      "Epoch 54/100\n",
      "1818/1818 [==============================] - 47s 26ms/sample - loss: 0.3007 - accuracy: 0.9109 - val_loss: 0.3102 - val_accuracy: 0.9067\n",
      "Epoch 55/100\n",
      "1818/1818 [==============================] - 48s 26ms/sample - loss: 0.3007 - accuracy: 0.9109 - val_loss: 0.3104 - val_accuracy: 0.9067\n",
      "Epoch 56/100\n",
      "1818/1818 [==============================] - 48s 26ms/sample - loss: 0.3007 - accuracy: 0.9109 - val_loss: 0.3102 - val_accuracy: 0.9067\n",
      "Epoch 57/100\n",
      "1818/1818 [==============================] - 47s 26ms/sample - loss: 0.3007 - accuracy: 0.9109 - val_loss: 0.3105 - val_accuracy: 0.9067\n",
      "Epoch 58/100\n",
      "1818/1818 [==============================] - 48s 26ms/sample - loss: 0.3006 - accuracy: 0.9109 - val_loss: 0.3102 - val_accuracy: 0.9067\n",
      "Epoch 59/100\n",
      "1818/1818 [==============================] - 48s 27ms/sample - loss: 0.3007 - accuracy: 0.9109 - val_loss: 0.3104 - val_accuracy: 0.9067\n",
      "Epoch 60/100\n",
      "1818/1818 [==============================] - 49s 27ms/sample - loss: 0.3007 - accuracy: 0.9109 - val_loss: 0.3102 - val_accuracy: 0.9067\n",
      "Epoch 61/100\n",
      "1818/1818 [==============================] - 49s 27ms/sample - loss: 0.3007 - accuracy: 0.9109 - val_loss: 0.3105 - val_accuracy: 0.9067\n",
      "Epoch 62/100\n",
      "1818/1818 [==============================] - 48s 26ms/sample - loss: 0.3007 - accuracy: 0.9109 - val_loss: 0.3106 - val_accuracy: 0.9067\n",
      "Epoch 63/100\n",
      "1818/1818 [==============================] - 49s 27ms/sample - loss: 0.3006 - accuracy: 0.9109 - val_loss: 0.3103 - val_accuracy: 0.9067\n",
      "Epoch 64/100\n",
      "1818/1818 [==============================] - 49s 27ms/sample - loss: 0.3007 - accuracy: 0.9109 - val_loss: 0.3105 - val_accuracy: 0.9067\n",
      "Epoch 65/100\n",
      "1818/1818 [==============================] - 48s 27ms/sample - loss: 0.3007 - accuracy: 0.9109 - val_loss: 0.3103 - val_accuracy: 0.9067\n",
      "Epoch 66/100\n",
      "1818/1818 [==============================] - 48s 27ms/sample - loss: 0.3007 - accuracy: 0.9109 - val_loss: 0.3104 - val_accuracy: 0.9067\n",
      "Epoch 67/100\n",
      "1818/1818 [==============================] - 48s 27ms/sample - loss: 0.3007 - accuracy: 0.9109 - val_loss: 0.3104 - val_accuracy: 0.9067\n",
      "Epoch 68/100\n",
      "1818/1818 [==============================] - 48s 27ms/sample - loss: 0.3007 - accuracy: 0.9109 - val_loss: 0.3104 - val_accuracy: 0.9067\n",
      "Epoch 69/100\n",
      "1818/1818 [==============================] - 48s 27ms/sample - loss: 0.3006 - accuracy: 0.9109 - val_loss: 0.3106 - val_accuracy: 0.9067\n",
      "Epoch 70/100\n",
      "1818/1818 [==============================] - 48s 27ms/sample - loss: 0.3006 - accuracy: 0.9109 - val_loss: 0.3105 - val_accuracy: 0.9067\n",
      "Epoch 71/100\n",
      "1818/1818 [==============================] - 48s 27ms/sample - loss: 0.3007 - accuracy: 0.9109 - val_loss: 0.3103 - val_accuracy: 0.9067\n",
      "Epoch 72/100\n",
      "1818/1818 [==============================] - 48s 27ms/sample - loss: 0.3007 - accuracy: 0.9109 - val_loss: 0.3102 - val_accuracy: 0.9067\n",
      "Epoch 73/100\n",
      "1818/1818 [==============================] - 48s 27ms/sample - loss: 0.3006 - accuracy: 0.9109 - val_loss: 0.3107 - val_accuracy: 0.9067\n",
      "Epoch 74/100\n",
      "1818/1818 [==============================] - 48s 27ms/sample - loss: 0.3006 - accuracy: 0.9109 - val_loss: 0.3102 - val_accuracy: 0.9067\n",
      "Epoch 75/100\n",
      "1818/1818 [==============================] - 48s 27ms/sample - loss: 0.3007 - accuracy: 0.9109 - val_loss: 0.3105 - val_accuracy: 0.9067\n",
      "Epoch 76/100\n",
      "1814/1818 [============================>.] - ETA: 0s - loss: 0.3007 - accuracy: 0.9108 ETA: 0s - loss: 0.3006 - acRestoring model weights from the end of the best epoch.\n",
      "1818/1818 [==============================] - 48s 27ms/sample - loss: 0.3006 - accuracy: 0.9109 - val_loss: 0.3104 - val_accuracy: 0.9067\n",
      "Epoch 00076: early stopping\n"
     ]
    }
   ],
   "source": [
    "# Setting up parameters used for training\n",
    "number_epochs = 100\n",
    "batch_size = 2\n",
    "early_stopping = EarlyStopping(patience=50, verbose=1, restore_best_weights=True)\n",
    "model_checkpoint = ModelCheckpoint(filepath=model_retrained_save_path, save_weights_only=False, monitor='val_accuracy', mode='max', save_best_only=True)\n",
    "\n",
    "# Training\n",
    "history = unet.fit(train_images, train_masks, validation_data = (val_images, val_masks), batch_size = batch_size, epochs=number_epochs, callbacks=[early_stopping, model_checkpoint])"
   ]
  },
  {
   "cell_type": "code",
   "execution_count": 12,
   "metadata": {},
   "outputs": [
    {
     "data": {
      "image/png": "[encoded data removed]",
      "text/plain": [
       "<Figure size 432x288 with 1 Axes>"
      ]
     },
     "metadata": {
      "needs_background": "light"
     },
     "output_type": "display_data"
    },
    {
     "data": {
      "image/png": "[encoded data removed]",
      "text/plain": [
       "<Figure size 432x288 with 1 Axes>"
      ]
     },
     "metadata": {
      "needs_background": "light"
     },
     "output_type": "display_data"
    }
   ],
   "source": [
    "plot_history(history)"
   ]
  },
  {
   "cell_type": "code",
   "execution_count": 13,
   "metadata": {},
   "outputs": [
    {
     "name": "stdout",
     "output_type": "stream",
     "text": [
      "1530/1530 [==============================] - 12s 8ms/sample - loss: 0.2531 - accuracy: 0.9317\n"
     ]
    }
   ],
   "source": [
    "unet.evaluate(test_images, test_masks);"
   ]
  }
 ],
 "metadata": {
  "colab": {
   "collapsed_sections": [],
   "name": "UNET Distortion.ipynb",
   "version": ""
  },
  "kernelspec": {
   "display_name": "Python 3",
   "language": "python",
   "name": "python3"
  },
  "language_info": {
   "codemirror_mode": {
    "name": "ipython",
    "version": 3
   },
   "file_extension": ".py",
   "mimetype": "text/x-python",
   "name": "python",
   "nbconvert_exporter": "python",
   "pygments_lexer": "ipython3",
   "version": "3.7.9"
  }
 },
 "nbformat": 4,
 "nbformat_minor": 1
}
