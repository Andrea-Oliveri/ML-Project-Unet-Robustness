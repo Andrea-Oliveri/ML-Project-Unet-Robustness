{
 "cells": [
  {
   "cell_type": "code",
   "execution_count": 1,
   "metadata": {
    "colab": {
     "background_save": true
    },
    "executionInfo": {
     "elapsed": 3866,
     "status": "ok",
     "timestamp": 1605116263978,
     "user": {
      "displayName": "EPFLML2020 GoodLastName",
      "photoUrl": "",
      "userId": "08441615881122576683"
     },
     "user_tz": -60
    },
    "id": "oFUJJMwMalBG"
   },
   "outputs": [],
   "source": [
    "# Shape of the inputs of the deep network.\n",
    "images_shape = (256, 256, 1)\n",
    "\n",
    "# Variables defining the path to the dataset.\n",
    "train_input_path = '../Dataset/train/input/'\n",
    "train_output_path = '../Dataset/train/output/'\n",
    "val_input_path = '../Dataset/validation/input/'\n",
    "val_output_path = '../Dataset/validation/output/'\n",
    "test_input_path = '../Dataset/test/input/'\n",
    "test_output_path = '../Dataset/test/output/'\n",
    "\n",
    "# Variable defining where model will be stored.\n",
    "model_save_path = \"../Model/\""
   ]
  },
  {
   "cell_type": "code",
   "execution_count": 2,
   "metadata": {
    "colab": {
     "base_uri": "https://localhost:8080/"
    },
    "executionInfo": {
     "elapsed": 7175,
     "status": "ok",
     "timestamp": 1605116267655,
     "user": {
      "displayName": "EPFLML2020 GoodLastName",
      "photoUrl": "",
      "userId": "08441615881122576683"
     },
     "user_tz": -60
    },
    "id": "5kRpcG_R9SvH",
    "outputId": "0f533a82-ba05-4b2a-d4c8-eeb691e26ae0"
   },
   "outputs": [
    {
     "name": "stdout",
     "output_type": "stream",
     "text": [
      "Training set contains 606 images.\n",
      "Validation set contains 96 images.\n",
      "Test set contains 510 images.\n"
     ]
    }
   ],
   "source": [
    "from utils import get_dataset_from_folders\n",
    "\n",
    "train_images, train_masks = get_dataset_from_folders(train_input_path, train_output_path, images_shape)\n",
    "val_images, val_masks = get_dataset_from_folders(val_input_path, val_output_path, images_shape)\n",
    "test_images, test_masks = get_dataset_from_folders(test_input_path, test_output_path, images_shape)\n",
    "\n",
    "print(f'Training set contains {len(train_images)} images.')\n",
    "print(f'Validation set contains {len(val_images)} images.')\n",
    "print(f'Test set contains {len(test_images)} images.')"
   ]
  },
  {
   "cell_type": "code",
   "execution_count": 3,
   "metadata": {
    "id": "b72u9_VE31H2"
   },
   "outputs": [
    {
     "name": "stdout",
     "output_type": "stream",
     "text": [
      "Model: \"model\"\n",
      "__________________________________________________________________________________________________\n",
      "Layer (type)                    Output Shape         Param #     Connected to                     \n",
      "==================================================================================================\n",
      "input_1 (InputLayer)            [(None, 256, 256, 1) 0                                            \n",
      "__________________________________________________________________________________________________\n",
      "conv2d (Conv2D)                 (None, 256, 256, 16) 160         input_1[0][0]                    \n",
      "__________________________________________________________________________________________________\n",
      "conv2d_1 (Conv2D)               (None, 256, 256, 16) 2320        conv2d[0][0]                     \n",
      "__________________________________________________________________________________________________\n",
      "dropout (Dropout)               (None, 256, 256, 16) 0           conv2d_1[0][0]                   \n",
      "__________________________________________________________________________________________________\n",
      "average_pooling2d (AveragePooli (None, 128, 128, 16) 0           dropout[0][0]                    \n",
      "__________________________________________________________________________________________________\n",
      "conv2d_2 (Conv2D)               (None, 128, 128, 32) 4640        average_pooling2d[0][0]          \n",
      "__________________________________________________________________________________________________\n",
      "conv2d_3 (Conv2D)               (None, 128, 128, 32) 9248        conv2d_2[0][0]                   \n",
      "__________________________________________________________________________________________________\n",
      "dropout_1 (Dropout)             (None, 128, 128, 32) 0           conv2d_3[0][0]                   \n",
      "__________________________________________________________________________________________________\n",
      "average_pooling2d_1 (AveragePoo (None, 64, 64, 32)   0           dropout_1[0][0]                  \n",
      "__________________________________________________________________________________________________\n",
      "conv2d_4 (Conv2D)               (None, 64, 64, 64)   18496       average_pooling2d_1[0][0]        \n",
      "__________________________________________________________________________________________________\n",
      "conv2d_5 (Conv2D)               (None, 64, 64, 64)   36928       conv2d_4[0][0]                   \n",
      "__________________________________________________________________________________________________\n",
      "dropout_2 (Dropout)             (None, 64, 64, 64)   0           conv2d_5[0][0]                   \n",
      "__________________________________________________________________________________________________\n",
      "average_pooling2d_2 (AveragePoo (None, 32, 32, 64)   0           dropout_2[0][0]                  \n",
      "__________________________________________________________________________________________________\n",
      "conv2d_6 (Conv2D)               (None, 32, 32, 128)  73856       average_pooling2d_2[0][0]        \n",
      "__________________________________________________________________________________________________\n",
      "conv2d_7 (Conv2D)               (None, 32, 32, 128)  147584      conv2d_6[0][0]                   \n",
      "__________________________________________________________________________________________________\n",
      "dropout_3 (Dropout)             (None, 32, 32, 128)  0           conv2d_7[0][0]                   \n",
      "__________________________________________________________________________________________________\n",
      "conv2d_transpose (Conv2DTranspo (None, 64, 64, 64)   32832       dropout_3[0][0]                  \n",
      "__________________________________________________________________________________________________\n",
      "concatenate (Concatenate)       (None, 64, 64, 128)  0           dropout_2[0][0]                  \n",
      "                                                                 conv2d_transpose[0][0]           \n",
      "__________________________________________________________________________________________________\n",
      "conv2d_8 (Conv2D)               (None, 64, 64, 64)   73792       concatenate[0][0]                \n",
      "__________________________________________________________________________________________________\n",
      "conv2d_9 (Conv2D)               (None, 64, 64, 64)   36928       conv2d_8[0][0]                   \n",
      "__________________________________________________________________________________________________\n",
      "dropout_4 (Dropout)             (None, 64, 64, 64)   0           conv2d_9[0][0]                   \n",
      "__________________________________________________________________________________________________\n",
      "conv2d_transpose_1 (Conv2DTrans (None, 128, 128, 32) 8224        dropout_4[0][0]                  \n",
      "__________________________________________________________________________________________________\n",
      "concatenate_1 (Concatenate)     (None, 128, 128, 64) 0           dropout_1[0][0]                  \n",
      "                                                                 conv2d_transpose_1[0][0]         \n",
      "__________________________________________________________________________________________________\n",
      "conv2d_10 (Conv2D)              (None, 128, 128, 32) 18464       concatenate_1[0][0]              \n",
      "__________________________________________________________________________________________________\n",
      "conv2d_11 (Conv2D)              (None, 128, 128, 32) 9248        conv2d_10[0][0]                  \n",
      "__________________________________________________________________________________________________\n",
      "dropout_5 (Dropout)             (None, 128, 128, 32) 0           conv2d_11[0][0]                  \n",
      "__________________________________________________________________________________________________\n",
      "conv2d_transpose_2 (Conv2DTrans (None, 256, 256, 16) 2064        dropout_5[0][0]                  \n",
      "__________________________________________________________________________________________________\n",
      "concatenate_2 (Concatenate)     (None, 256, 256, 32) 0           dropout[0][0]                    \n",
      "                                                                 conv2d_transpose_2[0][0]         \n",
      "__________________________________________________________________________________________________\n",
      "conv2d_12 (Conv2D)              (None, 256, 256, 16) 4624        concatenate_2[0][0]              \n",
      "__________________________________________________________________________________________________\n",
      "conv2d_13 (Conv2D)              (None, 256, 256, 16) 2320        conv2d_12[0][0]                  \n",
      "__________________________________________________________________________________________________\n",
      "dropout_6 (Dropout)             (None, 256, 256, 16) 0           conv2d_13[0][0]                  \n",
      "__________________________________________________________________________________________________\n",
      "conv2d_14 (Conv2D)              (None, 256, 256, 1)  17          dropout_6[0][0]                  \n",
      "==================================================================================================\n",
      "Total params: 481,745\n",
      "Trainable params: 481,745\n",
      "Non-trainable params: 0\n",
      "__________________________________________________________________________________________________\n"
     ]
    }
   ],
   "source": [
    "import os\n",
    "os.environ['TF_CPP_MIN_LOG_LEVEL'] = '1'\n",
    "from tensorflow.keras.callbacks import EarlyStopping, ModelCheckpoint\n",
    "import numpy as np\n",
    "import model\n",
    "\n",
    "# Setting up parameters used for training\n",
    "number_epochs = 100\n",
    "batch_size = 2\n",
    "early_stopping = EarlyStopping(patience=50, verbose=1, restore_best_weights=True)\n",
    "model_checkpoint = ModelCheckpoint(filepath=model_save_path, save_weights_only=False, monitor='val_accuracy', mode='max', save_best_only=True)\n",
    "\n",
    "# Building Unet model.\n",
    "unet = model.unet(images_shape)"
   ]
  },
  {
   "cell_type": "code",
   "execution_count": 4,
   "metadata": {
    "id": "ZoO0FYx9Pjl8",
    "scrolled": false
   },
   "outputs": [
    {
     "name": "stdout",
     "output_type": "stream",
     "text": [
      "Train on 606 samples, validate on 96 samples\n",
      "Epoch 1/100\n",
      "602/606 [============================>.] - ETA: 0s - loss: 0.5026 - accuracy: 0.9415WARNING:tensorflow:From C:\\Anaconda3\\lib\\site-packages\\tensorflow_core\\python\\ops\\resource_variable_ops.py:1786: calling BaseResourceVariable.__init__ (from tensorflow.python.ops.resource_variable_ops) with constraint is deprecated and will be removed in a future version.\n",
      "Instructions for updating:\n",
      "If using Keras pass *_constraint arguments to layers.\n",
      "INFO:tensorflow:Assets written to: ../Model/assets\n",
      "606/606 [==============================] - 24s 40ms/sample - loss: 0.4997 - accuracy: 0.9418 - val_loss: 0.0583 - val_accuracy: 0.9777\n",
      "Epoch 2/100\n",
      "604/606 [============================>.] - ETA: 0s - loss: 0.0636 - accuracy: 0.9750 EINFO:tensorflow:Assets written to: ../Model/assets\n",
      "606/606 [==============================] - 19s 32ms/sample - loss: 0.0636 - accuracy: 0.9750 - val_loss: 0.0500 - val_accuracy: 0.9816\n",
      "Epoch 3/100\n",
      "604/606 [============================>.] - ETA: 0s - loss: 0.0575 - accuracy: 0.9775INFO:tensorflow:Assets written to: ../Model/assets\n",
      "606/606 [==============================] - 19s 32ms/sample - loss: 0.0576 - accuracy: 0.9775 - val_loss: 0.0453 - val_accuracy: 0.9835\n",
      "Epoch 4/100\n",
      "606/606 [==============================] - 15s 25ms/sample - loss: 0.0521 - accuracy: 0.9794 - val_loss: 0.0456 - val_accuracy: 0.9835\n",
      "Epoch 5/100\n",
      "606/606 [==============================] - 15s 25ms/sample - loss: 0.0481 - accuracy: 0.9806 - val_loss: 0.0446 - val_accuracy: 0.9831\n",
      "Epoch 6/100\n",
      "604/606 [============================>.] - ETA: 0s - loss: 0.0440 - accuracy: 0.9821 ETA: 2s - loss: 0INFO:tensorflow:Assets written to: ../Model/assets\n",
      "606/606 [==============================] - 20s 33ms/sample - loss: 0.0440 - accuracy: 0.9821 - val_loss: 0.0421 - val_accuracy: 0.9841\n",
      "Epoch 7/100\n",
      "606/606 [==============================] - 15s 26ms/sample - loss: 0.0412 - accuracy: 0.9832 - val_loss: 0.0419 - val_accuracy: 0.9837\n",
      "Epoch 8/100\n",
      "606/606 [==============================] - 15s 26ms/sample - loss: 0.0384 - accuracy: 0.9843 - val_loss: 0.0458 - val_accuracy: 0.9834\n",
      "Epoch 9/100\n",
      "606/606 [==============================] - 16s 26ms/sample - loss: 0.0366 - accuracy: 0.9849 - val_loss: 0.0442 - val_accuracy: 0.9826\n",
      "Epoch 10/100\n",
      "602/606 [============================>.] - ETA: 0s - loss: 0.0352 - accuracy: 0.9855INFO:tensorflow:Assets written to: ../Model/assets\n",
      "606/606 [==============================] - 20s 33ms/sample - loss: 0.0351 - accuracy: 0.9855 - val_loss: 0.0409 - val_accuracy: 0.9845\n",
      "Epoch 11/100\n",
      "606/606 [==============================] - 15s 26ms/sample - loss: 0.0335 - accuracy: 0.9861 - val_loss: 0.0465 - val_accuracy: 0.9828\n",
      "Epoch 12/100\n",
      "604/606 [============================>.] - ETA: 0s - loss: 0.0323 - accuracy: 0.9865 ETA: 0s - loss: 0.0323 - accuracy: 0.98INFO:tensorflow:Assets written to: ../Model/assets\n",
      "606/606 [==============================] - 20s 33ms/sample - loss: 0.0323 - accuracy: 0.9865 - val_loss: 0.0421 - val_accuracy: 0.9849\n",
      "Epoch 13/100\n",
      "606/606 [==============================] - 16s 26ms/sample - loss: 0.0315 - accuracy: 0.9868 - val_loss: 0.0487 - val_accuracy: 0.9843\n",
      "Epoch 14/100\n",
      "606/606 [==============================] - 16s 26ms/sample - loss: 0.0306 - accuracy: 0.9872 - val_loss: 0.0431 - val_accuracy: 0.9842\n",
      "Epoch 15/100\n",
      "606/606 [==============================] - 16s 26ms/sample - loss: 0.0296 - accuracy: 0.9875 - val_loss: 0.0423 - val_accuracy: 0.9848\n",
      "Epoch 16/100\n",
      "604/606 [============================>.] - ETA: 0s - loss: 0.0286 - accuracy: 0.9879INFO:tensorflow:Assets written to: ../Model/assets\n",
      "606/606 [==============================] - 21s 34ms/sample - loss: 0.0286 - accuracy: 0.9879 - val_loss: 0.0442 - val_accuracy: 0.9851\n",
      "Epoch 17/100\n",
      "606/606 [==============================] - 16s 26ms/sample - loss: 0.0278 - accuracy: 0.9883 - val_loss: 0.0477 - val_accuracy: 0.9841\n",
      "Epoch 18/100\n",
      "606/606 [==============================] - 16s 26ms/sample - loss: 0.0262 - accuracy: 0.9890 - val_loss: 0.0470 - val_accuracy: 0.9844\n",
      "Epoch 19/100\n",
      "606/606 [==============================] - 16s 27ms/sample - loss: 0.0265 - accuracy: 0.9890 - val_loss: 0.0434 - val_accuracy: 0.9851\n",
      "Epoch 20/100\n",
      "604/606 [============================>.] - ETA: 0s - loss: 0.0251 - accuracy: 0.9895INFO:tensorflow:Assets written to: ../Model/assets\n",
      "606/606 [==============================] - 21s 34ms/sample - loss: 0.0251 - accuracy: 0.9895 - val_loss: 0.0497 - val_accuracy: 0.9854\n",
      "Epoch 21/100\n",
      "606/606 [==============================] - 16s 26ms/sample - loss: 0.0256 - accuracy: 0.9894 - val_loss: 0.0491 - val_accuracy: 0.9844\n",
      "Epoch 22/100\n",
      "606/606 [==============================] - 16s 27ms/sample - loss: 0.0248 - accuracy: 0.9897 - val_loss: 0.0489 - val_accuracy: 0.9844\n",
      "Epoch 23/100\n",
      "606/606 [==============================] - 16s 27ms/sample - loss: 0.0238 - accuracy: 0.9901 - val_loss: 0.0465 - val_accuracy: 0.9851\n",
      "Epoch 24/100\n",
      "606/606 [==============================] - 16s 27ms/sample - loss: 0.0246 - accuracy: 0.9898 - val_loss: 0.0493 - val_accuracy: 0.9838\n",
      "Epoch 25/100\n",
      "606/606 [==============================] - 16s 27ms/sample - loss: 0.0234 - accuracy: 0.9902 - val_loss: 0.0502 - val_accuracy: 0.9846\n",
      "Epoch 26/100\n",
      "604/606 [============================>.] - ETA: 0s - loss: 0.0230 - accuracy: 0.9904INFO:tensorflow:Assets written to: ../Model/assets\n",
      "606/606 [==============================] - 21s 35ms/sample - loss: 0.0231 - accuracy: 0.9904 - val_loss: 0.0479 - val_accuracy: 0.9858\n",
      "Epoch 27/100\n",
      "606/606 [==============================] - 16s 27ms/sample - loss: 0.0229 - accuracy: 0.9904 - val_loss: 0.0458 - val_accuracy: 0.9854\n",
      "Epoch 28/100\n",
      "606/606 [==============================] - 16s 27ms/sample - loss: 0.0220 - accuracy: 0.9909 - val_loss: 0.0554 - val_accuracy: 0.9852\n",
      "Epoch 29/100\n",
      "606/606 [==============================] - 16s 27ms/sample - loss: 0.0218 - accuracy: 0.9909 - val_loss: 0.0506 - val_accuracy: 0.9857\n",
      "Epoch 30/100\n",
      "604/606 [============================>.] - ETA: 0s - loss: 0.0217 - accuracy: 0.9910INFO:tensorflow:Assets written to: ../Model/assets\n",
      "606/606 [==============================] - 21s 34ms/sample - loss: 0.0216 - accuracy: 0.9910 - val_loss: 0.0479 - val_accuracy: 0.9858\n",
      "Epoch 31/100\n",
      "606/606 [==============================] - 16s 26ms/sample - loss: 0.0218 - accuracy: 0.9910 - val_loss: 0.0550 - val_accuracy: 0.9857\n",
      "Epoch 32/100\n",
      "606/606 [==============================] - 16s 27ms/sample - loss: 0.0213 - accuracy: 0.9911 - val_loss: 0.0473 - val_accuracy: 0.9858\n",
      "Epoch 33/100\n",
      "606/606 [==============================] - 16s 27ms/sample - loss: 0.0210 - accuracy: 0.9912 - val_loss: 0.0481 - val_accuracy: 0.9855\n",
      "Epoch 34/100\n",
      "606/606 [==============================] - 16s 27ms/sample - loss: 0.0210 - accuracy: 0.9913 - val_loss: 0.0440 - val_accuracy: 0.9851\n",
      "Epoch 35/100\n",
      "604/606 [============================>.] - ETA: 0s - loss: 0.0207 - accuracy: 0.9914INFO:tensorflow:Assets written to: ../Model/assets\n",
      "606/606 [==============================] - 21s 34ms/sample - loss: 0.0207 - accuracy: 0.9914 - val_loss: 0.0511 - val_accuracy: 0.9859\n",
      "Epoch 36/100\n",
      "604/606 [============================>.] - ETA: 0s - loss: 0.0204 - accuracy: 0.9915INFO:tensorflow:Assets written to: ../Model/assets\n",
      "606/606 [==============================] - 21s 34ms/sample - loss: 0.0204 - accuracy: 0.9915 - val_loss: 0.0484 - val_accuracy: 0.9859\n",
      "Epoch 37/100\n",
      "606/606 [==============================] - 16s 26ms/sample - loss: 0.0205 - accuracy: 0.9915 - val_loss: 0.0558 - val_accuracy: 0.9854\n",
      "Epoch 38/100\n",
      "606/606 [==============================] - 16s 27ms/sample - loss: 0.0204 - accuracy: 0.9915 - val_loss: 0.0508 - val_accuracy: 0.9853\n",
      "Epoch 39/100\n",
      "602/606 [============================>.] - ETA: 0s - loss: 0.0201 - accuracy: 0.9916INFO:tensorflow:Assets written to: ../Model/assets\n",
      "606/606 [==============================] - 21s 34ms/sample - loss: 0.0201 - accuracy: 0.9916 - val_loss: 0.0508 - val_accuracy: 0.9860\n",
      "Epoch 40/100\n",
      "606/606 [==============================] - 16s 26ms/sample - loss: 0.0201 - accuracy: 0.9916 - val_loss: 0.0542 - val_accuracy: 0.9852\n",
      "Epoch 41/100\n"
     ]
    },
    {
     "name": "stdout",
     "output_type": "stream",
     "text": [
      "606/606 [==============================] - 16s 27ms/sample - loss: 0.0190 - accuracy: 0.9920 - val_loss: 0.0526 - val_accuracy: 0.9855\n",
      "Epoch 42/100\n",
      "606/606 [==============================] - 16s 27ms/sample - loss: 0.0190 - accuracy: 0.9920 - val_loss: 0.0574 - val_accuracy: 0.9856\n",
      "Epoch 43/100\n",
      "606/606 [==============================] - 16s 27ms/sample - loss: 0.0194 - accuracy: 0.9919 - val_loss: 0.0511 - val_accuracy: 0.9858\n",
      "Epoch 44/100\n",
      "606/606 [==============================] - 16s 27ms/sample - loss: 0.0191 - accuracy: 0.9920 - val_loss: 0.0451 - val_accuracy: 0.9855\n",
      "Epoch 45/100\n",
      "606/606 [==============================] - 16s 26ms/sample - loss: 0.0191 - accuracy: 0.9920 - val_loss: 0.0513 - val_accuracy: 0.9854\n",
      "Epoch 46/100\n",
      "606/606 [==============================] - 16s 27ms/sample - loss: 0.0192 - accuracy: 0.9920 - val_loss: 0.0536 - val_accuracy: 0.9858\n",
      "Epoch 47/100\n",
      "606/606 [==============================] - 16s 27ms/sample - loss: 0.0194 - accuracy: 0.9920 - val_loss: 0.0441 - val_accuracy: 0.9856\n",
      "Epoch 48/100\n",
      "604/606 [============================>.] - ETA: 0s - loss: 0.0186 - accuracy: 0.9923INFO:tensorflow:Assets written to: ../Model/assets\n",
      "606/606 [==============================] - 22s 36ms/sample - loss: 0.0185 - accuracy: 0.9923 - val_loss: 0.0493 - val_accuracy: 0.9862\n",
      "Epoch 49/100\n",
      "606/606 [==============================] - 16s 26ms/sample - loss: 0.0182 - accuracy: 0.9924 - val_loss: 0.0552 - val_accuracy: 0.9855\n",
      "Epoch 50/100\n",
      "606/606 [==============================] - 16s 27ms/sample - loss: 0.0182 - accuracy: 0.9924 - val_loss: 0.0536 - val_accuracy: 0.9862\n",
      "Epoch 51/100\n",
      "606/606 [==============================] - 16s 26ms/sample - loss: 0.0189 - accuracy: 0.9921 - val_loss: 0.0533 - val_accuracy: 0.9845\n",
      "Epoch 52/100\n",
      "606/606 [==============================] - 16s 27ms/sample - loss: 0.0185 - accuracy: 0.9923 - val_loss: 0.0531 - val_accuracy: 0.9856\n",
      "Epoch 53/100\n",
      "606/606 [==============================] - 16s 27ms/sample - loss: 0.0183 - accuracy: 0.9924 - val_loss: 0.0578 - val_accuracy: 0.9834\n",
      "Epoch 54/100\n",
      "606/606 [==============================] - 16s 27ms/sample - loss: 0.0200 - accuracy: 0.9917 - val_loss: 0.0498 - val_accuracy: 0.9860\n",
      "Epoch 55/100\n",
      "606/606 [==============================] - 16s 27ms/sample - loss: 0.0189 - accuracy: 0.9921 - val_loss: 0.0540 - val_accuracy: 0.9852\n",
      "Epoch 56/100\n",
      "606/606 [==============================] - 16s 27ms/sample - loss: 0.0184 - accuracy: 0.9923 - val_loss: 0.0525 - val_accuracy: 0.9859\n",
      "Epoch 57/100\n",
      "604/606 [============================>.] - ETA: 0s - loss: 0.0183 - accuracy: 0.9924INFO:tensorflow:Assets written to: ../Model/assets\n",
      "606/606 [==============================] - 21s 34ms/sample - loss: 0.0183 - accuracy: 0.9924 - val_loss: 0.0545 - val_accuracy: 0.9863\n",
      "Epoch 58/100\n",
      "606/606 [==============================] - 16s 26ms/sample - loss: 0.0180 - accuracy: 0.9925 - val_loss: 0.0570 - val_accuracy: 0.9848\n",
      "Epoch 59/100\n",
      "606/606 [==============================] - 16s 27ms/sample - loss: 0.0179 - accuracy: 0.9925 - val_loss: 0.0545 - val_accuracy: 0.9855\n",
      "Epoch 60/100\n",
      "602/606 [============================>.] - ETA: 0s - loss: 0.0172 - accuracy: 0.9927Restoring model weights from the end of the best epoch.\n",
      "606/606 [==============================] - 16s 27ms/sample - loss: 0.0173 - accuracy: 0.9927 - val_loss: 0.0554 - val_accuracy: 0.9854\n",
      "Epoch 00060: early stopping\n"
     ]
    }
   ],
   "source": [
    "history = unet.fit(train_images, train_masks, validation_data = (val_images, val_masks), batch_size = batch_size, epochs=number_epochs, callbacks=[early_stopping, model_checkpoint])"
   ]
  },
  {
   "cell_type": "code",
   "execution_count": 5,
   "metadata": {
    "id": "CbpnxqaAYnfU"
   },
   "outputs": [
    {
     "data": {
      "image/png": "[encoded data removed]",
      "text/plain": [
       "<Figure size 432x288 with 1 Axes>"
      ]
     },
     "metadata": {
      "needs_background": "light"
     },
     "output_type": "display_data"
    },
    {
     "data": {
      "image/png": "[encoded data removed]",
      "text/plain": [
       "<Figure size 432x288 with 1 Axes>"
      ]
     },
     "metadata": {
      "needs_background": "light"
     },
     "output_type": "display_data"
    }
   ],
   "source": [
    "import matplotlib.pyplot as plt\n",
    "\n",
    "def plot_history(history):\n",
    "    plt.plot(history.history['accuracy'])\n",
    "    plt.plot(history.history['val_accuracy'])\n",
    "    plt.title('Model Accuracy')\n",
    "    plt.ylabel('Accuracy')\n",
    "    plt.xlabel('Epoch')\n",
    "    plt.legend(['Train', 'Validation'])\n",
    "    plt.show()\n",
    "\n",
    "    plt.plot(history.history['loss'])\n",
    "    plt.plot(history.history['val_loss'])\n",
    "    plt.title('Model Loss')\n",
    "    plt.ylabel('Loss')\n",
    "    plt.xlabel('Epoch')\n",
    "    plt.legend(['Train', 'Validation'])\n",
    "    plt.show()\n",
    "    \n",
    "plot_history(history)"
   ]
  },
  {
   "cell_type": "code",
   "execution_count": 6,
   "metadata": {},
   "outputs": [
    {
     "name": "stdout",
     "output_type": "stream",
     "text": [
      "510/510 [==============================] - 6s 11ms/sample - loss: 0.0291 - accuracy: 0.9891\n"
     ]
    }
   ],
   "source": [
    "unet.evaluate(test_images, test_masks);"
   ]
  }
 ],
 "metadata": {
  "colab": {
   "collapsed_sections": [],
   "name": "UNET Distortion.ipynb",
   "version": ""
  },
  "kernelspec": {
   "display_name": "Python 3",
   "language": "python",
   "name": "python3"
  },
  "language_info": {
   "codemirror_mode": {
    "name": "ipython",
    "version": 3
   },
   "file_extension": ".py",
   "mimetype": "text/x-python",
   "name": "python",
   "nbconvert_exporter": "python",
   "pygments_lexer": "ipython3",
   "version": "3.7.9"
  }
 },
 "nbformat": 4,
 "nbformat_minor": 1
}
