{
 "cells": [
  {
   "cell_type": "markdown",
   "metadata": {},
   "source": [
    "# Training of UNET"
   ]
  },
  {
   "cell_type": "markdown",
   "metadata": {},
   "source": [
    "The aim of this notebook is to train two times the UNET model, once using the training data with simple data augmentations (rotation by multiples of 90 degrees, horizontal and vertical flips), and the second time with said data augmentation and distortions added to the training data (non-uniform illumination and gaussian noise)."
   ]
  },
  {
   "cell_type": "markdown",
   "metadata": {},
   "source": [
    "### $\\bullet$ Importing libraries and utilitary functions"
   ]
  },
  {
   "cell_type": "code",
   "execution_count": 1,
   "metadata": {},
   "outputs": [],
   "source": [
    "# Import python libraries.\n",
    "import matplotlib.pyplot as plt\n",
    "%matplotlib inline\n",
    "import numpy as np\n",
    "%load_ext autoreload\n",
    "%autoreload 2\n",
    "import os\n",
    "os.environ['TF_CPP_MIN_LOG_LEVEL'] = '1'\n",
    "import tensorflow\n",
    "from tensorflow.keras.callbacks import EarlyStopping, ModelCheckpoint\n",
    "\n",
    "# Import utilitary functions and module defining the Unet model.\n",
    "from utils import get_dataset_from_folders\n",
    "from train_data_augmentation import make_train_generator\n",
    "from unet import Unet\n",
    "from plots import plot_history"
   ]
  },
  {
   "cell_type": "code",
   "execution_count": 2,
   "metadata": {},
   "outputs": [],
   "source": [
    "# Set seeds of random number generators to guarantee reproducibility.\n",
    "np.random.seed(1)\n",
    "tensorflow.random.set_seed(2)"
   ]
  },
  {
   "cell_type": "markdown",
   "metadata": {},
   "source": [
    "### $\\bullet$ Setting size of the input image and different paths"
   ]
  },
  {
   "cell_type": "code",
   "execution_count": 3,
   "metadata": {
    "colab": {
     "background_save": true
    },
    "executionInfo": {
     "elapsed": 3866,
     "status": "ok",
     "timestamp": 1605116263978,
     "user": {
      "displayName": "EPFLML2020 GoodLastName",
      "photoUrl": "",
      "userId": "08441615881122576683"
     },
     "user_tz": -60
    },
    "id": "oFUJJMwMalBG"
   },
   "outputs": [],
   "source": [
    "# Shape of the inputs of the deep network.\n",
    "images_shape = (256, 256, 1)\n",
    "\n",
    "# Variables defining the path to the dataset.\n",
    "train_input_path  = '../Dataset/train/input/'\n",
    "train_output_path = '../Dataset/train/output/'\n",
    "val_input_path    = '../Dataset/validation/input/'\n",
    "val_output_path   = '../Dataset/validation/output/'\n",
    "test_input_path   = '../Dataset/test/input/'\n",
    "test_output_path  = '../Dataset/test/output/'\n",
    "\n",
    "# Variable defining where models will be stored.\n",
    "unet_original_save_path       = \"../Models/Unet Original/\"\n",
    "unet_data_augmented_save_path = \"../Models/Unet Data Augmented/\"\n",
    "unet_data_distorted_save_path = \"../Models/Unet Data Distorted/\""
   ]
  },
  {
   "cell_type": "markdown",
   "metadata": {},
   "source": [
    "### $\\bullet$ Load images from the dataset"
   ]
  },
  {
   "cell_type": "code",
   "execution_count": 4,
   "metadata": {
    "colab": {
     "base_uri": "https://localhost:8080/"
    },
    "executionInfo": {
     "elapsed": 7175,
     "status": "ok",
     "timestamp": 1605116267655,
     "user": {
      "displayName": "EPFLML2020 GoodLastName",
      "photoUrl": "",
      "userId": "08441615881122576683"
     },
     "user_tz": -60
    },
    "id": "5kRpcG_R9SvH",
    "outputId": "0f533a82-ba05-4b2a-d4c8-eeb691e26ae0"
   },
   "outputs": [
    {
     "name": "stdout",
     "output_type": "stream",
     "text": [
      "Training set contains 606 images.\n",
      "Validation set contains 96 images.\n",
      "Test set contains 510 images.\n"
     ]
    }
   ],
   "source": [
    "train_images, train_masks = get_dataset_from_folders(train_input_path, train_output_path, images_shape)\n",
    "val_images, val_masks = get_dataset_from_folders(val_input_path, val_output_path, images_shape)\n",
    "test_images, test_masks = get_dataset_from_folders(test_input_path, test_output_path, images_shape)\n",
    "\n",
    "print(f'Training set contains {len(train_images)} images.')\n",
    "print(f'Validation set contains {len(val_images)} images.')\n",
    "print(f'Test set contains {len(test_images)} images.')"
   ]
  },
  {
   "cell_type": "markdown",
   "metadata": {},
   "source": [
    "### $\\bullet$ Training original model which used no data augmentations"
   ]
  },
  {
   "cell_type": "code",
   "execution_count": 5,
   "metadata": {},
   "outputs": [
    {
     "name": "stdout",
     "output_type": "stream",
     "text": [
      "Model: \"model\"\n",
      "__________________________________________________________________________________________________\n",
      "Layer (type)                    Output Shape         Param #     Connected to                     \n",
      "==================================================================================================\n",
      "input_1 (InputLayer)            [(None, 256, 256, 1) 0                                            \n",
      "__________________________________________________________________________________________________\n",
      "conv2d (Conv2D)                 (None, 256, 256, 16) 160         input_1[0][0]                    \n",
      "__________________________________________________________________________________________________\n",
      "conv2d_1 (Conv2D)               (None, 256, 256, 16) 2320        conv2d[0][0]                     \n",
      "__________________________________________________________________________________________________\n",
      "dropout (Dropout)               (None, 256, 256, 16) 0           conv2d_1[0][0]                   \n",
      "__________________________________________________________________________________________________\n",
      "average_pooling2d (AveragePooli (None, 128, 128, 16) 0           dropout[0][0]                    \n",
      "__________________________________________________________________________________________________\n",
      "conv2d_2 (Conv2D)               (None, 128, 128, 32) 4640        average_pooling2d[0][0]          \n",
      "__________________________________________________________________________________________________\n",
      "conv2d_3 (Conv2D)               (None, 128, 128, 32) 9248        conv2d_2[0][0]                   \n",
      "__________________________________________________________________________________________________\n",
      "dropout_1 (Dropout)             (None, 128, 128, 32) 0           conv2d_3[0][0]                   \n",
      "__________________________________________________________________________________________________\n",
      "average_pooling2d_1 (AveragePoo (None, 64, 64, 32)   0           dropout_1[0][0]                  \n",
      "__________________________________________________________________________________________________\n",
      "conv2d_4 (Conv2D)               (None, 64, 64, 64)   18496       average_pooling2d_1[0][0]        \n",
      "__________________________________________________________________________________________________\n",
      "conv2d_5 (Conv2D)               (None, 64, 64, 64)   36928       conv2d_4[0][0]                   \n",
      "__________________________________________________________________________________________________\n",
      "dropout_2 (Dropout)             (None, 64, 64, 64)   0           conv2d_5[0][0]                   \n",
      "__________________________________________________________________________________________________\n",
      "average_pooling2d_2 (AveragePoo (None, 32, 32, 64)   0           dropout_2[0][0]                  \n",
      "__________________________________________________________________________________________________\n",
      "conv2d_6 (Conv2D)               (None, 32, 32, 128)  73856       average_pooling2d_2[0][0]        \n",
      "__________________________________________________________________________________________________\n",
      "conv2d_7 (Conv2D)               (None, 32, 32, 128)  147584      conv2d_6[0][0]                   \n",
      "__________________________________________________________________________________________________\n",
      "dropout_3 (Dropout)             (None, 32, 32, 128)  0           conv2d_7[0][0]                   \n",
      "__________________________________________________________________________________________________\n",
      "conv2d_transpose (Conv2DTranspo (None, 64, 64, 64)   32832       dropout_3[0][0]                  \n",
      "__________________________________________________________________________________________________\n",
      "concatenate (Concatenate)       (None, 64, 64, 128)  0           dropout_2[0][0]                  \n",
      "                                                                 conv2d_transpose[0][0]           \n",
      "__________________________________________________________________________________________________\n",
      "conv2d_8 (Conv2D)               (None, 64, 64, 64)   73792       concatenate[0][0]                \n",
      "__________________________________________________________________________________________________\n",
      "conv2d_9 (Conv2D)               (None, 64, 64, 64)   36928       conv2d_8[0][0]                   \n",
      "__________________________________________________________________________________________________\n",
      "dropout_4 (Dropout)             (None, 64, 64, 64)   0           conv2d_9[0][0]                   \n",
      "__________________________________________________________________________________________________\n",
      "conv2d_transpose_1 (Conv2DTrans (None, 128, 128, 32) 8224        dropout_4[0][0]                  \n",
      "__________________________________________________________________________________________________\n",
      "concatenate_1 (Concatenate)     (None, 128, 128, 64) 0           dropout_1[0][0]                  \n",
      "                                                                 conv2d_transpose_1[0][0]         \n",
      "__________________________________________________________________________________________________\n",
      "conv2d_10 (Conv2D)              (None, 128, 128, 32) 18464       concatenate_1[0][0]              \n",
      "__________________________________________________________________________________________________\n",
      "conv2d_11 (Conv2D)              (None, 128, 128, 32) 9248        conv2d_10[0][0]                  \n",
      "__________________________________________________________________________________________________\n",
      "dropout_5 (Dropout)             (None, 128, 128, 32) 0           conv2d_11[0][0]                  \n",
      "__________________________________________________________________________________________________\n",
      "conv2d_transpose_2 (Conv2DTrans (None, 256, 256, 16) 2064        dropout_5[0][0]                  \n",
      "__________________________________________________________________________________________________\n",
      "concatenate_2 (Concatenate)     (None, 256, 256, 32) 0           dropout[0][0]                    \n",
      "                                                                 conv2d_transpose_2[0][0]         \n",
      "__________________________________________________________________________________________________\n",
      "conv2d_12 (Conv2D)              (None, 256, 256, 16) 4624        concatenate_2[0][0]              \n",
      "__________________________________________________________________________________________________\n",
      "conv2d_13 (Conv2D)              (None, 256, 256, 16) 2320        conv2d_12[0][0]                  \n",
      "__________________________________________________________________________________________________\n",
      "dropout_6 (Dropout)             (None, 256, 256, 16) 0           conv2d_13[0][0]                  \n",
      "__________________________________________________________________________________________________\n",
      "conv2d_14 (Conv2D)              (None, 256, 256, 1)  17          dropout_6[0][0]                  \n",
      "==================================================================================================\n",
      "Total params: 481,745\n",
      "Trainable params: 481,745\n",
      "Non-trainable params: 0\n",
      "__________________________________________________________________________________________________\n"
     ]
    }
   ],
   "source": [
    "# Setting up parameters used for training\n",
    "number_epochs = 100\n",
    "batch_size = 2\n",
    "early_stopping = EarlyStopping(patience=50, verbose=1, restore_best_weights=True)\n",
    "model_checkpoint = ModelCheckpoint(filepath=unet_original_save_path, save_weights_only=False, monitor='val_accuracy', mode='max', save_best_only=True)\n",
    "\n",
    "# Building Unet model.\n",
    "model = Unet(images_shape, show_summary=True)"
   ]
  },
  {
   "cell_type": "code",
   "execution_count": 6,
   "metadata": {
    "scrolled": false
   },
   "outputs": [
    {
     "name": "stdout",
     "output_type": "stream",
     "text": [
      "Train on 606 samples, validate on 96 samples\n",
      "Epoch 1/100\n",
      "604/606 [============================>.] - ETA: 0s - loss: 0.8820 - accuracy: 0.9413WARNING:tensorflow:From C:\\Anaconda3\\lib\\site-packages\\tensorflow_core\\python\\ops\\resource_variable_ops.py:1786: calling BaseResourceVariable.__init__ (from tensorflow.python.ops.resource_variable_ops) with constraint is deprecated and will be removed in a future version.\n",
      "Instructions for updating:\n",
      "If using Keras pass *_constraint arguments to layers.\n",
      "INFO:tensorflow:Assets written to: ../Models/Unet Original/assets\n",
      "606/606 [==============================] - 23s 39ms/sample - loss: 0.8793 - accuracy: 0.9414 - val_loss: 0.0658 - val_accuracy: 0.9740\n",
      "Epoch 2/100\n",
      "604/606 [============================>.] - ETA: 0s - loss: 0.0654 - accuracy: 0.9752INFO:tensorflow:Assets written to: ../Models/Unet Original/assets\n",
      "606/606 [==============================] - 19s 32ms/sample - loss: 0.0653 - accuracy: 0.9752 - val_loss: 0.0502 - val_accuracy: 0.9807\n",
      "Epoch 3/100\n",
      "602/606 [============================>.] - ETA: 0s - loss: 0.0563 - accuracy: 0.9783INFO:tensorflow:Assets written to: ../Models/Unet Original/assets\n",
      "606/606 [==============================] - 19s 32ms/sample - loss: 0.0563 - accuracy: 0.9783 - val_loss: 0.0464 - val_accuracy: 0.9821\n",
      "Epoch 4/100\n",
      "604/606 [============================>.] - ETA: 0s - loss: 0.0516 - accuracy: 0.9799INFO:tensorflow:Assets written to: ../Models/Unet Original/assets\n",
      "606/606 [==============================] - 19s 32ms/sample - loss: 0.0516 - accuracy: 0.9799 - val_loss: 0.0463 - val_accuracy: 0.9825\n",
      "Epoch 5/100\n",
      "604/606 [============================>.] - ETA: 0s - loss: 0.0482 - accuracy: 0.9809INFO:tensorflow:Assets written to: ../Models/Unet Original/assets\n",
      "606/606 [==============================] - 19s 32ms/sample - loss: 0.0481 - accuracy: 0.9809 - val_loss: 0.0441 - val_accuracy: 0.9826\n",
      "Epoch 6/100\n",
      "606/606 [==============================] - 15s 25ms/sample - loss: 0.0446 - accuracy: 0.9823 - val_loss: 0.0447 - val_accuracy: 0.9823\n",
      "Epoch 7/100\n",
      "602/606 [============================>.] - ETA: 0s - loss: 0.0419 - accuracy: 0.9835INFO:tensorflow:Assets written to: ../Models/Unet Original/assets\n",
      "606/606 [==============================] - 19s 32ms/sample - loss: 0.0419 - accuracy: 0.9835 - val_loss: 0.0420 - val_accuracy: 0.9837\n",
      "Epoch 8/100\n",
      "606/606 [==============================] - 15s 25ms/sample - loss: 0.0405 - accuracy: 0.9841 - val_loss: 0.0437 - val_accuracy: 0.9825\n",
      "Epoch 9/100\n",
      "606/606 [==============================] - 15s 25ms/sample - loss: 0.0387 - accuracy: 0.9847 - val_loss: 0.0436 - val_accuracy: 0.9832\n",
      "Epoch 10/100\n",
      "606/606 [==============================] - 15s 25ms/sample - loss: 0.0370 - accuracy: 0.9853 - val_loss: 0.0463 - val_accuracy: 0.9821\n",
      "Epoch 11/100\n",
      "602/606 [============================>.] - ETA: 0s - loss: 0.0357 - accuracy: 0.9857INFO:tensorflow:Assets written to: ../Models/Unet Original/assets\n",
      "606/606 [==============================] - 20s 33ms/sample - loss: 0.0358 - accuracy: 0.9857 - val_loss: 0.0444 - val_accuracy: 0.9839\n",
      "Epoch 12/100\n",
      "606/606 [==============================] - 15s 25ms/sample - loss: 0.0347 - accuracy: 0.9860 - val_loss: 0.0462 - val_accuracy: 0.9835\n",
      "Epoch 13/100\n",
      "606/606 [==============================] - 15s 25ms/sample - loss: 0.0331 - accuracy: 0.9867 - val_loss: 0.0475 - val_accuracy: 0.9830\n",
      "Epoch 14/100\n",
      "606/606 [==============================] - 15s 26ms/sample - loss: 0.0322 - accuracy: 0.9870 - val_loss: 0.0464 - val_accuracy: 0.9828\n",
      "Epoch 15/100\n",
      "606/606 [==============================] - 16s 26ms/sample - loss: 0.0309 - accuracy: 0.9875 - val_loss: 0.0509 - val_accuracy: 0.9833\n",
      "Epoch 16/100\n",
      "606/606 [==============================] - 16s 26ms/sample - loss: 0.0300 - accuracy: 0.9878 - val_loss: 0.0514 - val_accuracy: 0.9832\n",
      "Epoch 17/100\n",
      "604/606 [============================>.] - ETA: 0s - loss: 0.0297 - accuracy: 0.98 - ETA: 0s - loss: 0.0297 - accuracy: 0.9878INFO:tensorflow:Assets written to: ../Models/Unet Original/assets\n",
      "606/606 [==============================] - 20s 33ms/sample - loss: 0.0297 - accuracy: 0.9878 - val_loss: 0.0487 - val_accuracy: 0.9845\n",
      "Epoch 18/100\n",
      "606/606 [==============================] - 16s 26ms/sample - loss: 0.0287 - accuracy: 0.9882 - val_loss: 0.0479 - val_accuracy: 0.9838\n",
      "Epoch 19/100\n",
      "604/606 [============================>.] - ETA: 0s - loss: 0.0279 - accuracy: 0.9885 ETA: 0s - loss: 0.0278 - accuINFO:tensorflow:Assets written to: ../Models/Unet Original/assets\n",
      "606/606 [==============================] - 20s 33ms/sample - loss: 0.0278 - accuracy: 0.9885 - val_loss: 0.0538 - val_accuracy: 0.9845\n",
      "Epoch 20/100\n",
      "606/606 [==============================] - 15s 25ms/sample - loss: 0.0273 - accuracy: 0.9887 - val_loss: 0.0506 - val_accuracy: 0.9838\n",
      "Epoch 21/100\n",
      "606/606 [==============================] - 15s 25ms/sample - loss: 0.0265 - accuracy: 0.9890 - val_loss: 0.0555 - val_accuracy: 0.9836\n",
      "Epoch 22/100\n",
      "606/606 [==============================] - 16s 26ms/sample - loss: 0.0259 - accuracy: 0.9892 - val_loss: 0.0503 - val_accuracy: 0.9832\n",
      "Epoch 23/100\n",
      "606/606 [==============================] - 16s 26ms/sample - loss: 0.0259 - accuracy: 0.9892 - val_loss: 0.0497 - val_accuracy: 0.9838\n",
      "Epoch 24/100\n",
      "606/606 [==============================] - 16s 26ms/sample - loss: 0.0249 - accuracy: 0.9896 - val_loss: 0.0550 - val_accuracy: 0.9841\n",
      "Epoch 25/100\n",
      "606/606 [==============================] - 16s 26ms/sample - loss: 0.0248 - accuracy: 0.9896 - val_loss: 0.0633 - val_accuracy: 0.9844\n",
      "Epoch 26/100\n",
      "606/606 [==============================] - 16s 26ms/sample - loss: 0.0238 - accuracy: 0.9900 - val_loss: 0.0589 - val_accuracy: 0.9828\n",
      "Epoch 27/100\n",
      "606/606 [==============================] - 16s 26ms/sample - loss: 0.0239 - accuracy: 0.9900 - val_loss: 0.0577 - val_accuracy: 0.9834\n",
      "Epoch 28/100\n",
      "606/606 [==============================] - 16s 26ms/sample - loss: 0.0237 - accuracy: 0.9901 - val_loss: 0.0611 - val_accuracy: 0.9838\n",
      "Epoch 29/100\n",
      "604/606 [============================>.] - ETA: 0s - loss: 0.0230 - accuracy: 0.9903INFO:tensorflow:Assets written to: ../Models/Unet Original/assets\n",
      "606/606 [==============================] - 20s 34ms/sample - loss: 0.0230 - accuracy: 0.9903 - val_loss: 0.0532 - val_accuracy: 0.9847\n",
      "Epoch 30/100\n",
      "606/606 [==============================] - 16s 26ms/sample - loss: 0.0229 - accuracy: 0.9904 - val_loss: 0.0585 - val_accuracy: 0.9839\n",
      "Epoch 31/100\n",
      "606/606 [==============================] - 16s 26ms/sample - loss: 0.0227 - accuracy: 0.9905 - val_loss: 0.0630 - val_accuracy: 0.9843\n",
      "Epoch 32/100\n",
      "606/606 [==============================] - 16s 26ms/sample - loss: 0.0225 - accuracy: 0.9905 - val_loss: 0.0577 - val_accuracy: 0.9843\n",
      "Epoch 33/100\n",
      "606/606 [==============================] - 16s 26ms/sample - loss: 0.0221 - accuracy: 0.9907 - val_loss: 0.0648 - val_accuracy: 0.9841\n",
      "Epoch 34/100\n",
      "606/606 [==============================] - 16s 26ms/sample - loss: 0.0223 - accuracy: 0.9907 - val_loss: 0.0655 - val_accuracy: 0.9843\n",
      "Epoch 35/100\n",
      "606/606 [==============================] - 16s 26ms/sample - loss: 0.0218 - accuracy: 0.9909 - val_loss: 0.0620 - val_accuracy: 0.9836\n",
      "Epoch 36/100\n",
      "606/606 [==============================] - 16s 27ms/sample - loss: 0.0218 - accuracy: 0.9909 - val_loss: 0.0546 - val_accuracy: 0.9837\n",
      "Epoch 37/100\n",
      "606/606 [==============================] - 16s 27ms/sample - loss: 0.0214 - accuracy: 0.9910 - val_loss: 0.0595 - val_accuracy: 0.9845\n",
      "Epoch 38/100\n",
      "606/606 [==============================] - 16s 27ms/sample - loss: 0.0229 - accuracy: 0.9905 - val_loss: 0.0660 - val_accuracy: 0.9742\n",
      "Epoch 39/100\n",
      "606/606 [==============================] - 16s 27ms/sample - loss: 0.0262 - accuracy: 0.9891 - val_loss: 0.0548 - val_accuracy: 0.9836\n",
      "Epoch 40/100\n",
      "606/606 [==============================] - 16s 27ms/sample - loss: 0.0220 - accuracy: 0.9907 - val_loss: 0.0576 - val_accuracy: 0.9841\n",
      "Epoch 41/100\n",
      "606/606 [==============================] - 16s 27ms/sample - loss: 0.0215 - accuracy: 0.9910 - val_loss: 0.0587 - val_accuracy: 0.9833\n",
      "Epoch 42/100\n"
     ]
    },
    {
     "name": "stdout",
     "output_type": "stream",
     "text": [
      "606/606 [==============================] - 16s 27ms/sample - loss: 0.0217 - accuracy: 0.9909 - val_loss: 0.0609 - val_accuracy: 0.9840\n",
      "Epoch 43/100\n",
      "606/606 [==============================] - 16s 27ms/sample - loss: 0.0209 - accuracy: 0.9912 - val_loss: 0.0619 - val_accuracy: 0.9836\n",
      "Epoch 44/100\n",
      "606/606 [==============================] - 16s 27ms/sample - loss: 0.0203 - accuracy: 0.9914 - val_loss: 0.0604 - val_accuracy: 0.9842\n",
      "Epoch 45/100\n",
      "604/606 [============================>.] - ETA: 0s - loss: 0.0205 - accuracy: 0.9913INFO:tensorflow:Assets written to: ../Models/Unet Original/assets\n",
      "606/606 [==============================] - 21s 34ms/sample - loss: 0.0205 - accuracy: 0.9913 - val_loss: 0.0634 - val_accuracy: 0.9849\n",
      "Epoch 46/100\n",
      "606/606 [==============================] - 16s 26ms/sample - loss: 0.0204 - accuracy: 0.9915 - val_loss: 0.0535 - val_accuracy: 0.9832\n",
      "Epoch 47/100\n",
      "606/606 [==============================] - 16s 27ms/sample - loss: 0.0200 - accuracy: 0.9916 - val_loss: 0.0610 - val_accuracy: 0.9843\n",
      "Epoch 48/100\n",
      "606/606 [==============================] - 16s 27ms/sample - loss: 0.0196 - accuracy: 0.9918 - val_loss: 0.0598 - val_accuracy: 0.9845\n",
      "Epoch 49/100\n",
      "604/606 [============================>.] - ETA: 0s - loss: 0.0190 - accuracy: 0.9920INFO:tensorflow:Assets written to: ../Models/Unet Original/assets\n",
      "606/606 [==============================] - 21s 34ms/sample - loss: 0.0190 - accuracy: 0.9920 - val_loss: 0.0560 - val_accuracy: 0.9849\n",
      "Epoch 50/100\n",
      "606/606 [==============================] - 16s 26ms/sample - loss: 0.0193 - accuracy: 0.9918 - val_loss: 0.0582 - val_accuracy: 0.9848\n",
      "Epoch 51/100\n",
      "606/606 [==============================] - 16s 26ms/sample - loss: 0.0195 - accuracy: 0.9918 - val_loss: 0.0635 - val_accuracy: 0.9838\n",
      "Epoch 52/100\n",
      "606/606 [==============================] - 16s 27ms/sample - loss: 0.0192 - accuracy: 0.9919 - val_loss: 0.0644 - val_accuracy: 0.9836\n",
      "Epoch 53/100\n",
      "606/606 [==============================] - 16s 27ms/sample - loss: 0.0192 - accuracy: 0.9919 - val_loss: 0.0589 - val_accuracy: 0.9845\n",
      "Epoch 54/100\n",
      "606/606 [==============================] - 16s 27ms/sample - loss: 0.0189 - accuracy: 0.9921 - val_loss: 0.0561 - val_accuracy: 0.9842\n",
      "Epoch 55/100\n",
      "606/606 [==============================] - 16s 27ms/sample - loss: 0.0181 - accuracy: 0.9924 - val_loss: 0.0601 - val_accuracy: 0.9846\n",
      "Epoch 56/100\n",
      "606/606 [==============================] - 17s 27ms/sample - loss: 0.0185 - accuracy: 0.9922 - val_loss: 0.0580 - val_accuracy: 0.9846\n",
      "Epoch 57/100\n",
      "604/606 [============================>.] - ETA: 0s - loss: 0.0183 - accuracy: 0.9923Restoring model weights from the end of the best epoch.\n",
      "INFO:tensorflow:Assets written to: ../Models/Unet Original/assets\n",
      "606/606 [==============================] - 21s 35ms/sample - loss: 0.0183 - accuracy: 0.9923 - val_loss: 0.0596 - val_accuracy: 0.9855\n",
      "Epoch 00057: early stopping\n"
     ]
    }
   ],
   "source": [
    "# Training\n",
    "history = model.fit(train_images, train_masks, validation_data = (val_images, val_masks), batch_size = batch_size, epochs=number_epochs, callbacks=[early_stopping, model_checkpoint])"
   ]
  },
  {
   "cell_type": "code",
   "execution_count": 7,
   "metadata": {},
   "outputs": [
    {
     "data": {
      "image/png": "[encoded data removed]",
      "text/plain": [
       "<Figure size 432x288 with 1 Axes>"
      ]
     },
     "metadata": {
      "needs_background": "light"
     },
     "output_type": "display_data"
    },
    {
     "data": {
      "image/png": "[encoded data removed]",
      "text/plain": [
       "<Figure size 432x288 with 1 Axes>"
      ]
     },
     "metadata": {
      "needs_background": "light"
     },
     "output_type": "display_data"
    }
   ],
   "source": [
    "plot_history(history)"
   ]
  },
  {
   "cell_type": "code",
   "execution_count": 8,
   "metadata": {},
   "outputs": [
    {
     "name": "stdout",
     "output_type": "stream",
     "text": [
      "510/510 [==============================] - 6s 12ms/sample - loss: 0.0277 - accuracy: 0.9892\n"
     ]
    }
   ],
   "source": [
    "model.evaluate(test_images, test_masks);"
   ]
  },
  {
   "cell_type": "markdown",
   "metadata": {},
   "source": [
    "### $\\bullet$ Training model using images with simple data augmentations and no distortions"
   ]
  },
  {
   "cell_type": "code",
   "execution_count": 9,
   "metadata": {},
   "outputs": [],
   "source": [
    "# Setting up parameters used for training\n",
    "number_epochs = 200\n",
    "batch_size = 2\n",
    "steps_per_epoch = np.ceil(len(train_images)/batch_size).astype(np.uint)\n",
    "early_stopping = EarlyStopping(patience=80, verbose=1, restore_best_weights=True)\n",
    "model_checkpoint = ModelCheckpoint(filepath=unet_data_augmented_save_path, save_weights_only=False, monitor='val_accuracy', mode='max', save_best_only=True)\n",
    "\n",
    "# Building Unet model.\n",
    "model = Unet(images_shape, show_summary=False)"
   ]
  },
  {
   "cell_type": "code",
   "execution_count": 10,
   "metadata": {
    "id": "ZoO0FYx9Pjl8",
    "scrolled": false
   },
   "outputs": [
    {
     "name": "stdout",
     "output_type": "stream",
     "text": [
      "WARNING:tensorflow:sample_weight modes were coerced from\n",
      "  ...\n",
      "    to  \n",
      "  ['...']\n",
      "Train for 303 steps, validate on 96 samples\n",
      "Epoch 1/200\n",
      "302/303 [============================>.] - ETA: 0s - loss: 0.3767 - accuracy: 0.9504INFO:tensorflow:Assets written to: ../Models/Unet Data Augmented/assets\n",
      "303/303 [==============================] - 22s 72ms/step - loss: 0.3757 - accuracy: 0.9504 - val_loss: 0.0562 - val_accuracy: 0.9795\n",
      "Epoch 2/200\n",
      "301/303 [============================>.] - ETA: 0s - loss: 0.0593 - accuracy: 0.9772INFO:tensorflow:Assets written to: ../Models/Unet Data Augmented/assets\n",
      "303/303 [==============================] - 20s 67ms/step - loss: 0.0592 - accuracy: 0.9772 - val_loss: 0.0473 - val_accuracy: 0.9827\n",
      "Epoch 3/200\n",
      "301/303 [============================>.] - ETA: 0s - loss: 0.0525 - accuracy: 0.9798INFO:tensorflow:Assets written to: ../Models/Unet Data Augmented/assets\n",
      "303/303 [==============================] - 20s 67ms/step - loss: 0.0526 - accuracy: 0.9798 - val_loss: 0.0448 - val_accuracy: 0.9830\n",
      "Epoch 4/200\n",
      "302/303 [============================>.] - ETA: 0s - loss: 0.0499 - accuracy: 0.9807INFO:tensorflow:Assets written to: ../Models/Unet Data Augmented/assets\n",
      "303/303 [==============================] - 20s 68ms/step - loss: 0.0498 - accuracy: 0.9807 - val_loss: 0.0444 - val_accuracy: 0.9836\n",
      "Epoch 5/200\n",
      "302/303 [============================>.] - ETA: 0s - loss: 0.0476 - accuracy: 0.9815INFO:tensorflow:Assets written to: ../Models/Unet Data Augmented/assets\n",
      "303/303 [==============================] - 20s 67ms/step - loss: 0.0476 - accuracy: 0.9814 - val_loss: 0.0421 - val_accuracy: 0.9841\n",
      "Epoch 6/200\n",
      "303/303 [==============================] - 16s 52ms/step - loss: 0.0458 - accuracy: 0.9819 - val_loss: 0.0417 - val_accuracy: 0.9840\n",
      "Epoch 7/200\n",
      "302/303 [============================>.] - ETA: 0s - loss: 0.0450 - accuracy: 0.9822INFO:tensorflow:Assets written to: ../Models/Unet Data Augmented/assets\n",
      "303/303 [==============================] - 20s 68ms/step - loss: 0.0450 - accuracy: 0.9822 - val_loss: 0.0402 - val_accuracy: 0.9846\n",
      "Epoch 8/200\n",
      "303/303 [==============================] - 16s 52ms/step - loss: 0.0434 - accuracy: 0.9826 - val_loss: 0.0402 - val_accuracy: 0.9846\n",
      "Epoch 9/200\n",
      "303/303 [==============================] - 16s 53ms/step - loss: 0.0428 - accuracy: 0.9827 - val_loss: 0.0445 - val_accuracy: 0.9840\n",
      "Epoch 10/200\n",
      "303/303 [==============================] - 16s 54ms/step - loss: 0.0421 - accuracy: 0.9829 - val_loss: 0.0407 - val_accuracy: 0.9843\n",
      "Epoch 11/200\n",
      "303/303 [==============================] - 17s 55ms/step - loss: 0.0413 - accuracy: 0.9832 - val_loss: 0.0412 - val_accuracy: 0.9830\n",
      "Epoch 12/200\n",
      "301/303 [============================>.] - ETA: 0s - loss: 0.0407 - accuracy: 0.9834INFO:tensorflow:Assets written to: ../Models/Unet Data Augmented/assets\n",
      "303/303 [==============================] - 21s 70ms/step - loss: 0.0407 - accuracy: 0.9834 - val_loss: 0.0399 - val_accuracy: 0.9846\n",
      "Epoch 13/200\n",
      "301/303 [============================>.] - ETA: 0s - loss: 0.0400 - accuracy: 0.9837INFO:tensorflow:Assets written to: ../Models/Unet Data Augmented/assets\n",
      "303/303 [==============================] - 20s 68ms/step - loss: 0.0400 - accuracy: 0.9837 - val_loss: 0.0393 - val_accuracy: 0.9848\n",
      "Epoch 14/200\n",
      "302/303 [============================>.] - ETA: 0s - loss: 0.0392 - accuracy: 0.9839INFO:tensorflow:Assets written to: ../Models/Unet Data Augmented/assets\n",
      "303/303 [==============================] - 20s 67ms/step - loss: 0.0392 - accuracy: 0.9839 - val_loss: 0.0388 - val_accuracy: 0.9848\n",
      "Epoch 15/200\n",
      "303/303 [==============================] - 16s 52ms/step - loss: 0.0388 - accuracy: 0.9841 - val_loss: 0.0405 - val_accuracy: 0.9846\n",
      "Epoch 16/200\n",
      "303/303 [==============================] - 16s 53ms/step - loss: 0.0385 - accuracy: 0.9842 - val_loss: 0.0400 - val_accuracy: 0.9839\n",
      "Epoch 17/200\n",
      "303/303 [==============================] - 16s 53ms/step - loss: 0.0378 - accuracy: 0.9845 - val_loss: 0.0407 - val_accuracy: 0.9834\n",
      "Epoch 18/200\n",
      "303/303 [==============================] - 16s 54ms/step - loss: 0.0378 - accuracy: 0.9845 - val_loss: 0.0387 - val_accuracy: 0.9846\n",
      "Epoch 19/200\n",
      "303/303 [==============================] - 16s 54ms/step - loss: 0.0369 - accuracy: 0.9848 - val_loss: 0.0399 - val_accuracy: 0.9847\n",
      "Epoch 20/200\n",
      "302/303 [============================>.] - ETA: 0s - loss: 0.0367 - accuracy: 0.9850INFO:tensorflow:Assets written to: ../Models/Unet Data Augmented/assets\n",
      "303/303 [==============================] - 21s 70ms/step - loss: 0.0367 - accuracy: 0.9850 - val_loss: 0.0384 - val_accuracy: 0.9851\n",
      "Epoch 21/200\n",
      "303/303 [==============================] - 16s 53ms/step - loss: 0.0366 - accuracy: 0.9850 - val_loss: 0.0392 - val_accuracy: 0.9847\n",
      "Epoch 22/200\n",
      "303/303 [==============================] - 16s 53ms/step - loss: 0.0360 - accuracy: 0.9852 - val_loss: 0.0392 - val_accuracy: 0.9850\n",
      "Epoch 23/200\n",
      "302/303 [============================>.] - ETA: 0s - loss: 0.0353 - accuracy: 0.9855INFO:tensorflow:Assets written to: ../Models/Unet Data Augmented/assets\n",
      "303/303 [==============================] - 21s 68ms/step - loss: 0.0353 - accuracy: 0.9855 - val_loss: 0.0372 - val_accuracy: 0.9855\n",
      "Epoch 24/200\n",
      "303/303 [==============================] - 16s 53ms/step - loss: 0.0351 - accuracy: 0.9856 - val_loss: 0.0385 - val_accuracy: 0.9853\n",
      "Epoch 25/200\n",
      "303/303 [==============================] - 16s 53ms/step - loss: 0.0352 - accuracy: 0.9855 - val_loss: 0.0378 - val_accuracy: 0.9849\n",
      "Epoch 26/200\n",
      "303/303 [==============================] - 16s 54ms/step - loss: 0.0344 - accuracy: 0.9859 - val_loss: 0.0395 - val_accuracy: 0.9849\n",
      "Epoch 27/200\n",
      "303/303 [==============================] - 16s 54ms/step - loss: 0.0340 - accuracy: 0.9861 - val_loss: 0.0385 - val_accuracy: 0.9849\n",
      "Epoch 28/200\n",
      "303/303 [==============================] - 17s 55ms/step - loss: 0.0343 - accuracy: 0.9859 - val_loss: 0.0378 - val_accuracy: 0.9849\n",
      "Epoch 29/200\n",
      "303/303 [==============================] - 17s 55ms/step - loss: 0.0338 - accuracy: 0.9861 - val_loss: 0.0380 - val_accuracy: 0.9854\n",
      "Epoch 30/200\n",
      "302/303 [============================>.] - ETA: 0s - loss: 0.0335 - accuracy: 0.9863INFO:tensorflow:Assets written to: ../Models/Unet Data Augmented/assets\n",
      "303/303 [==============================] - 21s 70ms/step - loss: 0.0336 - accuracy: 0.9862 - val_loss: 0.0377 - val_accuracy: 0.9857\n",
      "Epoch 31/200\n",
      "303/303 [==============================] - 16s 53ms/step - loss: 0.0329 - accuracy: 0.9865 - val_loss: 0.0398 - val_accuracy: 0.9844\n",
      "Epoch 32/200\n",
      "303/303 [==============================] - 16s 53ms/step - loss: 0.0329 - accuracy: 0.9865 - val_loss: 0.0408 - val_accuracy: 0.9847\n",
      "Epoch 33/200\n",
      "303/303 [==============================] - 16s 54ms/step - loss: 0.0327 - accuracy: 0.9866 - val_loss: 0.0383 - val_accuracy: 0.9849\n",
      "Epoch 34/200\n",
      "303/303 [==============================] - 16s 54ms/step - loss: 0.0326 - accuracy: 0.9866 - val_loss: 0.0394 - val_accuracy: 0.9840\n",
      "Epoch 35/200\n",
      "303/303 [==============================] - 16s 54ms/step - loss: 0.0324 - accuracy: 0.9866 - val_loss: 0.0391 - val_accuracy: 0.9855\n",
      "Epoch 36/200\n",
      "303/303 [==============================] - 16s 54ms/step - loss: 0.0316 - accuracy: 0.9868 - val_loss: 0.0408 - val_accuracy: 0.9850\n",
      "Epoch 37/200\n",
      "303/303 [==============================] - 17s 55ms/step - loss: 0.0318 - accuracy: 0.9868 - val_loss: 0.0388 - val_accuracy: 0.9852\n",
      "Epoch 38/200\n",
      "303/303 [==============================] - 17s 55ms/step - loss: 0.0315 - accuracy: 0.9869 - val_loss: 0.0387 - val_accuracy: 0.9847\n",
      "Epoch 39/200\n",
      "302/303 [============================>.] - ETA: 0s - loss: 0.0314 - accuracy: 0.9870INFO:tensorflow:Assets written to: ../Models/Unet Data Augmented/assets\n",
      "303/303 [==============================] - 21s 69ms/step - loss: 0.0314 - accuracy: 0.9870 - val_loss: 0.0365 - val_accuracy: 0.9860\n",
      "Epoch 40/200\n",
      "302/303 [============================>.] - ETA: 0s - loss: 0.0308 - accuracy: 0.9872INFO:tensorflow:Assets written to: ../Models/Unet Data Augmented/assets\n",
      "303/303 [==============================] - 21s 68ms/step - loss: 0.0308 - accuracy: 0.9872 - val_loss: 0.0366 - val_accuracy: 0.9862\n",
      "Epoch 41/200\n"
     ]
    },
    {
     "name": "stdout",
     "output_type": "stream",
     "text": [
      "303/303 [==============================] - 16s 53ms/step - loss: 0.0311 - accuracy: 0.9871 - val_loss: 0.0390 - val_accuracy: 0.9860\n",
      "Epoch 42/200\n",
      "303/303 [==============================] - 16s 53ms/step - loss: 0.0307 - accuracy: 0.9872 - val_loss: 0.0365 - val_accuracy: 0.9859\n",
      "Epoch 43/200\n",
      "303/303 [==============================] - 16s 54ms/step - loss: 0.0308 - accuracy: 0.9871 - val_loss: 0.0378 - val_accuracy: 0.9848\n",
      "Epoch 44/200\n",
      "303/303 [==============================] - 16s 54ms/step - loss: 0.0304 - accuracy: 0.9873 - val_loss: 0.0405 - val_accuracy: 0.9832\n",
      "Epoch 45/200\n",
      "303/303 [==============================] - 16s 54ms/step - loss: 0.0302 - accuracy: 0.9874 - val_loss: 0.0391 - val_accuracy: 0.9843\n",
      "Epoch 46/200\n",
      "303/303 [==============================] - 17s 55ms/step - loss: 0.0299 - accuracy: 0.9875 - val_loss: 0.0374 - val_accuracy: 0.9857\n",
      "Epoch 47/200\n",
      "303/303 [==============================] - 2620s 9s/step - loss: 0.0303 - accuracy: 0.9875 - val_loss: 0.0414 - val_accuracy: 0.9853\n",
      "Epoch 48/200\n",
      "303/303 [==============================] - 16s 52ms/step - loss: 0.0299 - accuracy: 0.9876 - val_loss: 0.0371 - val_accuracy: 0.9856\n",
      "Epoch 49/200\n",
      "303/303 [==============================] - 15s 50ms/step - loss: 0.0298 - accuracy: 0.9876 - val_loss: 0.0377 - val_accuracy: 0.9851\n",
      "Epoch 50/200\n",
      "303/303 [==============================] - 15s 50ms/step - loss: 0.0298 - accuracy: 0.9876 - val_loss: 0.0383 - val_accuracy: 0.9849\n",
      "Epoch 51/200\n",
      "303/303 [==============================] - 15s 50ms/step - loss: 0.0295 - accuracy: 0.9876 - val_loss: 0.0390 - val_accuracy: 0.9848\n",
      "Epoch 52/200\n",
      "303/303 [==============================] - 15s 50ms/step - loss: 0.0293 - accuracy: 0.9879 - val_loss: 0.0368 - val_accuracy: 0.9859\n",
      "Epoch 53/200\n",
      "303/303 [==============================] - 15s 50ms/step - loss: 0.0293 - accuracy: 0.9878 - val_loss: 0.0395 - val_accuracy: 0.9849\n",
      "Epoch 54/200\n",
      "303/303 [==============================] - 15s 50ms/step - loss: 0.0290 - accuracy: 0.9879 - val_loss: 0.0379 - val_accuracy: 0.9846\n",
      "Epoch 55/200\n",
      "303/303 [==============================] - 15s 50ms/step - loss: 0.0290 - accuracy: 0.9880 - val_loss: 0.0386 - val_accuracy: 0.9859\n",
      "Epoch 56/200\n",
      "303/303 [==============================] - 15s 50ms/step - loss: 0.0287 - accuracy: 0.9880 - val_loss: 0.0367 - val_accuracy: 0.9854\n",
      "Epoch 57/200\n",
      "303/303 [==============================] - 15s 50ms/step - loss: 0.0290 - accuracy: 0.9879 - val_loss: 0.0379 - val_accuracy: 0.9854\n",
      "Epoch 58/200\n",
      "303/303 [==============================] - 15s 51ms/step - loss: 0.0287 - accuracy: 0.9881 - val_loss: 0.0385 - val_accuracy: 0.9842\n",
      "Epoch 59/200\n",
      "303/303 [==============================] - 15s 51ms/step - loss: 0.0285 - accuracy: 0.9881 - val_loss: 0.0418 - val_accuracy: 0.9851\n",
      "Epoch 60/200\n",
      "301/303 [============================>.] - ETA: 0s - loss: 0.0285 - accuracy: 0.9881INFO:tensorflow:Assets written to: ../Models/Unet Data Augmented/assets\n",
      "303/303 [==============================] - 20s 68ms/step - loss: 0.0285 - accuracy: 0.9881 - val_loss: 0.0386 - val_accuracy: 0.9862\n",
      "Epoch 61/200\n",
      "303/303 [==============================] - 15s 51ms/step - loss: 0.0283 - accuracy: 0.9883 - val_loss: 0.0423 - val_accuracy: 0.9855\n",
      "Epoch 62/200\n",
      "303/303 [==============================] - 15s 51ms/step - loss: 0.0284 - accuracy: 0.9882 - val_loss: 0.0371 - val_accuracy: 0.9856\n",
      "Epoch 63/200\n",
      "303/303 [==============================] - 16s 52ms/step - loss: 0.0284 - accuracy: 0.9882 - val_loss: 0.0387 - val_accuracy: 0.9856\n",
      "Epoch 64/200\n",
      "303/303 [==============================] - 16s 52ms/step - loss: 0.0279 - accuracy: 0.9884 - val_loss: 0.0401 - val_accuracy: 0.9849\n",
      "Epoch 65/200\n",
      "303/303 [==============================] - 16s 52ms/step - loss: 0.0277 - accuracy: 0.9884 - val_loss: 0.0398 - val_accuracy: 0.9848\n",
      "Epoch 66/200\n",
      "303/303 [==============================] - 16s 52ms/step - loss: 0.0279 - accuracy: 0.9884 - val_loss: 0.0381 - val_accuracy: 0.9851\n",
      "Epoch 67/200\n",
      "303/303 [==============================] - 16s 52ms/step - loss: 0.0279 - accuracy: 0.9884 - val_loss: 0.0384 - val_accuracy: 0.9855\n",
      "Epoch 68/200\n",
      "303/303 [==============================] - 16s 52ms/step - loss: 0.0276 - accuracy: 0.9885 - val_loss: 0.0400 - val_accuracy: 0.9850\n",
      "Epoch 69/200\n",
      "303/303 [==============================] - 16s 52ms/step - loss: 0.0274 - accuracy: 0.9886 - val_loss: 0.0412 - val_accuracy: 0.9861\n",
      "Epoch 70/200\n",
      "303/303 [==============================] - 16s 52ms/step - loss: 0.0278 - accuracy: 0.9884 - val_loss: 0.0427 - val_accuracy: 0.9831\n",
      "Epoch 71/200\n",
      "303/303 [==============================] - 16s 53ms/step - loss: 0.0273 - accuracy: 0.9886 - val_loss: 0.0409 - val_accuracy: 0.9858\n",
      "Epoch 72/200\n",
      "303/303 [==============================] - 16s 53ms/step - loss: 0.0273 - accuracy: 0.9886 - val_loss: 0.0369 - val_accuracy: 0.9861\n",
      "Epoch 73/200\n",
      "303/303 [==============================] - 16s 52ms/step - loss: 0.0274 - accuracy: 0.9886 - val_loss: 0.0383 - val_accuracy: 0.9852\n",
      "Epoch 74/200\n",
      "303/303 [==============================] - 16s 52ms/step - loss: 0.0272 - accuracy: 0.9887 - val_loss: 0.0419 - val_accuracy: 0.9855\n",
      "Epoch 75/200\n",
      "303/303 [==============================] - 16s 53ms/step - loss: 0.0269 - accuracy: 0.9888 - val_loss: 0.0391 - val_accuracy: 0.9839\n",
      "Epoch 76/200\n",
      "303/303 [==============================] - 16s 53ms/step - loss: 0.0271 - accuracy: 0.9887 - val_loss: 0.0401 - val_accuracy: 0.9849\n",
      "Epoch 77/200\n",
      "303/303 [==============================] - 16s 53ms/step - loss: 0.0272 - accuracy: 0.9888 - val_loss: 0.0399 - val_accuracy: 0.9853\n",
      "Epoch 78/200\n",
      "303/303 [==============================] - 16s 53ms/step - loss: 0.0265 - accuracy: 0.9889 - val_loss: 0.0409 - val_accuracy: 0.9857\n",
      "Epoch 79/200\n",
      "303/303 [==============================] - 16s 53ms/step - loss: 0.0271 - accuracy: 0.9887 - val_loss: 0.0381 - val_accuracy: 0.9851\n",
      "Epoch 80/200\n",
      "303/303 [==============================] - 16s 52ms/step - loss: 0.0269 - accuracy: 0.9887 - val_loss: 0.0405 - val_accuracy: 0.9858\n",
      "Epoch 81/200\n",
      "303/303 [==============================] - 16s 52ms/step - loss: 0.0271 - accuracy: 0.9887 - val_loss: 0.0393 - val_accuracy: 0.9856\n",
      "Epoch 82/200\n",
      "303/303 [==============================] - 16s 53ms/step - loss: 0.0270 - accuracy: 0.9887 - val_loss: 0.0424 - val_accuracy: 0.9849\n",
      "Epoch 83/200\n",
      "303/303 [==============================] - 16s 53ms/step - loss: 0.0269 - accuracy: 0.9888 - val_loss: 0.0385 - val_accuracy: 0.9857\n",
      "Epoch 84/200\n",
      "303/303 [==============================] - 16s 53ms/step - loss: 0.0271 - accuracy: 0.9886 - val_loss: 0.0388 - val_accuracy: 0.9840\n",
      "Epoch 85/200\n",
      "303/303 [==============================] - 16s 53ms/step - loss: 0.0265 - accuracy: 0.9889 - val_loss: 0.0428 - val_accuracy: 0.9852\n",
      "Epoch 86/200\n",
      "303/303 [==============================] - 16s 52ms/step - loss: 0.0262 - accuracy: 0.9891 - val_loss: 0.0401 - val_accuracy: 0.9850\n",
      "Epoch 87/200\n",
      "303/303 [==============================] - 16s 54ms/step - loss: 0.0265 - accuracy: 0.9890 - val_loss: 0.0412 - val_accuracy: 0.9856\n",
      "Epoch 88/200\n",
      "303/303 [==============================] - 17s 56ms/step - loss: 0.0261 - accuracy: 0.9891 - val_loss: 0.0394 - val_accuracy: 0.9855\n",
      "Epoch 89/200\n",
      "303/303 [==============================] - 18s 59ms/step - loss: 0.0263 - accuracy: 0.9891 - val_loss: 0.0400 - val_accuracy: 0.9842\n",
      "Epoch 90/200\n",
      "303/303 [==============================] - 19s 63ms/step - loss: 0.0267 - accuracy: 0.9890 - val_loss: 0.0405 - val_accuracy: 0.9857\n",
      "Epoch 91/200\n",
      "303/303 [==============================] - 17s 56ms/step - loss: 0.0266 - accuracy: 0.9889 - val_loss: 0.0406 - val_accuracy: 0.9854\n",
      "Epoch 92/200\n",
      "303/303 [==============================] - 16s 52ms/step - loss: 0.0260 - accuracy: 0.9892 - val_loss: 0.0396 - val_accuracy: 0.9843\n",
      "Epoch 93/200\n",
      "303/303 [==============================] - 16s 52ms/step - loss: 0.0260 - accuracy: 0.9892 - val_loss: 0.0423 - val_accuracy: 0.9852\n",
      "Epoch 94/200\n",
      "303/303 [==============================] - 16s 53ms/step - loss: 0.0263 - accuracy: 0.9892 - val_loss: 0.0387 - val_accuracy: 0.9844\n",
      "Epoch 95/200\n",
      "303/303 [==============================] - 16s 53ms/step - loss: 0.0256 - accuracy: 0.9893 - val_loss: 0.0393 - val_accuracy: 0.9854\n",
      "Epoch 96/200\n"
     ]
    },
    {
     "name": "stdout",
     "output_type": "stream",
     "text": [
      "303/303 [==============================] - 16s 54ms/step - loss: 0.0260 - accuracy: 0.9892 - val_loss: 0.0401 - val_accuracy: 0.9851\n",
      "Epoch 97/200\n",
      "303/303 [==============================] - 16s 54ms/step - loss: 0.0264 - accuracy: 0.9890 - val_loss: 0.0378 - val_accuracy: 0.9856\n",
      "Epoch 98/200\n",
      "303/303 [==============================] - 17s 55ms/step - loss: 0.0258 - accuracy: 0.9892 - val_loss: 0.0399 - val_accuracy: 0.9857\n",
      "Epoch 99/200\n",
      "303/303 [==============================] - 17s 55ms/step - loss: 0.0256 - accuracy: 0.9893 - val_loss: 0.0417 - val_accuracy: 0.9856\n",
      "Epoch 100/200\n",
      "303/303 [==============================] - 16s 54ms/step - loss: 0.0257 - accuracy: 0.9893 - val_loss: 0.0384 - val_accuracy: 0.9861\n",
      "Epoch 101/200\n",
      "303/303 [==============================] - 16s 53ms/step - loss: 0.0255 - accuracy: 0.9893 - val_loss: 0.0417 - val_accuracy: 0.9861\n",
      "Epoch 102/200\n",
      "303/303 [==============================] - 16s 54ms/step - loss: 0.0257 - accuracy: 0.9893 - val_loss: 0.0408 - val_accuracy: 0.9853\n",
      "Epoch 103/200\n",
      "303/303 [==============================] - 17s 55ms/step - loss: 0.0255 - accuracy: 0.9893 - val_loss: 0.0394 - val_accuracy: 0.9858\n",
      "Epoch 104/200\n",
      "303/303 [==============================] - 17s 55ms/step - loss: 0.0259 - accuracy: 0.9892 - val_loss: 0.0400 - val_accuracy: 0.9843\n",
      "Epoch 105/200\n",
      "303/303 [==============================] - 17s 56ms/step - loss: 0.0257 - accuracy: 0.9892 - val_loss: 0.0430 - val_accuracy: 0.9849\n",
      "Epoch 106/200\n",
      "303/303 [==============================] - 17s 55ms/step - loss: 0.0255 - accuracy: 0.9893 - val_loss: 0.0422 - val_accuracy: 0.9858\n",
      "Epoch 107/200\n",
      "303/303 [==============================] - 17s 57ms/step - loss: 0.0252 - accuracy: 0.9894 - val_loss: 0.0411 - val_accuracy: 0.9838\n",
      "Epoch 108/200\n",
      "303/303 [==============================] - 18s 59ms/step - loss: 0.0249 - accuracy: 0.9896 - val_loss: 0.0392 - val_accuracy: 0.9858\n",
      "Epoch 109/200\n",
      "303/303 [==============================] - 17s 56ms/step - loss: 0.0257 - accuracy: 0.9893 - val_loss: 0.0386 - val_accuracy: 0.9859\n",
      "Epoch 110/200\n",
      "303/303 [==============================] - 17s 55ms/step - loss: 0.0254 - accuracy: 0.9894 - val_loss: 0.0404 - val_accuracy: 0.9850\n",
      "Epoch 111/200\n",
      "303/303 [==============================] - 17s 57ms/step - loss: 0.0251 - accuracy: 0.9895 - val_loss: 0.0387 - val_accuracy: 0.9854\n",
      "Epoch 112/200\n",
      "303/303 [==============================] - 17s 57ms/step - loss: 0.0254 - accuracy: 0.9894 - val_loss: 0.0424 - val_accuracy: 0.9855\n",
      "Epoch 113/200\n",
      "303/303 [==============================] - 17s 55ms/step - loss: 0.0253 - accuracy: 0.9894 - val_loss: 0.0402 - val_accuracy: 0.9861\n",
      "Epoch 114/200\n",
      "302/303 [============================>.] - ETA: 0s - loss: 0.0250 - accuracy: 0.9895INFO:tensorflow:Assets written to: ../Models/Unet Data Augmented/assets\n",
      "303/303 [==============================] - 23s 75ms/step - loss: 0.0250 - accuracy: 0.9895 - val_loss: 0.0389 - val_accuracy: 0.9863\n",
      "Epoch 115/200\n",
      "303/303 [==============================] - 16s 54ms/step - loss: 0.0251 - accuracy: 0.9895 - val_loss: 0.0383 - val_accuracy: 0.9854\n",
      "Epoch 116/200\n",
      "303/303 [==============================] - 16s 54ms/step - loss: 0.0251 - accuracy: 0.9895 - val_loss: 0.0410 - val_accuracy: 0.9848\n",
      "Epoch 117/200\n",
      "303/303 [==============================] - 16s 54ms/step - loss: 0.0250 - accuracy: 0.9895 - val_loss: 0.0414 - val_accuracy: 0.9857\n",
      "Epoch 118/200\n",
      "303/303 [==============================] - 17s 55ms/step - loss: 0.0251 - accuracy: 0.9895 - val_loss: 0.0399 - val_accuracy: 0.9855\n",
      "Epoch 119/200\n",
      "303/303 [==============================] - 17s 55ms/step - loss: 0.0250 - accuracy: 0.9896 - val_loss: 0.0432 - val_accuracy: 0.9843\n",
      "Epoch 120/200\n",
      "303/303 [==============================] - 17s 55ms/step - loss: 0.0249 - accuracy: 0.9896 - val_loss: 0.0447 - val_accuracy: 0.9856\n",
      "Epoch 121/200\n",
      "303/303 [==============================] - 17s 55ms/step - loss: 0.0248 - accuracy: 0.9897 - val_loss: 0.0399 - val_accuracy: 0.9853\n",
      "Epoch 122/200\n",
      "302/303 [============================>.] - ETA: 0s - loss: 0.0249 - accuracy: 0.9895Restoring model weights from the end of the best epoch.\n",
      "303/303 [==============================] - 17s 55ms/step - loss: 0.0249 - accuracy: 0.9895 - val_loss: 0.0449 - val_accuracy: 0.9855\n",
      "Epoch 00122: early stopping\n"
     ]
    }
   ],
   "source": [
    "# Training\n",
    "train_generator = make_train_generator(train_images, train_masks, batch_size=batch_size, custom_distortions=False)\n",
    "history = model.fit(train_generator, validation_data=(val_images, val_masks), steps_per_epoch=steps_per_epoch, batch_size=batch_size, epochs=number_epochs, callbacks=[early_stopping, model_checkpoint])"
   ]
  },
  {
   "cell_type": "code",
   "execution_count": 11,
   "metadata": {
    "id": "CbpnxqaAYnfU"
   },
   "outputs": [
    {
     "data": {
      "image/png": "[encoded data removed]",
      "text/plain": [
       "<Figure size 432x288 with 1 Axes>"
      ]
     },
     "metadata": {
      "needs_background": "light"
     },
     "output_type": "display_data"
    },
    {
     "data": {
      "image/png": "[encoded data removed]",
      "text/plain": [
       "<Figure size 432x288 with 1 Axes>"
      ]
     },
     "metadata": {
      "needs_background": "light"
     },
     "output_type": "display_data"
    }
   ],
   "source": [
    "plot_history(history)"
   ]
  },
  {
   "cell_type": "code",
   "execution_count": 12,
   "metadata": {},
   "outputs": [
    {
     "name": "stdout",
     "output_type": "stream",
     "text": [
      "510/510 [==============================] - 4s 7ms/sample - loss: 0.0226 - accuracy: 0.9908\n"
     ]
    }
   ],
   "source": [
    "model.evaluate(test_images, test_masks);"
   ]
  },
  {
   "cell_type": "markdown",
   "metadata": {},
   "source": [
    "### $\\bullet$ Training model using images with simple data augmentations as well as distortions"
   ]
  },
  {
   "cell_type": "code",
   "execution_count": 13,
   "metadata": {},
   "outputs": [],
   "source": [
    "# Setting up parameters used for training\n",
    "number_epochs = 200\n",
    "batch_size = 2\n",
    "steps_per_epoch = np.ceil(len(train_images)/batch_size).astype(np.uint)\n",
    "early_stopping = EarlyStopping(patience=80, verbose=1, restore_best_weights=True)\n",
    "model_checkpoint = ModelCheckpoint(filepath=unet_data_distorted_save_path, save_weights_only=False, monitor='val_accuracy', mode='max', save_best_only=True)\n",
    "\n",
    "# Building Unet model.\n",
    "model = Unet(images_shape, show_summary=False)"
   ]
  },
  {
   "cell_type": "code",
   "execution_count": 14,
   "metadata": {
    "scrolled": false
   },
   "outputs": [
    {
     "name": "stdout",
     "output_type": "stream",
     "text": [
      "WARNING:tensorflow:sample_weight modes were coerced from\n",
      "  ...\n",
      "    to  \n",
      "  ['...']\n",
      "Train for 303 steps, validate on 96 samples\n",
      "Epoch 1/200\n",
      "302/303 [============================>.] - ETA: 0s - loss: 0.5978 - accuracy: 0.8920INFO:tensorflow:Assets written to: ../Models/Unet Data Distorted/assets\n",
      "303/303 [==============================] - 23s 75ms/step - loss: 0.5970 - accuracy: 0.8920 - val_loss: 0.1314 - val_accuracy: 0.9437\n",
      "Epoch 2/200\n",
      "302/303 [============================>.] - ETA: 0s - loss: 0.2585 - accuracy: 0.9109INFO:tensorflow:Assets written to: ../Models/Unet Data Distorted/assets\n",
      "303/303 [==============================] - 21s 68ms/step - loss: 0.2587 - accuracy: 0.9108 - val_loss: 0.1008 - val_accuracy: 0.9559\n",
      "Epoch 3/200\n",
      "303/303 [==============================] - 16s 53ms/step - loss: 0.2498 - accuracy: 0.9129 - val_loss: 0.1587 - val_accuracy: 0.9017\n",
      "Epoch 4/200\n",
      "302/303 [============================>.] - ETA: 0s - loss: 0.2413 - accuracy: 0.9146INFO:tensorflow:Assets written to: ../Models/Unet Data Distorted/assets\n",
      "303/303 [==============================] - 21s 70ms/step - loss: 0.2408 - accuracy: 0.9148 - val_loss: 0.0747 - val_accuracy: 0.9761\n",
      "Epoch 5/200\n",
      "303/303 [==============================] - 16s 53ms/step - loss: 0.2426 - accuracy: 0.9134 - val_loss: 0.1043 - val_accuracy: 0.9602\n",
      "Epoch 6/200\n",
      "303/303 [==============================] - 16s 54ms/step - loss: 0.2396 - accuracy: 0.9139 - val_loss: 0.1115 - val_accuracy: 0.9628\n",
      "Epoch 7/200\n",
      "303/303 [==============================] - 17s 55ms/step - loss: 0.2410 - accuracy: 0.9132 - val_loss: 0.1221 - val_accuracy: 0.9546\n",
      "Epoch 8/200\n",
      "303/303 [==============================] - 17s 55ms/step - loss: 0.2385 - accuracy: 0.9135 - val_loss: 0.0999 - val_accuracy: 0.9680\n",
      "Epoch 9/200\n",
      "303/303 [==============================] - 17s 56ms/step - loss: 0.2359 - accuracy: 0.9147 - val_loss: 0.1223 - val_accuracy: 0.9590\n",
      "Epoch 10/200\n",
      "303/303 [==============================] - 17s 56ms/step - loss: 0.2339 - accuracy: 0.9145 - val_loss: 0.1227 - val_accuracy: 0.9479\n",
      "Epoch 11/200\n",
      "303/303 [==============================] - 17s 55ms/step - loss: 0.2374 - accuracy: 0.9139 - val_loss: 0.1017 - val_accuracy: 0.9651\n",
      "Epoch 12/200\n",
      "303/303 [==============================] - 17s 55ms/step - loss: 0.2385 - accuracy: 0.9135 - val_loss: 0.1082 - val_accuracy: 0.9626\n",
      "Epoch 13/200\n",
      "303/303 [==============================] - 17s 55ms/step - loss: 0.2347 - accuracy: 0.9139 - val_loss: 0.1303 - val_accuracy: 0.9520\n",
      "Epoch 14/200\n",
      "303/303 [==============================] - 17s 56ms/step - loss: 0.2315 - accuracy: 0.9149 - val_loss: 0.1170 - val_accuracy: 0.9590\n",
      "Epoch 15/200\n",
      "303/303 [==============================] - 17s 56ms/step - loss: 0.2345 - accuracy: 0.9137 - val_loss: 0.1200 - val_accuracy: 0.9585\n",
      "Epoch 16/200\n",
      "303/303 [==============================] - 17s 56ms/step - loss: 0.2280 - accuracy: 0.9159 - val_loss: 0.1092 - val_accuracy: 0.9657\n",
      "Epoch 17/200\n",
      "303/303 [==============================] - 17s 56ms/step - loss: 0.2296 - accuracy: 0.9154 - val_loss: 0.1070 - val_accuracy: 0.9649\n",
      "Epoch 18/200\n",
      "303/303 [==============================] - 17s 56ms/step - loss: 0.2313 - accuracy: 0.9148 - val_loss: 0.1182 - val_accuracy: 0.9563\n",
      "Epoch 19/200\n",
      "303/303 [==============================] - 17s 58ms/step - loss: 0.2306 - accuracy: 0.9155 - val_loss: 0.1341 - val_accuracy: 0.9312\n",
      "Epoch 20/200\n",
      "303/303 [==============================] - 17s 57ms/step - loss: 0.2278 - accuracy: 0.9160 - val_loss: 0.0948 - val_accuracy: 0.9746\n",
      "Epoch 21/200\n",
      "303/303 [==============================] - 17s 56ms/step - loss: 0.2280 - accuracy: 0.9161 - val_loss: 0.1428 - val_accuracy: 0.9049\n",
      "Epoch 22/200\n",
      "303/303 [==============================] - 17s 57ms/step - loss: 0.2300 - accuracy: 0.9151 - val_loss: 0.1329 - val_accuracy: 0.9419\n",
      "Epoch 23/200\n",
      "303/303 [==============================] - 17s 57ms/step - loss: 0.2284 - accuracy: 0.9159 - val_loss: 0.1193 - val_accuracy: 0.9662\n",
      "Epoch 24/200\n",
      "303/303 [==============================] - 17s 56ms/step - loss: 0.2250 - accuracy: 0.9176 - val_loss: 0.1225 - val_accuracy: 0.9547\n",
      "Epoch 25/200\n",
      "303/303 [==============================] - 17s 57ms/step - loss: 0.2263 - accuracy: 0.9163 - val_loss: 0.1154 - val_accuracy: 0.9649\n",
      "Epoch 26/200\n",
      "303/303 [==============================] - 17s 57ms/step - loss: 0.2201 - accuracy: 0.9196 - val_loss: 0.1294 - val_accuracy: 0.9553\n",
      "Epoch 27/200\n",
      "303/303 [==============================] - 17s 56ms/step - loss: 0.2207 - accuracy: 0.9196 - val_loss: 0.1065 - val_accuracy: 0.9747\n",
      "Epoch 28/200\n",
      "303/303 [==============================] - 17s 57ms/step - loss: 0.2271 - accuracy: 0.9165 - val_loss: 0.1300 - val_accuracy: 0.9585\n",
      "Epoch 29/200\n",
      "302/303 [============================>.] - ETA: 0s - loss: 0.2249 - accuracy: 0.9173INFO:tensorflow:Assets written to: ../Models/Unet Data Distorted/assets\n",
      "303/303 [==============================] - 22s 74ms/step - loss: 0.2251 - accuracy: 0.9172 - val_loss: 0.1012 - val_accuracy: 0.9764\n",
      "Epoch 30/200\n",
      "302/303 [============================>.] - ETA: 0s - loss: 0.2258 - accuracy: 0.9169INFO:tensorflow:Assets written to: ../Models/Unet Data Distorted/assets\n",
      "303/303 [==============================] - 22s 72ms/step - loss: 0.2257 - accuracy: 0.9169 - val_loss: 0.1026 - val_accuracy: 0.9766\n",
      "Epoch 31/200\n",
      "303/303 [==============================] - 17s 55ms/step - loss: 0.2250 - accuracy: 0.9173 - val_loss: 0.1291 - val_accuracy: 0.9603\n",
      "Epoch 32/200\n",
      "303/303 [==============================] - 17s 56ms/step - loss: 0.2200 - accuracy: 0.9197 - val_loss: 0.1114 - val_accuracy: 0.9753\n",
      "Epoch 33/200\n",
      "303/303 [==============================] - 17s 56ms/step - loss: 0.2293 - accuracy: 0.9162 - val_loss: 0.1133 - val_accuracy: 0.9681\n",
      "Epoch 34/200\n",
      "302/303 [============================>.] - ETA: 0s - loss: 0.2230 - accuracy: 0.9187INFO:tensorflow:Assets written to: ../Models/Unet Data Distorted/assets\n",
      "303/303 [==============================] - 21s 70ms/step - loss: 0.2232 - accuracy: 0.9186 - val_loss: 0.1068 - val_accuracy: 0.9774\n",
      "Epoch 35/200\n",
      "303/303 [==============================] - 17s 54ms/step - loss: 0.2294 - accuracy: 0.9156 - val_loss: 0.1151 - val_accuracy: 0.9673\n",
      "Epoch 36/200\n",
      "303/303 [==============================] - 17s 55ms/step - loss: 0.2169 - accuracy: 0.9217 - val_loss: 0.1091 - val_accuracy: 0.9746\n",
      "Epoch 37/200\n",
      "303/303 [==============================] - 17s 56ms/step - loss: 0.2243 - accuracy: 0.9181 - val_loss: 0.1097 - val_accuracy: 0.9743\n",
      "Epoch 38/200\n",
      "303/303 [==============================] - 17s 57ms/step - loss: 0.2244 - accuracy: 0.9181 - val_loss: 0.1148 - val_accuracy: 0.9758\n",
      "Epoch 39/200\n",
      "303/303 [==============================] - 17s 56ms/step - loss: 0.2218 - accuracy: 0.9195 - val_loss: 0.1175 - val_accuracy: 0.9705\n",
      "Epoch 40/200\n",
      "303/303 [==============================] - 17s 55ms/step - loss: 0.2242 - accuracy: 0.9185 - val_loss: 0.1107 - val_accuracy: 0.9734\n",
      "Epoch 41/200\n",
      "302/303 [============================>.] - ETA: 0s - loss: 0.2258 - accuracy: 0.9175INFO:tensorflow:Assets written to: ../Models/Unet Data Distorted/assets\n",
      "303/303 [==============================] - 22s 73ms/step - loss: 0.2260 - accuracy: 0.9174 - val_loss: 0.1011 - val_accuracy: 0.9818\n",
      "Epoch 42/200\n",
      "303/303 [==============================] - 17s 55ms/step - loss: 0.2253 - accuracy: 0.9178 - val_loss: 0.1323 - val_accuracy: 0.9547\n",
      "Epoch 43/200\n",
      "303/303 [==============================] - 17s 56ms/step - loss: 0.2237 - accuracy: 0.9186 - val_loss: 0.1185 - val_accuracy: 0.9727\n",
      "Epoch 44/200\n",
      "303/303 [==============================] - 17s 57ms/step - loss: 0.2274 - accuracy: 0.9166 - val_loss: 0.1104 - val_accuracy: 0.9735\n",
      "Epoch 45/200\n",
      "303/303 [==============================] - 17s 56ms/step - loss: 0.2238 - accuracy: 0.9183 - val_loss: 0.1158 - val_accuracy: 0.9666\n",
      "Epoch 46/200\n",
      "303/303 [==============================] - 17s 56ms/step - loss: 0.2241 - accuracy: 0.9182 - val_loss: 0.1345 - val_accuracy: 0.9590\n",
      "Epoch 47/200\n",
      "303/303 [==============================] - 17s 55ms/step - loss: 0.2226 - accuracy: 0.9191 - val_loss: 0.1106 - val_accuracy: 0.9751\n",
      "Epoch 48/200\n",
      "303/303 [==============================] - 17s 55ms/step - loss: 0.2277 - accuracy: 0.9165 - val_loss: 0.1164 - val_accuracy: 0.9737\n"
     ]
    },
    {
     "name": "stdout",
     "output_type": "stream",
     "text": [
      "Epoch 49/200\n",
      "303/303 [==============================] - 17s 55ms/step - loss: 0.2249 - accuracy: 0.9177 - val_loss: 0.1279 - val_accuracy: 0.9537\n",
      "Epoch 50/200\n",
      "303/303 [==============================] - 17s 55ms/step - loss: 0.2292 - accuracy: 0.9157 - val_loss: 0.1145 - val_accuracy: 0.9691\n",
      "Epoch 51/200\n",
      "303/303 [==============================] - 17s 55ms/step - loss: 0.2288 - accuracy: 0.9161 - val_loss: 0.1214 - val_accuracy: 0.9665\n",
      "Epoch 52/200\n",
      "303/303 [==============================] - 17s 55ms/step - loss: 0.2226 - accuracy: 0.9188 - val_loss: 0.1045 - val_accuracy: 0.9774\n",
      "Epoch 53/200\n",
      "303/303 [==============================] - 17s 55ms/step - loss: 0.2288 - accuracy: 0.9164 - val_loss: 0.1329 - val_accuracy: 0.9474\n",
      "Epoch 54/200\n",
      "303/303 [==============================] - 17s 55ms/step - loss: 0.2265 - accuracy: 0.9170 - val_loss: 0.0988 - val_accuracy: 0.9734\n",
      "Epoch 55/200\n",
      "303/303 [==============================] - 17s 55ms/step - loss: 0.2228 - accuracy: 0.9191 - val_loss: 0.1090 - val_accuracy: 0.9764\n",
      "Epoch 56/200\n",
      "303/303 [==============================] - 17s 55ms/step - loss: 0.2261 - accuracy: 0.9170 - val_loss: 0.1167 - val_accuracy: 0.9689\n",
      "Epoch 57/200\n",
      "303/303 [==============================] - 17s 55ms/step - loss: 0.2223 - accuracy: 0.9195 - val_loss: 0.1270 - val_accuracy: 0.9670\n",
      "Epoch 58/200\n",
      "303/303 [==============================] - 17s 55ms/step - loss: 0.2209 - accuracy: 0.9198 - val_loss: 0.1021 - val_accuracy: 0.9779\n",
      "Epoch 59/200\n",
      "303/303 [==============================] - 17s 55ms/step - loss: 0.2245 - accuracy: 0.9185 - val_loss: 0.1251 - val_accuracy: 0.9655\n",
      "Epoch 60/200\n",
      "303/303 [==============================] - 17s 55ms/step - loss: 0.2230 - accuracy: 0.9194 - val_loss: 0.1258 - val_accuracy: 0.9611\n",
      "Epoch 61/200\n",
      "303/303 [==============================] - 17s 55ms/step - loss: 0.2240 - accuracy: 0.9183 - val_loss: 0.1271 - val_accuracy: 0.9587\n",
      "Epoch 62/200\n",
      "303/303 [==============================] - 17s 55ms/step - loss: 0.2243 - accuracy: 0.9184 - val_loss: 0.1196 - val_accuracy: 0.9595\n",
      "Epoch 63/200\n",
      "303/303 [==============================] - 17s 55ms/step - loss: 0.2216 - accuracy: 0.9197 - val_loss: 0.1377 - val_accuracy: 0.9622\n",
      "Epoch 64/200\n",
      "303/303 [==============================] - 17s 56ms/step - loss: 0.2243 - accuracy: 0.9181 - val_loss: 0.1132 - val_accuracy: 0.9714\n",
      "Epoch 65/200\n",
      "303/303 [==============================] - 17s 55ms/step - loss: 0.2252 - accuracy: 0.9182 - val_loss: 0.1264 - val_accuracy: 0.9680\n",
      "Epoch 66/200\n",
      "303/303 [==============================] - 17s 55ms/step - loss: 0.2237 - accuracy: 0.9189 - val_loss: 0.1104 - val_accuracy: 0.9742\n",
      "Epoch 67/200\n",
      "303/303 [==============================] - 17s 55ms/step - loss: 0.2261 - accuracy: 0.9174 - val_loss: 0.1074 - val_accuracy: 0.9740\n",
      "Epoch 68/200\n",
      "303/303 [==============================] - 17s 55ms/step - loss: 0.2229 - accuracy: 0.9188 - val_loss: 0.1223 - val_accuracy: 0.9512\n",
      "Epoch 69/200\n",
      "303/303 [==============================] - 17s 55ms/step - loss: 0.2294 - accuracy: 0.9158 - val_loss: 0.1225 - val_accuracy: 0.9598\n",
      "Epoch 70/200\n",
      "303/303 [==============================] - 17s 55ms/step - loss: 0.2206 - accuracy: 0.9199 - val_loss: 0.1143 - val_accuracy: 0.9681\n",
      "Epoch 71/200\n",
      "303/303 [==============================] - 17s 55ms/step - loss: 0.2214 - accuracy: 0.9199 - val_loss: 0.1356 - val_accuracy: 0.9716\n",
      "Epoch 72/200\n",
      "302/303 [============================>.] - ETA: 0s - loss: 0.2187 - accuracy: 0.9212INFO:tensorflow:Assets written to: ../Models/Unet Data Distorted/assets\n",
      "303/303 [==============================] - 21s 70ms/step - loss: 0.2191 - accuracy: 0.9211 - val_loss: 0.0864 - val_accuracy: 0.9821\n",
      "Epoch 73/200\n",
      "303/303 [==============================] - 16s 54ms/step - loss: 0.2245 - accuracy: 0.9185 - val_loss: 0.1172 - val_accuracy: 0.9677\n",
      "Epoch 74/200\n",
      "303/303 [==============================] - 17s 55ms/step - loss: 0.2190 - accuracy: 0.9212 - val_loss: 0.1175 - val_accuracy: 0.9720\n",
      "Epoch 75/200\n",
      "303/303 [==============================] - 17s 55ms/step - loss: 0.2135 - accuracy: 0.9240 - val_loss: 0.1167 - val_accuracy: 0.9702\n",
      "Epoch 76/200\n",
      "303/303 [==============================] - 17s 56ms/step - loss: 0.2259 - accuracy: 0.9178 - val_loss: 0.1093 - val_accuracy: 0.9757\n",
      "Epoch 77/200\n",
      "303/303 [==============================] - 17s 55ms/step - loss: 0.2261 - accuracy: 0.9179 - val_loss: 0.1180 - val_accuracy: 0.9695\n",
      "Epoch 78/200\n",
      "303/303 [==============================] - 17s 55ms/step - loss: 0.2181 - accuracy: 0.9214 - val_loss: 0.0944 - val_accuracy: 0.9800\n",
      "Epoch 79/200\n",
      "303/303 [==============================] - 17s 55ms/step - loss: 0.2248 - accuracy: 0.9183 - val_loss: 0.1002 - val_accuracy: 0.9809\n",
      "Epoch 80/200\n",
      "303/303 [==============================] - 17s 55ms/step - loss: 0.2237 - accuracy: 0.9191 - val_loss: 0.0932 - val_accuracy: 0.9811\n",
      "Epoch 81/200\n",
      "303/303 [==============================] - 17s 55ms/step - loss: 0.2235 - accuracy: 0.9187 - val_loss: 0.1006 - val_accuracy: 0.9790\n",
      "Epoch 82/200\n",
      "303/303 [==============================] - 17s 55ms/step - loss: 0.2217 - accuracy: 0.9199 - val_loss: 0.1243 - val_accuracy: 0.9616\n",
      "Epoch 83/200\n",
      "303/303 [==============================] - 17s 55ms/step - loss: 0.2246 - accuracy: 0.9181 - val_loss: 0.0952 - val_accuracy: 0.9802\n",
      "Epoch 84/200\n",
      "302/303 [============================>.] - ETA: 0s - loss: 0.2228 - accuracy: 0.9192Restoring model weights from the end of the best epoch.\n",
      "303/303 [==============================] - 17s 55ms/step - loss: 0.2230 - accuracy: 0.9192 - val_loss: 0.1224 - val_accuracy: 0.9593\n",
      "Epoch 00084: early stopping\n"
     ]
    }
   ],
   "source": [
    "# Training\n",
    "train_generator = make_train_generator(train_images, train_masks, batch_size=batch_size, custom_distortions=True)\n",
    "history = model.fit(train_generator, validation_data=(val_images, val_masks), steps_per_epoch=steps_per_epoch, batch_size=batch_size, epochs=number_epochs, callbacks=[early_stopping, model_checkpoint])"
   ]
  },
  {
   "cell_type": "code",
   "execution_count": 15,
   "metadata": {},
   "outputs": [
    {
     "data": {
      "image/png": "[encoded data removed]",
      "text/plain": [
       "<Figure size 432x288 with 1 Axes>"
      ]
     },
     "metadata": {
      "needs_background": "light"
     },
     "output_type": "display_data"
    },
    {
     "data": {
      "image/png": "[encoded data removed]",
      "text/plain": [
       "<Figure size 432x288 with 1 Axes>"
      ]
     },
     "metadata": {
      "needs_background": "light"
     },
     "output_type": "display_data"
    }
   ],
   "source": [
    "plot_history(history)"
   ]
  },
  {
   "cell_type": "code",
   "execution_count": 16,
   "metadata": {},
   "outputs": [
    {
     "name": "stdout",
     "output_type": "stream",
     "text": [
      "510/510 [==============================] - 4s 7ms/sample - loss: 0.0554 - accuracy: 0.9832\n"
     ]
    }
   ],
   "source": [
    "model.evaluate(test_images, test_masks);"
   ]
  }
 ],
 "metadata": {
  "colab": {
   "collapsed_sections": [],
   "name": "UNET Distortion.ipynb",
   "version": ""
  },
  "kernelspec": {
   "display_name": "Python 3",
   "language": "python",
   "name": "python3"
  },
  "language_info": {
   "codemirror_mode": {
    "name": "ipython",
    "version": 3
   },
   "file_extension": ".py",
   "mimetype": "text/x-python",
   "name": "python",
   "nbconvert_exporter": "python",
   "pygments_lexer": "ipython3",
   "version": "3.7.9"
  }
 },
 "nbformat": 4,
 "nbformat_minor": 1
}
