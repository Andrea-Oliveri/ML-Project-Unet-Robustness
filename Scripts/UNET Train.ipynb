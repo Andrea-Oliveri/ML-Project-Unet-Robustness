{
 "cells": [
  {
   "cell_type": "markdown",
   "metadata": {},
   "source": [
    "# Training of UNET"
   ]
  },
  {
   "cell_type": "markdown",
   "metadata": {},
   "source": [
    "The aim of this notebook is to train two times the UNET model, once using the training data with simple data augmentations (rotation by multiples of 90 degrees, horizontal and vertical flips), and the second time with said data augmentation and distortions added to the training data (non-uniform illumination and gaussian noise)."
   ]
  },
  {
   "cell_type": "markdown",
   "metadata": {},
   "source": [
    "### $\\bullet$ Importing libraries and utilitary functions"
   ]
  },
  {
   "cell_type": "code",
   "execution_count": 1,
   "metadata": {},
   "outputs": [],
   "source": [
    "# Import python libraries.\n",
    "import matplotlib.pyplot as plt\n",
    "%matplotlib inline\n",
    "import numpy as np\n",
    "%load_ext autoreload\n",
    "%autoreload 2\n",
    "import os\n",
    "os.environ['TF_CPP_MIN_LOG_LEVEL'] = '1'\n",
    "import tensorflow\n",
    "from tensorflow.keras.callbacks import EarlyStopping, ModelCheckpoint\n",
    "\n",
    "# Import utilitary functions and module defining the Unet model.\n",
    "from utils import get_dataset_from_folders\n",
    "from train_data_augmentation import make_train_generator\n",
    "from unet import unet\n",
    "from distortions import add_gaussian, add_gaussian_noise\n",
    "from plots import plot_history"
   ]
  },
  {
   "cell_type": "code",
   "execution_count": 2,
   "metadata": {},
   "outputs": [],
   "source": [
    "# Set seeds of random number generators to guarantee reproducibility.\n",
    "np.random.seed(1)\n",
    "tensorflow.random.set_seed(2)"
   ]
  },
  {
   "cell_type": "markdown",
   "metadata": {},
   "source": [
    "### $\\bullet$ Setting size of the input image and different paths"
   ]
  },
  {
   "cell_type": "code",
   "execution_count": 3,
   "metadata": {
    "colab": {
     "background_save": true
    },
    "executionInfo": {
     "elapsed": 3866,
     "status": "ok",
     "timestamp": 1605116263978,
     "user": {
      "displayName": "EPFLML2020 GoodLastName",
      "photoUrl": "",
      "userId": "08441615881122576683"
     },
     "user_tz": -60
    },
    "id": "oFUJJMwMalBG"
   },
   "outputs": [],
   "source": [
    "# Shape of the inputs of the deep network.\n",
    "images_shape = (256, 256, 1)\n",
    "\n",
    "# Variables defining the path to the dataset.\n",
    "train_input_path  = '../Dataset/train/input/'\n",
    "train_output_path = '../Dataset/train/output/'\n",
    "val_input_path    = '../Dataset/validation/input/'\n",
    "val_output_path   = '../Dataset/validation/output/'\n",
    "test_input_path   = '../Dataset/test/input/'\n",
    "test_output_path  = '../Dataset/test/output/'\n",
    "\n",
    "# Variable defining where models will be stored.\n",
    "unet_original_save_path       = \"../Unet Original/\"\n",
    "unet_data_augmented_save_path = \"../Unet Data Augmented/\"\n",
    "unet_data_distorted_save_path = \"../Unet Data Distorted/\""
   ]
  },
  {
   "cell_type": "markdown",
   "metadata": {},
   "source": [
    "### $\\bullet$ Load images from the dataset"
   ]
  },
  {
   "cell_type": "code",
   "execution_count": 4,
   "metadata": {
    "colab": {
     "base_uri": "https://localhost:8080/"
    },
    "executionInfo": {
     "elapsed": 7175,
     "status": "ok",
     "timestamp": 1605116267655,
     "user": {
      "displayName": "EPFLML2020 GoodLastName",
      "photoUrl": "",
      "userId": "08441615881122576683"
     },
     "user_tz": -60
    },
    "id": "5kRpcG_R9SvH",
    "outputId": "0f533a82-ba05-4b2a-d4c8-eeb691e26ae0"
   },
   "outputs": [
    {
     "name": "stdout",
     "output_type": "stream",
     "text": [
      "Training set contains 606 images.\n",
      "Validation set contains 96 images.\n",
      "Test set contains 510 images.\n"
     ]
    }
   ],
   "source": [
    "train_images, train_masks = get_dataset_from_folders(train_input_path, train_output_path, images_shape)\n",
    "val_images, val_masks = get_dataset_from_folders(val_input_path, val_output_path, images_shape)\n",
    "test_images, test_masks = get_dataset_from_folders(test_input_path, test_output_path, images_shape)\n",
    "\n",
    "print(f'Training set contains {len(train_images)} images.')\n",
    "print(f'Validation set contains {len(val_images)} images.')\n",
    "print(f'Test set contains {len(test_images)} images.')"
   ]
  },
  {
   "cell_type": "markdown",
   "metadata": {},
   "source": [
    "### $\\bullet$ Training original model which used no data augmentations"
   ]
  },
  {
   "cell_type": "code",
   "execution_count": 5,
   "metadata": {},
   "outputs": [
    {
     "name": "stdout",
     "output_type": "stream",
     "text": [
      "Model: \"model\"\n",
      "__________________________________________________________________________________________________\n",
      "Layer (type)                    Output Shape         Param #     Connected to                     \n",
      "==================================================================================================\n",
      "input_1 (InputLayer)            [(None, 256, 256, 1) 0                                            \n",
      "__________________________________________________________________________________________________\n",
      "conv2d (Conv2D)                 (None, 256, 256, 16) 160         input_1[0][0]                    \n",
      "__________________________________________________________________________________________________\n",
      "conv2d_1 (Conv2D)               (None, 256, 256, 16) 2320        conv2d[0][0]                     \n",
      "__________________________________________________________________________________________________\n",
      "dropout (Dropout)               (None, 256, 256, 16) 0           conv2d_1[0][0]                   \n",
      "__________________________________________________________________________________________________\n",
      "average_pooling2d (AveragePooli (None, 128, 128, 16) 0           dropout[0][0]                    \n",
      "__________________________________________________________________________________________________\n",
      "conv2d_2 (Conv2D)               (None, 128, 128, 32) 4640        average_pooling2d[0][0]          \n",
      "__________________________________________________________________________________________________\n",
      "conv2d_3 (Conv2D)               (None, 128, 128, 32) 9248        conv2d_2[0][0]                   \n",
      "__________________________________________________________________________________________________\n",
      "dropout_1 (Dropout)             (None, 128, 128, 32) 0           conv2d_3[0][0]                   \n",
      "__________________________________________________________________________________________________\n",
      "average_pooling2d_1 (AveragePoo (None, 64, 64, 32)   0           dropout_1[0][0]                  \n",
      "__________________________________________________________________________________________________\n",
      "conv2d_4 (Conv2D)               (None, 64, 64, 64)   18496       average_pooling2d_1[0][0]        \n",
      "__________________________________________________________________________________________________\n",
      "conv2d_5 (Conv2D)               (None, 64, 64, 64)   36928       conv2d_4[0][0]                   \n",
      "__________________________________________________________________________________________________\n",
      "dropout_2 (Dropout)             (None, 64, 64, 64)   0           conv2d_5[0][0]                   \n",
      "__________________________________________________________________________________________________\n",
      "average_pooling2d_2 (AveragePoo (None, 32, 32, 64)   0           dropout_2[0][0]                  \n",
      "__________________________________________________________________________________________________\n",
      "conv2d_6 (Conv2D)               (None, 32, 32, 128)  73856       average_pooling2d_2[0][0]        \n",
      "__________________________________________________________________________________________________\n",
      "conv2d_7 (Conv2D)               (None, 32, 32, 128)  147584      conv2d_6[0][0]                   \n",
      "__________________________________________________________________________________________________\n",
      "dropout_3 (Dropout)             (None, 32, 32, 128)  0           conv2d_7[0][0]                   \n",
      "__________________________________________________________________________________________________\n",
      "conv2d_transpose (Conv2DTranspo (None, 64, 64, 64)   32832       dropout_3[0][0]                  \n",
      "__________________________________________________________________________________________________\n",
      "concatenate (Concatenate)       (None, 64, 64, 128)  0           dropout_2[0][0]                  \n",
      "                                                                 conv2d_transpose[0][0]           \n",
      "__________________________________________________________________________________________________\n",
      "conv2d_8 (Conv2D)               (None, 64, 64, 64)   73792       concatenate[0][0]                \n",
      "__________________________________________________________________________________________________\n",
      "conv2d_9 (Conv2D)               (None, 64, 64, 64)   36928       conv2d_8[0][0]                   \n",
      "__________________________________________________________________________________________________\n",
      "dropout_4 (Dropout)             (None, 64, 64, 64)   0           conv2d_9[0][0]                   \n",
      "__________________________________________________________________________________________________\n",
      "conv2d_transpose_1 (Conv2DTrans (None, 128, 128, 32) 8224        dropout_4[0][0]                  \n",
      "__________________________________________________________________________________________________\n",
      "concatenate_1 (Concatenate)     (None, 128, 128, 64) 0           dropout_1[0][0]                  \n",
      "                                                                 conv2d_transpose_1[0][0]         \n",
      "__________________________________________________________________________________________________\n",
      "conv2d_10 (Conv2D)              (None, 128, 128, 32) 18464       concatenate_1[0][0]              \n",
      "__________________________________________________________________________________________________\n",
      "conv2d_11 (Conv2D)              (None, 128, 128, 32) 9248        conv2d_10[0][0]                  \n",
      "__________________________________________________________________________________________________\n",
      "dropout_5 (Dropout)             (None, 128, 128, 32) 0           conv2d_11[0][0]                  \n",
      "__________________________________________________________________________________________________\n",
      "conv2d_transpose_2 (Conv2DTrans (None, 256, 256, 16) 2064        dropout_5[0][0]                  \n",
      "__________________________________________________________________________________________________\n",
      "concatenate_2 (Concatenate)     (None, 256, 256, 32) 0           dropout[0][0]                    \n",
      "                                                                 conv2d_transpose_2[0][0]         \n",
      "__________________________________________________________________________________________________\n",
      "conv2d_12 (Conv2D)              (None, 256, 256, 16) 4624        concatenate_2[0][0]              \n",
      "__________________________________________________________________________________________________\n",
      "conv2d_13 (Conv2D)              (None, 256, 256, 16) 2320        conv2d_12[0][0]                  \n",
      "__________________________________________________________________________________________________\n",
      "dropout_6 (Dropout)             (None, 256, 256, 16) 0           conv2d_13[0][0]                  \n",
      "__________________________________________________________________________________________________\n",
      "conv2d_14 (Conv2D)              (None, 256, 256, 1)  17          dropout_6[0][0]                  \n",
      "==================================================================================================\n",
      "Total params: 481,745\n",
      "Trainable params: 481,745\n",
      "Non-trainable params: 0\n",
      "__________________________________________________________________________________________________\n"
     ]
    }
   ],
   "source": [
    "# Setting up parameters used for training\n",
    "number_epochs = 100\n",
    "batch_size = 2\n",
    "early_stopping = EarlyStopping(patience=50, verbose=1, restore_best_weights=True)\n",
    "model_checkpoint = ModelCheckpoint(filepath=unet_original_save_path, save_weights_only=False, monitor='val_accuracy', mode='max', save_best_only=True)\n",
    "\n",
    "# Building Unet model.\n",
    "unet = unet(images_shape, show_summary=True)"
   ]
  },
  {
   "cell_type": "code",
   "execution_count": 6,
   "metadata": {
    "scrolled": false
   },
   "outputs": [
    {
     "name": "stdout",
     "output_type": "stream",
     "text": [
      "Train on 606 samples, validate on 96 samples\n",
      "Epoch 1/100\n",
      "602/606 [============================>.] - ETA: 0s - loss: 0.8847 - accuracy: 0.9412 ETAWARNING:tensorflow:From C:\\Anaconda3\\lib\\site-packages\\tensorflow_core\\python\\ops\\resource_variable_ops.py:1786: calling BaseResourceVariable.__init__ (from tensorflow.python.ops.resource_variable_ops) with constraint is deprecated and will be removed in a future version.\n",
      "Instructions for updating:\n",
      "If using Keras pass *_constraint arguments to layers.\n",
      "INFO:tensorflow:Assets written to: ../Model Original/assets\n",
      "606/606 [==============================] - 24s 40ms/sample - loss: 0.8793 - accuracy: 0.9414 - val_loss: 0.0657 - val_accuracy: 0.9740\n",
      "Epoch 2/100\n",
      "602/606 [============================>.] - ETA: 0s - loss: 0.0653 - accuracy: 0.9752INFO:tensorflow:Assets written to: ../Model Original/assets\n",
      "606/606 [==============================] - 19s 32ms/sample - loss: 0.0653 - accuracy: 0.9752 - val_loss: 0.0501 - val_accuracy: 0.9807\n",
      "Epoch 3/100\n",
      "604/606 [============================>.] - ETA: 0s - loss: 0.0562 - accuracy: 0.9783INFO:tensorflow:Assets written to: ../Model Original/assets\n",
      "606/606 [==============================] - 19s 32ms/sample - loss: 0.0563 - accuracy: 0.9783 - val_loss: 0.0465 - val_accuracy: 0.9820\n",
      "Epoch 4/100\n",
      "604/606 [============================>.] - ETA: 0s - loss: 0.0516 - accuracy: 0.9799 ETA: 3s - ETA: INFO:tensorflow:Assets written to: ../Model Original/assets\n",
      "606/606 [==============================] - 19s 32ms/sample - loss: 0.0516 - accuracy: 0.9799 - val_loss: 0.0462 - val_accuracy: 0.9825\n",
      "Epoch 5/100\n",
      "604/606 [============================>.] - ETA: 0s - loss: 0.0479 - accuracy: 0.9810 ETA: 1s - loss: 0INFO:tensorflow:Assets written to: ../Model Original/assets\n",
      "606/606 [==============================] - 20s 32ms/sample - loss: 0.0479 - accuracy: 0.9810 - val_loss: 0.0445 - val_accuracy: 0.9826\n",
      "Epoch 6/100\n",
      "602/606 [============================>.] - ETA: 0s - loss: 0.0448 - accuracy: 0.9822 ETA: 0s - loss: 0.0443 - acINFO:tensorflow:Assets written to: ../Model Original/assets\n",
      "606/606 [==============================] - 19s 32ms/sample - loss: 0.0448 - accuracy: 0.9822 - val_loss: 0.0440 - val_accuracy: 0.9828\n",
      "Epoch 7/100\n",
      "602/606 [============================>.] - ETA: 0s - loss: 0.0420 - accuracy: 0.9834INFO:tensorflow:Assets written to: ../Model Original/assets\n",
      "606/606 [==============================] - 20s 32ms/sample - loss: 0.0420 - accuracy: 0.9834 - val_loss: 0.0436 - val_accuracy: 0.9831\n",
      "Epoch 8/100\n",
      "604/606 [============================>.] - ETA: 0s - loss: 0.0404 - accuracy: 0.9841INFO:tensorflow:Assets written to: ../Model Original/assets\n",
      "606/606 [==============================] - 20s 32ms/sample - loss: 0.0404 - accuracy: 0.9841 - val_loss: 0.0422 - val_accuracy: 0.9834\n",
      "Epoch 9/100\n",
      "602/606 [============================>.] - ETA: 0s - loss: 0.0386 - accuracy: 0.9847 ETA: 1s - loss: 0.038INFO:tensorflow:Assets written to: ../Model Original/assets\n",
      "606/606 [==============================] - 19s 32ms/sample - loss: 0.0385 - accuracy: 0.9847 - val_loss: 0.0434 - val_accuracy: 0.9835\n",
      "Epoch 10/100\n",
      "606/606 [==============================] - 15s 25ms/sample - loss: 0.0369 - accuracy: 0.9853 - val_loss: 0.0459 - val_accuracy: 0.9821\n",
      "Epoch 11/100\n",
      "602/606 [============================>.] - ETA: 0s - loss: 0.0354 - accuracy: 0.9859INFO:tensorflow:Assets written to: ../Model Original/assets\n",
      "606/606 [==============================] - 20s 33ms/sample - loss: 0.0355 - accuracy: 0.9858 - val_loss: 0.0441 - val_accuracy: 0.9838\n",
      "Epoch 12/100\n",
      "604/606 [============================>.] - ETA: 0s - loss: 0.0343 - accuracy: 0.9862INFO:tensorflow:Assets written to: ../Model Original/assets\n",
      "606/606 [==============================] - 20s 32ms/sample - loss: 0.0343 - accuracy: 0.9862 - val_loss: 0.0453 - val_accuracy: 0.9838\n",
      "Epoch 13/100\n",
      "606/606 [==============================] - 15s 25ms/sample - loss: 0.0334 - accuracy: 0.9865 - val_loss: 0.0487 - val_accuracy: 0.9827oss: 0.0327 -  - ETA: 1s - loss: 0.0 - ETA: 0s - loss: 0.0\n",
      "Epoch 14/100\n",
      "606/606 [==============================] - 15s 26ms/sample - loss: 0.0323 - accuracy: 0.9870 - val_loss: 0.0467 - val_accuracy: 0.9833\n",
      "Epoch 15/100\n",
      "606/606 [==============================] - 16s 26ms/sample - loss: 0.0343 - accuracy: 0.9859 - val_loss: 0.0503 - val_accuracy: 0.9812\n",
      "Epoch 16/100\n",
      "606/606 [==============================] - 16s 26ms/sample - loss: 0.0325 - accuracy: 0.9867 - val_loss: 0.0491 - val_accuracy: 0.9831\n",
      "Epoch 17/100\n",
      "606/606 [==============================] - 16s 26ms/sample - loss: 0.0315 - accuracy: 0.9871 - val_loss: 0.0527 - val_accuracy: 0.9829\n",
      "Epoch 18/100\n",
      "606/606 [==============================] - 16s 26ms/sample - loss: 0.0297 - accuracy: 0.9878 - val_loss: 0.0457 - val_accuracy: 0.9837\n",
      "Epoch 19/100\n",
      "606/606 [==============================] - 16s 26ms/sample - loss: 0.0288 - accuracy: 0.9881 - val_loss: 0.0511 - val_accuracy: 0.9834\n",
      "Epoch 20/100\n",
      "606/606 [==============================] - 16s 26ms/sample - loss: 0.0279 - accuracy: 0.9884 - val_loss: 0.0492 - val_accuracy: 0.9827\n",
      "Epoch 21/100\n",
      "602/606 [============================>.] - ETA: 0s - loss: 0.0268 - accuracy: 0.9889 ETA: 0s - loss: 0.026INFO:tensorflow:Assets written to: ../Model Original/assets\n",
      "606/606 [==============================] - 20s 33ms/sample - loss: 0.0268 - accuracy: 0.9889 - val_loss: 0.0524 - val_accuracy: 0.9844\n",
      "Epoch 22/100\n",
      "606/606 [==============================] - 16s 26ms/sample - loss: 0.0269 - accuracy: 0.9889 - val_loss: 0.0496 - val_accuracy: 0.9833\n",
      "Epoch 23/100\n",
      "606/606 [==============================] - 16s 26ms/sample - loss: 0.0258 - accuracy: 0.9893 - val_loss: 0.0584 - val_accuracy: 0.9836\n",
      "Epoch 24/100\n",
      "606/606 [==============================] - 16s 26ms/sample - loss: 0.0254 - accuracy: 0.9894 - val_loss: 0.0537 - val_accuracy: 0.9839\n",
      "Epoch 25/100\n",
      "606/606 [==============================] - 16s 26ms/sample - loss: 0.0249 - accuracy: 0.9896 - val_loss: 0.0612 - val_accuracy: 0.9836\n",
      "Epoch 26/100\n",
      "606/606 [==============================] - 16s 26ms/sample - loss: 0.0243 - accuracy: 0.9898 - val_loss: 0.0559 - val_accuracy: 0.9834\n",
      "Epoch 27/100\n",
      "606/606 [==============================] - 16s 26ms/sample - loss: 0.0240 - accuracy: 0.9899 - val_loss: 0.0558 - val_accuracy: 0.9844\n",
      "Epoch 28/100\n",
      "606/606 [==============================] - 16s 27ms/sample - loss: 0.0244 - accuracy: 0.9898 - val_loss: 0.0561 - val_accuracy: 0.9834\n",
      "Epoch 29/100\n",
      "604/606 [============================>.] - ETA: 0s - loss: 0.0239 - accuracy: 0.9900INFO:tensorflow:Assets written to: ../Model Original/assets\n",
      "606/606 [==============================] - 21s 34ms/sample - loss: 0.0239 - accuracy: 0.9900 - val_loss: 0.0545 - val_accuracy: 0.9845\n",
      "Epoch 30/100\n",
      "606/606 [==============================] - 16s 26ms/sample - loss: 0.0229 - accuracy: 0.9904 - val_loss: 0.0584 - val_accuracy: 0.9842\n",
      "Epoch 31/100\n",
      "606/606 [==============================] - 16s 26ms/sample - loss: 0.0230 - accuracy: 0.9904 - val_loss: 0.0642 - val_accuracy: 0.9840\n",
      "Epoch 32/100\n",
      "606/606 [==============================] - 16s 27ms/sample - loss: 0.0227 - accuracy: 0.9906 - val_loss: 0.0553 - val_accuracy: 0.9838\n",
      "Epoch 33/100\n",
      "606/606 [==============================] - 16s 27ms/sample - loss: 0.0227 - accuracy: 0.9905 - val_loss: 0.0614 - val_accuracy: 0.9821\n",
      "Epoch 34/100\n",
      "606/606 [==============================] - 16s 27ms/sample - loss: 0.0228 - accuracy: 0.9905 - val_loss: 0.0589 - val_accuracy: 0.9841\n",
      "Epoch 35/100\n",
      "606/606 [==============================] - 16s 27ms/sample - loss: 0.0216 - accuracy: 0.9909 - val_loss: 0.0638 - val_accuracy: 0.9833\n",
      "Epoch 36/100\n",
      "606/606 [==============================] - 16s 27ms/sample - loss: 0.0214 - accuracy: 0.9910 - val_loss: 0.0596 - val_accuracy: 0.9839\n",
      "Epoch 37/100\n",
      "606/606 [==============================] - 16s 27ms/sample - loss: 0.0210 - accuracy: 0.9911 - val_loss: 0.0662 - val_accuracy: 0.9838\n",
      "Epoch 38/100\n",
      "606/606 [==============================] - 16s 27ms/sample - loss: 0.0214 - accuracy: 0.9910 - val_loss: 0.0598 - val_accuracy: 0.9836\n",
      "Epoch 39/100\n",
      "604/606 [============================>.] - ETA: 0s - loss: 0.0215 - accuracy: 0.9910INFO:tensorflow:Assets written to: ../Model Original/assets\n",
      "606/606 [==============================] - 21s 34ms/sample - loss: 0.0216 - accuracy: 0.9909 - val_loss: 0.0596 - val_accuracy: 0.9845\n",
      "Epoch 40/100\n",
      "606/606 [==============================] - 16s 26ms/sample - loss: 0.0206 - accuracy: 0.9913 - val_loss: 0.0680 - val_accuracy: 0.9840\n",
      "Epoch 41/100\n",
      "604/606 [============================>.] - ETA: 0s - loss: 0.0201 - accuracy: 0.9915INFO:tensorflow:Assets written to: ../Model Original/assets\n",
      "606/606 [==============================] - 21s 34ms/sample - loss: 0.0201 - accuracy: 0.9915 - val_loss: 0.0570 - val_accuracy: 0.9846\n",
      "Epoch 42/100\n",
      "606/606 [==============================] - 16s 26ms/sample - loss: 0.0204 - accuracy: 0.9914 - val_loss: 0.0584 - val_accuracy: 0.9841\n",
      "Epoch 43/100\n",
      "606/606 [==============================] - 16s 27ms/sample - loss: 0.0201 - accuracy: 0.9915 - val_loss: 0.0590 - val_accuracy: 0.9829\n",
      "Epoch 44/100\n",
      "606/606 [==============================] - 16s 27ms/sample - loss: 0.0211 - accuracy: 0.9912 - val_loss: 0.0577 - val_accuracy: 0.9841\n",
      "Epoch 45/100\n",
      "604/606 [============================>.] - ETA: 0s - loss: 0.0202 - accuracy: 0.9915INFO:tensorflow:Assets written to: ../Model Original/assets\n",
      "606/606 [==============================] - 21s 34ms/sample - loss: 0.0202 - accuracy: 0.9915 - val_loss: 0.0603 - val_accuracy: 0.9846\n",
      "Epoch 46/100\n",
      "606/606 [==============================] - 16s 26ms/sample - loss: 0.0202 - accuracy: 0.9915 - val_loss: 0.0550 - val_accuracy: 0.9834\n",
      "Epoch 47/100\n",
      "604/606 [============================>.] - ETA: 0s - loss: 0.0196 - accuracy: 0.9917INFO:tensorflow:Assets written to: ../Model Original/assets\n",
      "606/606 [==============================] - 20s 34ms/sample - loss: 0.0197 - accuracy: 0.9917 - val_loss: 0.0592 - val_accuracy: 0.9848\n",
      "Epoch 48/100\n",
      "606/606 [==============================] - 16s 26ms/sample - loss: 0.0197 - accuracy: 0.9917 - val_loss: 0.0528 - val_accuracy: 0.9834\n",
      "Epoch 49/100\n",
      "606/606 [==============================] - 16s 27ms/sample - loss: 0.0193 - accuracy: 0.9919 - val_loss: 0.0627 - val_accuracy: 0.9842\n",
      "Epoch 50/100\n",
      "606/606 [==============================] - 16s 27ms/sample - loss: 0.0194 - accuracy: 0.9918 - val_loss: 0.0593 - val_accuracy: 0.9847\n",
      "Epoch 51/100\n",
      "606/606 [==============================] - 16s 27ms/sample - loss: 0.0200 - accuracy: 0.9916 - val_loss: 0.0622 - val_accuracy: 0.9842\n",
      "Epoch 52/100\n",
      "606/606 [==============================] - 16s 27ms/sample - loss: 0.0196 - accuracy: 0.9918 - val_loss: 0.0582 - val_accuracy: 0.9835\n",
      "Epoch 53/100\n",
      "606/606 [==============================] - 16s 27ms/sample - loss: 0.0188 - accuracy: 0.9921 - val_loss: 0.0655 - val_accuracy: 0.9840\n",
      "Epoch 54/100\n",
      "604/606 [============================>.] - ETA: 0s - loss: 0.0187 - accuracy: 0.9921INFO:tensorflow:Assets written to: ../Model Original/assets\n",
      "606/606 [==============================] - 21s 35ms/sample - loss: 0.0187 - accuracy: 0.9921 - val_loss: 0.0631 - val_accuracy: 0.9851\n",
      "Epoch 55/100\n",
      "606/606 [==============================] - 16s 26ms/sample - loss: 0.0186 - accuracy: 0.9922 - val_loss: 0.0540 - val_accuracy: 0.9851\n",
      "Epoch 56/100\n",
      "604/606 [============================>.] - ETA: 0s - loss: 0.0190 - accuracy: 0.9921INFO:tensorflow:Assets written to: ../Model Original/assets\n",
      "606/606 [==============================] - 21s 34ms/sample - loss: 0.0190 - accuracy: 0.9921 - val_loss: 0.0654 - val_accuracy: 0.9855\n",
      "Epoch 57/100\n",
      "606/606 [==============================] - 16s 26ms/sample - loss: 0.0180 - accuracy: 0.9924 - val_loss: 0.0654 - val_accuracy: 0.9837\n",
      "Epoch 58/100\n",
      "604/606 [============================>.] - ETA: 0s - loss: 0.0188 - accuracy: 0.9921Restoring model weights from the end of the best epoch.\n",
      "606/606 [==============================] - 16s 27ms/sample - loss: 0.0188 - accuracy: 0.9921 - val_loss: 0.0618 - val_accuracy: 0.9838\n",
      "Epoch 00058: early stopping\n"
     ]
    }
   ],
   "source": [
    "# Training\n",
    "history = unet.fit(train_images, train_masks, validation_data = (val_images, val_masks), batch_size = batch_size, epochs=number_epochs, callbacks=[early_stopping, model_checkpoint])"
   ]
  },
  {
   "cell_type": "code",
   "execution_count": 7,
   "metadata": {},
   "outputs": [
    {
     "data": {
      "image/png": "[encoded data removed]",
      "text/plain": [
       "<Figure size 432x288 with 1 Axes>"
      ]
     },
     "metadata": {
      "needs_background": "light"
     },
     "output_type": "display_data"
    },
    {
     "data": {
      "image/png": "[encoded data removed]",
      "text/plain": [
       "<Figure size 432x288 with 1 Axes>"
      ]
     },
     "metadata": {
      "needs_background": "light"
     },
     "output_type": "display_data"
    }
   ],
   "source": [
    "plot_history(history)"
   ]
  },
  {
   "cell_type": "code",
   "execution_count": 8,
   "metadata": {},
   "outputs": [
    {
     "name": "stdout",
     "output_type": "stream",
     "text": [
      "510/510 [==============================] - 6s 12ms/sample - loss: 0.0278 - accuracy: 0.9891\n"
     ]
    }
   ],
   "source": [
    "unet.evaluate(test_images, test_masks);"
   ]
  },
  {
   "cell_type": "markdown",
   "metadata": {},
   "source": [
    "### $\\bullet$ Training model using images with simple data augmentations and no distortions"
   ]
  },
  {
   "cell_type": "code",
   "execution_count": 9,
   "metadata": {},
   "outputs": [],
   "source": [
    "# Setting up parameters used for training\n",
    "number_epochs = 200\n",
    "batch_size = 2\n",
    "steps_per_epoch = np.ceil(len(train_images)/batch_size).astype(np.uint)\n",
    "early_stopping = EarlyStopping(patience=80, verbose=1, restore_best_weights=True)\n",
    "model_checkpoint = ModelCheckpoint(filepath=unet_data_augmented_save_path, save_weights_only=False, monitor='val_accuracy', mode='max', save_best_only=True)\n",
    "\n",
    "# Building Unet model.\n",
    "unet = unet(images_shape, show_summary=False)"
   ]
  },
  {
   "cell_type": "code",
   "execution_count": 10,
   "metadata": {
    "id": "ZoO0FYx9Pjl8",
    "scrolled": false
   },
   "outputs": [
    {
     "name": "stdout",
     "output_type": "stream",
     "text": [
      "WARNING:tensorflow:sample_weight modes were coerced from\n",
      "  ...\n",
      "    to  \n",
      "  ['...']\n",
      "Train for 303 steps, validate on 96 samples\n",
      "Epoch 1/200\n",
      "302/303 [============================>.] - ETA: 0s - loss: 0.3684 - accuracy: 0.9519INFO:tensorflow:Assets written to: ../Model Data Augmented/assets\n",
      "303/303 [==============================] - 23s 74ms/step - loss: 0.3674 - accuracy: 0.9520 - val_loss: 0.0549 - val_accuracy: 0.9799\n",
      "Epoch 2/200\n",
      "302/303 [============================>.] - ETA: 0s - loss: 0.0561 - accuracy: 0.9785INFO:tensorflow:Assets written to: ../Model Data Augmented/assets\n",
      "303/303 [==============================] - 21s 68ms/step - loss: 0.0561 - accuracy: 0.9785 - val_loss: 0.0465 - val_accuracy: 0.9824\n",
      "Epoch 3/200\n",
      "302/303 [============================>.] - ETA: 0s - loss: 0.0497 - accuracy: 0.9808INFO:tensorflow:Assets written to: ../Model Data Augmented/assets\n",
      "303/303 [==============================] - 20s 67ms/step - loss: 0.0498 - accuracy: 0.9808 - val_loss: 0.0444 - val_accuracy: 0.9829\n",
      "Epoch 4/200\n",
      "302/303 [============================>.] - ETA: 0s - loss: 0.0462 - accuracy: 0.9819INFO:tensorflow:Assets written to: ../Model Data Augmented/assets\n",
      "303/303 [==============================] - 20s 67ms/step - loss: 0.0462 - accuracy: 0.9819 - val_loss: 0.0427 - val_accuracy: 0.9837\n",
      "Epoch 5/200\n",
      "301/303 [============================>.] - ETA: 0s - loss: 0.0435 - accuracy: 0.9827INFO:tensorflow:Assets written to: ../Model Data Augmented/assets\n",
      "303/303 [==============================] - 20s 67ms/step - loss: 0.0435 - accuracy: 0.9827 - val_loss: 0.0414 - val_accuracy: 0.9840\n",
      "Epoch 6/200\n",
      "303/303 [==============================] - 16s 53ms/step - loss: 0.0409 - accuracy: 0.9836 - val_loss: 0.0416 - val_accuracy: 0.9839\n",
      "Epoch 7/200\n",
      "303/303 [==============================] - 16s 54ms/step - loss: 0.0389 - accuracy: 0.9844 - val_loss: 0.0409 - val_accuracy: 0.9840\n",
      "Epoch 8/200\n",
      "301/303 [============================>.] - ETA: 0s - loss: 0.0377 - accuracy: 0.9848INFO:tensorflow:Assets written to: ../Model Data Augmented/assets\n",
      "303/303 [==============================] - 21s 69ms/step - loss: 0.0376 - accuracy: 0.9849 - val_loss: 0.0396 - val_accuracy: 0.9846\n",
      "Epoch 9/200\n",
      "303/303 [==============================] - 16s 53ms/step - loss: 0.0363 - accuracy: 0.9853 - val_loss: 0.0429 - val_accuracy: 0.9843\n",
      "Epoch 10/200\n",
      "303/303 [==============================] - 17s 55ms/step - loss: 0.0353 - accuracy: 0.9858 - val_loss: 0.0419 - val_accuracy: 0.9842\n",
      "Epoch 11/200\n",
      "303/303 [==============================] - 17s 55ms/step - loss: 0.0340 - accuracy: 0.9862 - val_loss: 0.0479 - val_accuracy: 0.9810\n",
      "Epoch 12/200\n",
      "302/303 [============================>.] - ETA: 0s - loss: 0.0341 - accuracy: 0.9861INFO:tensorflow:Assets written to: ../Model Data Augmented/assets\n",
      "303/303 [==============================] - 22s 73ms/step - loss: 0.0341 - accuracy: 0.9861 - val_loss: 0.0409 - val_accuracy: 0.9848\n",
      "Epoch 13/200\n",
      "303/303 [==============================] - 16s 53ms/step - loss: 0.0328 - accuracy: 0.9866 - val_loss: 0.0418 - val_accuracy: 0.9846\n",
      "Epoch 14/200\n",
      "303/303 [==============================] - 17s 55ms/step - loss: 0.0315 - accuracy: 0.9871 - val_loss: 0.0413 - val_accuracy: 0.9845\n",
      "Epoch 15/200\n",
      "302/303 [============================>.] - ETA: 0s - loss: 0.0310 - accuracy: 0.9874INFO:tensorflow:Assets written to: ../Model Data Augmented/assets\n",
      "303/303 [==============================] - 21s 69ms/step - loss: 0.0310 - accuracy: 0.9874 - val_loss: 0.0412 - val_accuracy: 0.9853\n",
      "Epoch 16/200\n",
      "303/303 [==============================] - 16s 53ms/step - loss: 0.0309 - accuracy: 0.9874 - val_loss: 0.0438 - val_accuracy: 0.9839\n",
      "Epoch 17/200\n",
      "303/303 [==============================] - 16s 54ms/step - loss: 0.0301 - accuracy: 0.9876 - val_loss: 0.0427 - val_accuracy: 0.9838\n",
      "Epoch 18/200\n",
      "303/303 [==============================] - 17s 54ms/step - loss: 0.0292 - accuracy: 0.9880 - val_loss: 0.0444 - val_accuracy: 0.9848\n",
      "Epoch 19/200\n",
      "303/303 [==============================] - 16s 54ms/step - loss: 0.0295 - accuracy: 0.9878 - val_loss: 0.0421 - val_accuracy: 0.9848\n",
      "Epoch 20/200\n",
      "303/303 [==============================] - 17s 54ms/step - loss: 0.0283 - accuracy: 0.9883 - val_loss: 0.0475 - val_accuracy: 0.9838\n",
      "Epoch 21/200\n",
      "303/303 [==============================] - 17s 55ms/step - loss: 0.0278 - accuracy: 0.9886 - val_loss: 0.0426 - val_accuracy: 0.9837\n",
      "Epoch 22/200\n",
      "303/303 [==============================] - 16s 54ms/step - loss: 0.0273 - accuracy: 0.9887 - val_loss: 0.0440 - val_accuracy: 0.9844\n",
      "Epoch 23/200\n",
      "303/303 [==============================] - 16s 54ms/step - loss: 0.0264 - accuracy: 0.9891 - val_loss: 0.0451 - val_accuracy: 0.9850\n",
      "Epoch 24/200\n",
      "303/303 [==============================] - 16s 54ms/step - loss: 0.0264 - accuracy: 0.9892 - val_loss: 0.0454 - val_accuracy: 0.9849\n",
      "Epoch 25/200\n",
      "303/303 [==============================] - 17s 55ms/step - loss: 0.0258 - accuracy: 0.9893 - val_loss: 0.0439 - val_accuracy: 0.9850\n",
      "Epoch 26/200\n",
      "303/303 [==============================] - 16s 54ms/step - loss: 0.0249 - accuracy: 0.9897 - val_loss: 0.0476 - val_accuracy: 0.9852\n",
      "Epoch 27/200\n",
      "303/303 [==============================] - 17s 54ms/step - loss: 0.0250 - accuracy: 0.9897 - val_loss: 0.0469 - val_accuracy: 0.9849\n",
      "Epoch 28/200\n",
      "303/303 [==============================] - 17s 55ms/step - loss: 0.0248 - accuracy: 0.9898 - val_loss: 0.0456 - val_accuracy: 0.9848\n",
      "Epoch 29/200\n",
      "303/303 [==============================] - 16s 54ms/step - loss: 0.0239 - accuracy: 0.9901 - val_loss: 0.0482 - val_accuracy: 0.9839\n",
      "Epoch 30/200\n",
      "303/303 [==============================] - 16s 54ms/step - loss: 0.0241 - accuracy: 0.9900 - val_loss: 0.0452 - val_accuracy: 0.9852\n",
      "Epoch 31/200\n",
      "302/303 [============================>.] - ETA: 0s - loss: 0.0244 - accuracy: 0.9899INFO:tensorflow:Assets written to: ../Model Data Augmented/assets\n",
      "303/303 [==============================] - 21s 69ms/step - loss: 0.0244 - accuracy: 0.9899 - val_loss: 0.0442 - val_accuracy: 0.9854\n",
      "Epoch 32/200\n",
      "303/303 [==============================] - 16s 53ms/step - loss: 0.0238 - accuracy: 0.9901 - val_loss: 0.0526 - val_accuracy: 0.9823\n",
      "Epoch 33/200\n",
      "303/303 [==============================] - 16s 54ms/step - loss: 0.0241 - accuracy: 0.9901 - val_loss: 0.0459 - val_accuracy: 0.9848\n",
      "Epoch 34/200\n",
      "303/303 [==============================] - 16s 54ms/step - loss: 0.0228 - accuracy: 0.9905 - val_loss: 0.0488 - val_accuracy: 0.9846\n",
      "Epoch 35/200\n",
      "303/303 [==============================] - 16s 54ms/step - loss: 0.0228 - accuracy: 0.9905 - val_loss: 0.0454 - val_accuracy: 0.9850\n",
      "Epoch 36/200\n",
      "302/303 [============================>.] - ETA: 0s - loss: 0.0225 - accuracy: 0.9906INFO:tensorflow:Assets written to: ../Model Data Augmented/assets\n",
      "303/303 [==============================] - 21s 69ms/step - loss: 0.0225 - accuracy: 0.9906 - val_loss: 0.0457 - val_accuracy: 0.9855\n",
      "Epoch 37/200\n",
      "303/303 [==============================] - 16s 53ms/step - loss: 0.0222 - accuracy: 0.9907 - val_loss: 0.0486 - val_accuracy: 0.9850\n",
      "Epoch 38/200\n",
      "302/303 [============================>.] - ETA: 0s - loss: 0.0224 - accuracy: 0.9906INFO:tensorflow:Assets written to: ../Model Data Augmented/assets\n",
      "303/303 [==============================] - 21s 68ms/step - loss: 0.0224 - accuracy: 0.9906 - val_loss: 0.0487 - val_accuracy: 0.9857\n",
      "Epoch 39/200\n",
      "303/303 [==============================] - 16s 53ms/step - loss: 0.0218 - accuracy: 0.9909 - val_loss: 0.0515 - val_accuracy: 0.9832\n",
      "Epoch 40/200\n",
      "302/303 [============================>.] - ETA: 0s - loss: 0.0219 - accuracy: 0.9908INFO:tensorflow:Assets written to: ../Model Data Augmented/assets\n",
      "303/303 [==============================] - 21s 69ms/step - loss: 0.0219 - accuracy: 0.9908 - val_loss: 0.0483 - val_accuracy: 0.9858\n",
      "Epoch 41/200\n",
      "302/303 [============================>.] - ETA: 0s - loss: 0.0218 - accuracy: 0.9908INFO:tensorflow:Assets written to: ../Model Data Augmented/assets\n",
      "303/303 [==============================] - 21s 68ms/step - loss: 0.0218 - accuracy: 0.9908 - val_loss: 0.0503 - val_accuracy: 0.9858\n",
      "Epoch 42/200\n",
      "303/303 [==============================] - 16s 52ms/step - loss: 0.0220 - accuracy: 0.9908 - val_loss: 0.0490 - val_accuracy: 0.9851\n"
     ]
    },
    {
     "name": "stdout",
     "output_type": "stream",
     "text": [
      "Epoch 43/200\n",
      "303/303 [==============================] - 16s 54ms/step - loss: 0.0216 - accuracy: 0.9910 - val_loss: 0.0544 - val_accuracy: 0.9853\n",
      "Epoch 44/200\n",
      "303/303 [==============================] - 16s 54ms/step - loss: 0.0214 - accuracy: 0.9910 - val_loss: 0.0477 - val_accuracy: 0.9846\n",
      "Epoch 45/200\n",
      "303/303 [==============================] - 16s 54ms/step - loss: 0.0213 - accuracy: 0.9911 - val_loss: 0.0514 - val_accuracy: 0.9846\n",
      "Epoch 46/200\n",
      "303/303 [==============================] - 16s 54ms/step - loss: 0.0208 - accuracy: 0.9913 - val_loss: 0.0505 - val_accuracy: 0.9848\n",
      "Epoch 47/200\n",
      "303/303 [==============================] - 16s 54ms/step - loss: 0.0213 - accuracy: 0.9911 - val_loss: 0.0592 - val_accuracy: 0.9851\n",
      "Epoch 48/200\n",
      "303/303 [==============================] - 16s 54ms/step - loss: 0.0208 - accuracy: 0.9912 - val_loss: 0.0450 - val_accuracy: 0.9853\n",
      "Epoch 49/200\n",
      "303/303 [==============================] - 16s 54ms/step - loss: 0.0209 - accuracy: 0.9913 - val_loss: 0.0567 - val_accuracy: 0.9845\n",
      "Epoch 50/200\n",
      "303/303 [==============================] - 16s 54ms/step - loss: 0.0207 - accuracy: 0.9913 - val_loss: 0.0538 - val_accuracy: 0.9851\n",
      "Epoch 51/200\n",
      "302/303 [============================>.] - ETA: 0s - loss: 0.0206 - accuracy: 0.9913INFO:tensorflow:Assets written to: ../Model Data Augmented/assets\n",
      "303/303 [==============================] - 21s 69ms/step - loss: 0.0206 - accuracy: 0.9913 - val_loss: 0.0487 - val_accuracy: 0.9858\n",
      "Epoch 52/200\n",
      "303/303 [==============================] - 16s 53ms/step - loss: 0.0204 - accuracy: 0.9914 - val_loss: 0.0524 - val_accuracy: 0.9853\n",
      "Epoch 53/200\n",
      "303/303 [==============================] - 16s 53ms/step - loss: 0.0210 - accuracy: 0.9912 - val_loss: 0.0492 - val_accuracy: 0.9854\n",
      "Epoch 54/200\n",
      "303/303 [==============================] - 16s 54ms/step - loss: 0.0203 - accuracy: 0.9914 - val_loss: 0.0513 - val_accuracy: 0.9848\n",
      "Epoch 55/200\n",
      "303/303 [==============================] - 16s 54ms/step - loss: 0.0205 - accuracy: 0.9914 - val_loss: 0.0463 - val_accuracy: 0.9854\n",
      "Epoch 56/200\n",
      "303/303 [==============================] - 16s 54ms/step - loss: 0.0198 - accuracy: 0.9916 - val_loss: 0.0539 - val_accuracy: 0.9842\n",
      "Epoch 57/200\n",
      "303/303 [==============================] - 16s 54ms/step - loss: 0.0198 - accuracy: 0.9917 - val_loss: 0.0515 - val_accuracy: 0.9853\n",
      "Epoch 58/200\n",
      "303/303 [==============================] - 16s 54ms/step - loss: 0.0198 - accuracy: 0.9917 - val_loss: 0.0486 - val_accuracy: 0.9854\n",
      "Epoch 59/200\n",
      "303/303 [==============================] - 16s 54ms/step - loss: 0.0202 - accuracy: 0.9915 - val_loss: 0.0524 - val_accuracy: 0.9856\n",
      "Epoch 60/200\n",
      "302/303 [============================>.] - ETA: 0s - loss: 0.0201 - accuracy: 0.9916INFO:tensorflow:Assets written to: ../Model Data Augmented/assets\n",
      "303/303 [==============================] - 21s 68ms/step - loss: 0.0201 - accuracy: 0.9916 - val_loss: 0.0550 - val_accuracy: 0.9861\n",
      "Epoch 61/200\n",
      "303/303 [==============================] - 16s 53ms/step - loss: 0.0197 - accuracy: 0.9917 - val_loss: 0.0544 - val_accuracy: 0.9858\n",
      "Epoch 62/200\n",
      "303/303 [==============================] - 16s 54ms/step - loss: 0.0195 - accuracy: 0.9918 - val_loss: 0.0478 - val_accuracy: 0.9857\n",
      "Epoch 63/200\n",
      "303/303 [==============================] - 16s 54ms/step - loss: 0.0194 - accuracy: 0.9918 - val_loss: 0.0499 - val_accuracy: 0.9853\n",
      "Epoch 64/200\n",
      "303/303 [==============================] - 16s 54ms/step - loss: 0.0201 - accuracy: 0.9915 - val_loss: 0.0451 - val_accuracy: 0.9855\n",
      "Epoch 65/200\n",
      "303/303 [==============================] - 16s 54ms/step - loss: 0.0199 - accuracy: 0.9916 - val_loss: 0.0518 - val_accuracy: 0.9847\n",
      "Epoch 66/200\n",
      "303/303 [==============================] - 17s 54ms/step - loss: 0.0193 - accuracy: 0.9919 - val_loss: 0.0531 - val_accuracy: 0.9858\n",
      "Epoch 67/200\n",
      "303/303 [==============================] - 17s 55ms/step - loss: 0.0190 - accuracy: 0.9920 - val_loss: 0.0514 - val_accuracy: 0.9852\n",
      "Epoch 68/200\n",
      "303/303 [==============================] - 17s 55ms/step - loss: 0.0193 - accuracy: 0.9919 - val_loss: 0.0530 - val_accuracy: 0.9858\n",
      "Epoch 69/200\n",
      "302/303 [============================>.] - ETA: 0s - loss: 0.0190 - accuracy: 0.9920INFO:tensorflow:Assets written to: ../Model Data Augmented/assets\n",
      "303/303 [==============================] - 21s 70ms/step - loss: 0.0190 - accuracy: 0.9920 - val_loss: 0.0571 - val_accuracy: 0.9861\n",
      "Epoch 70/200\n",
      "303/303 [==============================] - 16s 53ms/step - loss: 0.0190 - accuracy: 0.9920 - val_loss: 0.0533 - val_accuracy: 0.9850\n",
      "Epoch 71/200\n",
      "303/303 [==============================] - 16s 54ms/step - loss: 0.0195 - accuracy: 0.9918 - val_loss: 0.0494 - val_accuracy: 0.9858\n",
      "Epoch 72/200\n",
      "303/303 [==============================] - 17s 55ms/step - loss: 0.0193 - accuracy: 0.9919 - val_loss: 0.0518 - val_accuracy: 0.9857\n",
      "Epoch 73/200\n",
      "303/303 [==============================] - 17s 55ms/step - loss: 0.0191 - accuracy: 0.9920 - val_loss: 0.0534 - val_accuracy: 0.9860\n",
      "Epoch 74/200\n",
      "303/303 [==============================] - 17s 56ms/step - loss: 0.0188 - accuracy: 0.9921 - val_loss: 0.0537 - val_accuracy: 0.9850\n",
      "Epoch 75/200\n",
      "303/303 [==============================] - 17s 56ms/step - loss: 0.0189 - accuracy: 0.9920 - val_loss: 0.0550 - val_accuracy: 0.9852\n",
      "Epoch 76/200\n",
      "303/303 [==============================] - 17s 56ms/step - loss: 0.0192 - accuracy: 0.9919 - val_loss: 0.0532 - val_accuracy: 0.9848\n",
      "Epoch 77/200\n",
      "303/303 [==============================] - 17s 56ms/step - loss: 0.0190 - accuracy: 0.9920 - val_loss: 0.0526 - val_accuracy: 0.9855\n",
      "Epoch 78/200\n",
      "303/303 [==============================] - 17s 56ms/step - loss: 0.0186 - accuracy: 0.9922 - val_loss: 0.0600 - val_accuracy: 0.9846\n",
      "Epoch 79/200\n",
      "303/303 [==============================] - 17s 55ms/step - loss: 0.0186 - accuracy: 0.9922 - val_loss: 0.0525 - val_accuracy: 0.9850\n",
      "Epoch 80/200\n",
      "303/303 [==============================] - 17s 55ms/step - loss: 0.0190 - accuracy: 0.9920 - val_loss: 0.0538 - val_accuracy: 0.9850\n",
      "Epoch 81/200\n",
      "303/303 [==============================] - 17s 55ms/step - loss: 0.0189 - accuracy: 0.9920 - val_loss: 0.0528 - val_accuracy: 0.9855\n",
      "Epoch 82/200\n",
      "303/303 [==============================] - 17s 56ms/step - loss: 0.0187 - accuracy: 0.9922 - val_loss: 0.0575 - val_accuracy: 0.9850\n",
      "Epoch 83/200\n",
      "303/303 [==============================] - 17s 55ms/step - loss: 0.0187 - accuracy: 0.9921 - val_loss: 0.0534 - val_accuracy: 0.9854\n",
      "Epoch 84/200\n",
      "303/303 [==============================] - 16s 54ms/step - loss: 0.0186 - accuracy: 0.9922 - val_loss: 0.0510 - val_accuracy: 0.9859\n",
      "Epoch 85/200\n",
      "303/303 [==============================] - 16s 54ms/step - loss: 0.0184 - accuracy: 0.9922 - val_loss: 0.0530 - val_accuracy: 0.9857\n",
      "Epoch 86/200\n",
      "303/303 [==============================] - 16s 54ms/step - loss: 0.0184 - accuracy: 0.9923 - val_loss: 0.0513 - val_accuracy: 0.9858\n",
      "Epoch 87/200\n",
      "303/303 [==============================] - 17s 54ms/step - loss: 0.0184 - accuracy: 0.9923 - val_loss: 0.0567 - val_accuracy: 0.9860\n",
      "Epoch 88/200\n",
      "302/303 [============================>.] - ETA: 0s - loss: 0.0188 - accuracy: 0.9921Restoring model weights from the end of the best epoch.\n",
      "303/303 [==============================] - 16s 54ms/step - loss: 0.0187 - accuracy: 0.9921 - val_loss: 0.0549 - val_accuracy: 0.9855\n",
      "Epoch 00088: early stopping\n"
     ]
    }
   ],
   "source": [
    "# Training\n",
    "train_generator = make_train_generator(train_images, train_masks, batch_size=batch_size, custom_distortions=False)\n",
    "history = unet.fit(train_generator, validation_data=(val_images, val_masks), steps_per_epoch=steps_per_epoch, batch_size=batch_size, epochs=number_epochs, callbacks=[early_stopping, model_checkpoint])"
   ]
  },
  {
   "cell_type": "code",
   "execution_count": 11,
   "metadata": {
    "id": "CbpnxqaAYnfU"
   },
   "outputs": [
    {
     "data": {
      "image/png": "[encoded data removed]",
      "text/plain": [
       "<Figure size 432x288 with 1 Axes>"
      ]
     },
     "metadata": {
      "needs_background": "light"
     },
     "output_type": "display_data"
    },
    {
     "data": {
      "image/png": "[encoded data removed]",
      "text/plain": [
       "<Figure size 432x288 with 1 Axes>"
      ]
     },
     "metadata": {
      "needs_background": "light"
     },
     "output_type": "display_data"
    }
   ],
   "source": [
    "plot_history(history)"
   ]
  },
  {
   "cell_type": "code",
   "execution_count": 12,
   "metadata": {},
   "outputs": [
    {
     "name": "stdout",
     "output_type": "stream",
     "text": [
      "510/510 [==============================] - 4s 7ms/sample - loss: 0.0257 - accuracy: 0.9899\n"
     ]
    }
   ],
   "source": [
    "unet.evaluate(test_images, test_masks);"
   ]
  },
  {
   "cell_type": "markdown",
   "metadata": {},
   "source": [
    "### $\\bullet$ Training model using images with simple data augmentations as well as distortions"
   ]
  },
  {
   "cell_type": "code",
   "execution_count": 13,
   "metadata": {},
   "outputs": [],
   "source": [
    "# Setting up parameters used for training\n",
    "number_epochs = 200\n",
    "batch_size = 2\n",
    "steps_per_epoch = np.ceil(len(train_images)/batch_size).astype(np.uint)\n",
    "early_stopping = EarlyStopping(patience=80, verbose=1, restore_best_weights=True)\n",
    "model_checkpoint = ModelCheckpoint(filepath=unet_data_distorted_save_path, save_weights_only=False, monitor='val_accuracy', mode='max', save_best_only=True)\n",
    "\n",
    "# Building Unet model.\n",
    "unet = unet(images_shape, show_summary=False)"
   ]
  },
  {
   "cell_type": "code",
   "execution_count": 14,
   "metadata": {
    "scrolled": false
   },
   "outputs": [
    {
     "name": "stdout",
     "output_type": "stream",
     "text": [
      "WARNING:tensorflow:sample_weight modes were coerced from\n",
      "  ...\n",
      "    to  \n",
      "  ['...']\n",
      "Train for 303 steps, validate on 96 samples\n",
      "Epoch 1/200\n",
      "302/303 [============================>.] - ETA: 0s - loss: 0.5623 - accuracy: 0.9015INFO:tensorflow:Assets written to: ../Model Data Distorted/assets\n",
      "303/303 [==============================] - 22s 74ms/step - loss: 0.5609 - accuracy: 0.9016 - val_loss: 0.0937 - val_accuracy: 0.9694\n",
      "Epoch 2/200\n",
      "303/303 [==============================] - 16s 53ms/step - loss: 0.2095 - accuracy: 0.9277 - val_loss: 0.0888 - val_accuracy: 0.9668\n",
      "Epoch 3/200\n",
      "303/303 [==============================] - 16s 54ms/step - loss: 0.2069 - accuracy: 0.9277 - val_loss: 0.1029 - val_accuracy: 0.9548\n",
      "Epoch 4/200\n",
      "302/303 [============================>.] - ETA: 0s - loss: 0.1914 - accuracy: 0.9325INFO:tensorflow:Assets written to: ../Model Data Distorted/assets\n",
      "303/303 [==============================] - 21s 69ms/step - loss: 0.1910 - accuracy: 0.9327 - val_loss: 0.0649 - val_accuracy: 0.9749\n",
      "Epoch 5/200\n",
      "303/303 [==============================] - 16s 53ms/step - loss: 0.1999 - accuracy: 0.9293 - val_loss: 0.1026 - val_accuracy: 0.9653\n",
      "Epoch 6/200\n",
      "303/303 [==============================] - 16s 54ms/step - loss: 0.1795 - accuracy: 0.9372 - val_loss: 0.1029 - val_accuracy: 0.9693\n",
      "Epoch 7/200\n",
      "303/303 [==============================] - 16s 54ms/step - loss: 0.1765 - accuracy: 0.9379 - val_loss: 0.0991 - val_accuracy: 0.9743\n",
      "Epoch 8/200\n",
      "302/303 [============================>.] - ETA: 0s - loss: 0.1811 - accuracy: 0.9372INFO:tensorflow:Assets written to: ../Model Data Distorted/assets\n",
      "303/303 [==============================] - 21s 71ms/step - loss: 0.1813 - accuracy: 0.9371 - val_loss: 0.0795 - val_accuracy: 0.9780\n",
      "Epoch 9/200\n",
      "303/303 [==============================] - 16s 53ms/step - loss: 0.1838 - accuracy: 0.9361 - val_loss: 0.0762 - val_accuracy: 0.9775\n",
      "Epoch 10/200\n",
      "303/303 [==============================] - 16s 54ms/step - loss: 0.1762 - accuracy: 0.9391 - val_loss: 0.0841 - val_accuracy: 0.9779\n",
      "Epoch 11/200\n",
      "302/303 [============================>.] - ETA: 0s - loss: 0.1732 - accuracy: 0.9402INFO:tensorflow:Assets written to: ../Model Data Distorted/assets\n",
      "303/303 [==============================] - 21s 70ms/step - loss: 0.1730 - accuracy: 0.9403 - val_loss: 0.0851 - val_accuracy: 0.9790\n",
      "Epoch 12/200\n",
      "302/303 [============================>.] - ETA: 0s - loss: 0.1786 - accuracy: 0.9385INFO:tensorflow:Assets written to: ../Model Data Distorted/assets\n",
      "303/303 [==============================] - 21s 68ms/step - loss: 0.1788 - accuracy: 0.9384 - val_loss: 0.0871 - val_accuracy: 0.9796\n",
      "Epoch 13/200\n",
      "303/303 [==============================] - 16s 53ms/step - loss: 0.1794 - accuracy: 0.9383 - val_loss: 0.0933 - val_accuracy: 0.9785\n",
      "Epoch 14/200\n",
      "303/303 [==============================] - 16s 54ms/step - loss: 0.1775 - accuracy: 0.9392 - val_loss: 0.0937 - val_accuracy: 0.9776\n",
      "Epoch 15/200\n",
      "303/303 [==============================] - 16s 54ms/step - loss: 0.1719 - accuracy: 0.9419 - val_loss: 0.0837 - val_accuracy: 0.9780\n",
      "Epoch 16/200\n",
      "302/303 [============================>.] - ETA: 0s - loss: 0.1664 - accuracy: 0.9441INFO:tensorflow:Assets written to: ../Model Data Distorted/assets\n",
      "303/303 [==============================] - 21s 69ms/step - loss: 0.1667 - accuracy: 0.9440 - val_loss: 0.0742 - val_accuracy: 0.9811\n",
      "Epoch 17/200\n",
      "303/303 [==============================] - 16s 53ms/step - loss: 0.1766 - accuracy: 0.9405 - val_loss: 0.0786 - val_accuracy: 0.9805\n",
      "Epoch 18/200\n",
      "302/303 [============================>.] - ETA: 0s - loss: 0.1717 - accuracy: 0.9423INFO:tensorflow:Assets written to: ../Model Data Distorted/assets\n",
      "303/303 [==============================] - 21s 68ms/step - loss: 0.1715 - accuracy: 0.9424 - val_loss: 0.0826 - val_accuracy: 0.9819\n",
      "Epoch 19/200\n",
      "303/303 [==============================] - 16s 53ms/step - loss: 0.1682 - accuracy: 0.9443 - val_loss: 0.0851 - val_accuracy: 0.9794\n",
      "Epoch 20/200\n",
      "303/303 [==============================] - 16s 54ms/step - loss: 0.1707 - accuracy: 0.9432 - val_loss: 0.0767 - val_accuracy: 0.9808\n",
      "Epoch 21/200\n",
      "303/303 [==============================] - 16s 54ms/step - loss: 0.1674 - accuracy: 0.9447 - val_loss: 0.0851 - val_accuracy: 0.9801\n",
      "Epoch 22/200\n",
      "303/303 [==============================] - 16s 54ms/step - loss: 0.1738 - accuracy: 0.9422 - val_loss: 0.0999 - val_accuracy: 0.9792\n",
      "Epoch 23/200\n",
      "302/303 [============================>.] - ETA: 0s - loss: 0.1682 - accuracy: 0.9446INFO:tensorflow:Assets written to: ../Model Data Distorted/assets\n",
      "303/303 [==============================] - 21s 69ms/step - loss: 0.1687 - accuracy: 0.9444 - val_loss: 0.0812 - val_accuracy: 0.9826\n",
      "Epoch 24/200\n",
      "303/303 [==============================] - 16s 53ms/step - loss: 0.1662 - accuracy: 0.9457 - val_loss: 0.0714 - val_accuracy: 0.9822\n",
      "Epoch 25/200\n",
      "302/303 [============================>.] - ETA: 0s - loss: 0.1723 - accuracy: 0.9429INFO:tensorflow:Assets written to: ../Model Data Distorted/assets\n",
      "303/303 [==============================] - 21s 70ms/step - loss: 0.1720 - accuracy: 0.9431 - val_loss: 0.0808 - val_accuracy: 0.9829\n",
      "Epoch 26/200\n",
      "303/303 [==============================] - 16s 53ms/step - loss: 0.1616 - accuracy: 0.9473 - val_loss: 0.0720 - val_accuracy: 0.9813\n",
      "Epoch 27/200\n",
      "303/303 [==============================] - 17s 55ms/step - loss: 0.1752 - accuracy: 0.9418 - val_loss: 0.0950 - val_accuracy: 0.9779\n",
      "Epoch 28/200\n",
      "303/303 [==============================] - 17s 55ms/step - loss: 0.1736 - accuracy: 0.9426 - val_loss: 0.0829 - val_accuracy: 0.9817\n",
      "Epoch 29/200\n",
      "303/303 [==============================] - 17s 55ms/step - loss: 0.1670 - accuracy: 0.9454 - val_loss: 0.0754 - val_accuracy: 0.9818\n",
      "Epoch 30/200\n",
      "303/303 [==============================] - 17s 55ms/step - loss: 0.1657 - accuracy: 0.9460 - val_loss: 0.0704 - val_accuracy: 0.9820\n",
      "Epoch 31/200\n",
      "303/303 [==============================] - 17s 56ms/step - loss: 0.1793 - accuracy: 0.9403 - val_loss: 0.0923 - val_accuracy: 0.9810\n",
      "Epoch 32/200\n",
      "303/303 [==============================] - 17s 56ms/step - loss: 0.1699 - accuracy: 0.9443 - val_loss: 0.0752 - val_accuracy: 0.9811\n",
      "Epoch 33/200\n",
      "303/303 [==============================] - 17s 55ms/step - loss: 0.1702 - accuracy: 0.9445 - val_loss: 0.0778 - val_accuracy: 0.9805\n",
      "Epoch 34/200\n",
      "302/303 [============================>.] - ETA: 0s - loss: 0.1660 - accuracy: 0.9460INFO:tensorflow:Assets written to: ../Model Data Distorted/assets\n",
      "303/303 [==============================] - 21s 71ms/step - loss: 0.1657 - accuracy: 0.9461 - val_loss: 0.0595 - val_accuracy: 0.9830\n",
      "Epoch 35/200\n",
      "303/303 [==============================] - 16s 53ms/step - loss: 0.1670 - accuracy: 0.9461 - val_loss: 0.0782 - val_accuracy: 0.9812\n",
      "Epoch 36/200\n",
      "303/303 [==============================] - 16s 54ms/step - loss: 0.1597 - accuracy: 0.9490 - val_loss: 0.0642 - val_accuracy: 0.9828\n",
      "Epoch 37/200\n",
      "303/303 [==============================] - 17s 55ms/step - loss: 0.1706 - accuracy: 0.9446 - val_loss: 0.0879 - val_accuracy: 0.9815\n",
      "Epoch 38/200\n",
      "303/303 [==============================] - 17s 55ms/step - loss: 0.1700 - accuracy: 0.9451 - val_loss: 0.0788 - val_accuracy: 0.9817\n",
      "Epoch 39/200\n",
      "303/303 [==============================] - 17s 56ms/step - loss: 0.1749 - accuracy: 0.9431 - val_loss: 0.0835 - val_accuracy: 0.9802\n",
      "Epoch 40/200\n",
      "303/303 [==============================] - 17s 55ms/step - loss: 0.1663 - accuracy: 0.9467 - val_loss: 0.0778 - val_accuracy: 0.9802\n",
      "Epoch 41/200\n",
      "302/303 [============================>.] - ETA: 0s - loss: 0.1712 - accuracy: 0.9446INFO:tensorflow:Assets written to: ../Model Data Distorted/assets\n",
      "303/303 [==============================] - 21s 71ms/step - loss: 0.1717 - accuracy: 0.9444 - val_loss: 0.0703 - val_accuracy: 0.9836\n",
      "Epoch 42/200\n",
      "303/303 [==============================] - 16s 53ms/step - loss: 0.1647 - accuracy: 0.9471 - val_loss: 0.0799 - val_accuracy: 0.9813\n",
      "Epoch 43/200\n",
      "303/303 [==============================] - 16s 54ms/step - loss: 0.1722 - accuracy: 0.9444 - val_loss: 0.0789 - val_accuracy: 0.9821\n",
      "Epoch 44/200\n",
      "303/303 [==============================] - 16s 54ms/step - loss: 0.1657 - accuracy: 0.9468 - val_loss: 0.0704 - val_accuracy: 0.9829\n",
      "Epoch 45/200\n"
     ]
    },
    {
     "name": "stdout",
     "output_type": "stream",
     "text": [
      "303/303 [==============================] - 17s 55ms/step - loss: 0.1692 - accuracy: 0.9455 - val_loss: 0.0795 - val_accuracy: 0.9824\n",
      "Epoch 46/200\n",
      "303/303 [==============================] - 16s 54ms/step - loss: 0.1539 - accuracy: 0.9519 - val_loss: 0.0692 - val_accuracy: 0.9820\n",
      "Epoch 47/200\n",
      "303/303 [==============================] - 16s 54ms/step - loss: 0.1684 - accuracy: 0.9461 - val_loss: 0.0728 - val_accuracy: 0.9821\n",
      "Epoch 48/200\n",
      "303/303 [==============================] - 16s 54ms/step - loss: 0.1671 - accuracy: 0.9467 - val_loss: 0.0706 - val_accuracy: 0.9803\n",
      "Epoch 49/200\n",
      "303/303 [==============================] - 16s 54ms/step - loss: 0.1669 - accuracy: 0.9464 - val_loss: 0.0696 - val_accuracy: 0.9827\n",
      "Epoch 50/200\n",
      "303/303 [==============================] - 16s 54ms/step - loss: 0.1736 - accuracy: 0.9437 - val_loss: 0.0694 - val_accuracy: 0.9835\n",
      "Epoch 51/200\n",
      "303/303 [==============================] - 17s 55ms/step - loss: 0.1647 - accuracy: 0.9477 - val_loss: 0.0676 - val_accuracy: 0.9829\n",
      "Epoch 52/200\n",
      "301/303 [============================>.] - ETA: 0s - loss: 0.1677 - accuracy: 0.9466INFO:tensorflow:Assets written to: ../Model Data Distorted/assets\n",
      "303/303 [==============================] - 21s 70ms/step - loss: 0.1671 - accuracy: 0.9468 - val_loss: 0.0679 - val_accuracy: 0.9838\n",
      "Epoch 53/200\n",
      "303/303 [==============================] - 16s 53ms/step - loss: 0.1700 - accuracy: 0.9453 - val_loss: 0.0776 - val_accuracy: 0.9817\n",
      "Epoch 54/200\n",
      "303/303 [==============================] - 17s 55ms/step - loss: 0.1592 - accuracy: 0.9499 - val_loss: 0.0691 - val_accuracy: 0.9826\n",
      "Epoch 55/200\n",
      "303/303 [==============================] - 17s 55ms/step - loss: 0.1521 - accuracy: 0.9526 - val_loss: 0.0667 - val_accuracy: 0.9829\n",
      "Epoch 56/200\n",
      "303/303 [==============================] - 17s 55ms/step - loss: 0.1526 - accuracy: 0.9524 - val_loss: 0.0641 - val_accuracy: 0.9827\n",
      "Epoch 57/200\n",
      "303/303 [==============================] - 17s 55ms/step - loss: 0.1657 - accuracy: 0.9474 - val_loss: 0.0761 - val_accuracy: 0.9809\n",
      "Epoch 58/200\n",
      "303/303 [==============================] - 17s 55ms/step - loss: 0.1634 - accuracy: 0.9480 - val_loss: 0.0919 - val_accuracy: 0.9779\n",
      "Epoch 59/200\n",
      "303/303 [==============================] - 17s 56ms/step - loss: 0.1718 - accuracy: 0.9450 - val_loss: 0.0719 - val_accuracy: 0.9836\n",
      "Epoch 60/200\n",
      "303/303 [==============================] - 17s 56ms/step - loss: 0.1604 - accuracy: 0.9493 - val_loss: 0.0712 - val_accuracy: 0.9837\n",
      "Epoch 61/200\n",
      "303/303 [==============================] - 17s 56ms/step - loss: 0.1616 - accuracy: 0.9487 - val_loss: 0.0921 - val_accuracy: 0.9799\n",
      "Epoch 62/200\n",
      "303/303 [==============================] - 17s 56ms/step - loss: 0.1579 - accuracy: 0.9504 - val_loss: 0.0663 - val_accuracy: 0.9826\n",
      "Epoch 63/200\n",
      "303/303 [==============================] - 17s 56ms/step - loss: 0.1632 - accuracy: 0.9481 - val_loss: 0.0847 - val_accuracy: 0.9804\n",
      "Epoch 64/200\n",
      "303/303 [==============================] - 17s 56ms/step - loss: 0.1589 - accuracy: 0.9500 - val_loss: 0.0686 - val_accuracy: 0.9823\n",
      "Epoch 65/200\n",
      "303/303 [==============================] - 17s 55ms/step - loss: 0.1727 - accuracy: 0.9445 - val_loss: 0.0977 - val_accuracy: 0.9805\n",
      "Epoch 66/200\n",
      "303/303 [==============================] - 17s 56ms/step - loss: 0.1599 - accuracy: 0.9498 - val_loss: 0.0696 - val_accuracy: 0.9830\n",
      "Epoch 67/200\n",
      "303/303 [==============================] - 17s 56ms/step - loss: 0.1643 - accuracy: 0.9479 - val_loss: 0.0631 - val_accuracy: 0.9832\n",
      "Epoch 68/200\n",
      "303/303 [==============================] - 17s 55ms/step - loss: 0.1619 - accuracy: 0.9492 - val_loss: 0.0724 - val_accuracy: 0.9834\n",
      "Epoch 69/200\n",
      "303/303 [==============================] - 17s 55ms/step - loss: 0.1667 - accuracy: 0.9471 - val_loss: 0.0871 - val_accuracy: 0.9815\n",
      "Epoch 70/200\n",
      "303/303 [==============================] - 17s 55ms/step - loss: 0.1699 - accuracy: 0.9460 - val_loss: 0.0867 - val_accuracy: 0.9821\n",
      "Epoch 71/200\n",
      "303/303 [==============================] - 17s 56ms/step - loss: 0.1556 - accuracy: 0.9513 - val_loss: 0.0730 - val_accuracy: 0.9835\n",
      "Epoch 72/200\n",
      "303/303 [==============================] - 17s 56ms/step - loss: 0.1528 - accuracy: 0.9527 - val_loss: 0.0584 - val_accuracy: 0.9833\n",
      "Epoch 73/200\n",
      "303/303 [==============================] - 17s 56ms/step - loss: 0.1623 - accuracy: 0.9487 - val_loss: 0.0728 - val_accuracy: 0.9824\n",
      "Epoch 74/200\n",
      "302/303 [============================>.] - ETA: 0s - loss: 0.1623 - accuracy: 0.9488INFO:tensorflow:Assets written to: ../Model Data Distorted/assets\n",
      "303/303 [==============================] - 22s 71ms/step - loss: 0.1624 - accuracy: 0.9487 - val_loss: 0.0649 - val_accuracy: 0.9839\n",
      "Epoch 75/200\n",
      "303/303 [==============================] - 16s 53ms/step - loss: 0.1525 - accuracy: 0.9529 - val_loss: 0.0803 - val_accuracy: 0.9817\n",
      "Epoch 76/200\n",
      "303/303 [==============================] - 16s 54ms/step - loss: 0.1732 - accuracy: 0.9444 - val_loss: 0.0756 - val_accuracy: 0.9826\n",
      "Epoch 77/200\n",
      "303/303 [==============================] - 16s 54ms/step - loss: 0.1593 - accuracy: 0.9502 - val_loss: 0.0874 - val_accuracy: 0.9805\n",
      "Epoch 78/200\n",
      "303/303 [==============================] - 17s 55ms/step - loss: 0.1602 - accuracy: 0.9499 - val_loss: 0.0751 - val_accuracy: 0.9832\n",
      "Epoch 79/200\n",
      "303/303 [==============================] - 17s 55ms/step - loss: 0.1581 - accuracy: 0.9507 - val_loss: 0.0765 - val_accuracy: 0.9830\n",
      "Epoch 80/200\n",
      "303/303 [==============================] - 17s 55ms/step - loss: 0.1696 - accuracy: 0.9459 - val_loss: 0.0705 - val_accuracy: 0.9830\n",
      "Epoch 81/200\n",
      "303/303 [==============================] - 17s 55ms/step - loss: 0.1670 - accuracy: 0.9470 - val_loss: 0.0732 - val_accuracy: 0.9835\n",
      "Epoch 82/200\n",
      "303/303 [==============================] - 17s 55ms/step - loss: 0.1608 - accuracy: 0.9496 - val_loss: 0.0728 - val_accuracy: 0.9811\n",
      "Epoch 83/200\n",
      "303/303 [==============================] - 17s 55ms/step - loss: 0.1665 - accuracy: 0.9475 - val_loss: 0.0870 - val_accuracy: 0.9800\n",
      "Epoch 84/200\n",
      "303/303 [==============================] - 17s 55ms/step - loss: 0.1635 - accuracy: 0.9488 - val_loss: 0.0968 - val_accuracy: 0.9802\n",
      "Epoch 85/200\n",
      "303/303 [==============================] - 17s 55ms/step - loss: 0.1673 - accuracy: 0.9471 - val_loss: 0.0656 - val_accuracy: 0.9838\n",
      "Epoch 86/200\n",
      "303/303 [==============================] - 17s 55ms/step - loss: 0.1647 - accuracy: 0.9485 - val_loss: 0.0782 - val_accuracy: 0.9814\n",
      "Epoch 87/200\n",
      "303/303 [==============================] - 17s 55ms/step - loss: 0.1726 - accuracy: 0.9448 - val_loss: 0.0830 - val_accuracy: 0.9803\n",
      "Epoch 88/200\n",
      "303/303 [==============================] - 17s 55ms/step - loss: 0.1687 - accuracy: 0.9468 - val_loss: 0.0958 - val_accuracy: 0.9814\n",
      "Epoch 89/200\n",
      "303/303 [==============================] - 17s 56ms/step - loss: 0.1646 - accuracy: 0.9483 - val_loss: 0.0720 - val_accuracy: 0.9821\n",
      "Epoch 90/200\n",
      "303/303 [==============================] - 17s 56ms/step - loss: 0.1627 - accuracy: 0.9487 - val_loss: 0.0738 - val_accuracy: 0.9831\n",
      "Epoch 91/200\n",
      "303/303 [==============================] - 17s 56ms/step - loss: 0.1651 - accuracy: 0.9481 - val_loss: 0.0843 - val_accuracy: 0.9817\n",
      "Epoch 92/200\n",
      "303/303 [==============================] - 17s 55ms/step - loss: 0.1646 - accuracy: 0.9481 - val_loss: 0.0808 - val_accuracy: 0.9803\n",
      "Epoch 93/200\n",
      "303/303 [==============================] - 17s 56ms/step - loss: 0.1722 - accuracy: 0.9452 - val_loss: 0.0717 - val_accuracy: 0.9835\n",
      "Epoch 94/200\n",
      "303/303 [==============================] - 17s 55ms/step - loss: 0.1675 - accuracy: 0.9471 - val_loss: 0.1075 - val_accuracy: 0.9760\n",
      "Epoch 95/200\n",
      "301/303 [============================>.] - ETA: 2s - loss: 0.1627 - accuracy: 0.9492   ETA: 1:08 INFO:tensorflow:Assets written to: ../Model Data Distorted/assets\n",
      "303/303 [==============================] - 382s 1s/step - loss: 0.1626 - accuracy: 0.9492 - val_loss: 0.0664 - val_accuracy: 0.9840\n",
      "Epoch 96/200\n",
      "303/303 [==============================] - 15s 51ms/step - loss: 0.1554 - accuracy: 0.9519 - val_loss: 0.0814 - val_accuracy: 0.9810\n",
      "Epoch 97/200\n",
      "303/303 [==============================] - 15s 50ms/step - loss: 0.1622 - accuracy: 0.9493 - val_loss: 0.0650 - val_accuracy: 0.9835\n",
      "Epoch 98/200\n"
     ]
    },
    {
     "name": "stdout",
     "output_type": "stream",
     "text": [
      "303/303 [==============================] - 15s 50ms/step - loss: 0.1594 - accuracy: 0.9504 - val_loss: 0.0682 - val_accuracy: 0.9825\n",
      "Epoch 99/200\n",
      "303/303 [==============================] - 15s 51ms/step - loss: 0.1644 - accuracy: 0.9481 - val_loss: 0.0859 - val_accuracy: 0.9826\n",
      "Epoch 100/200\n",
      "303/303 [==============================] - 16s 52ms/step - loss: 0.1620 - accuracy: 0.9494 - val_loss: 0.0853 - val_accuracy: 0.9832\n",
      "Epoch 101/200\n",
      "303/303 [==============================] - 16s 51ms/step - loss: 0.1733 - accuracy: 0.9445 - val_loss: 0.0961 - val_accuracy: 0.9805\n",
      "Epoch 102/200\n",
      "303/303 [==============================] - 15s 51ms/step - loss: 0.1613 - accuracy: 0.9496 - val_loss: 0.0851 - val_accuracy: 0.9797\n",
      "Epoch 103/200\n",
      "303/303 [==============================] - 16s 51ms/step - loss: 0.1655 - accuracy: 0.9477 - val_loss: 0.0752 - val_accuracy: 0.9832\n",
      "Epoch 104/200\n",
      "303/303 [==============================] - 16s 52ms/step - loss: 0.1543 - accuracy: 0.9523 - val_loss: 0.0813 - val_accuracy: 0.9817\n",
      "Epoch 105/200\n",
      "303/303 [==============================] - 16s 53ms/step - loss: 0.1597 - accuracy: 0.9504 - val_loss: 0.0620 - val_accuracy: 0.9837\n",
      "Epoch 106/200\n",
      "303/303 [==============================] - 16s 53ms/step - loss: 0.1583 - accuracy: 0.9509 - val_loss: 0.0717 - val_accuracy: 0.9829\n",
      "Epoch 107/200\n",
      "303/303 [==============================] - 16s 54ms/step - loss: 0.1576 - accuracy: 0.9511 - val_loss: 0.0621 - val_accuracy: 0.9838\n",
      "Epoch 108/200\n",
      "303/303 [==============================] - 16s 53ms/step - loss: 0.1632 - accuracy: 0.9489 - val_loss: 0.0642 - val_accuracy: 0.9839\n",
      "Epoch 109/200\n",
      "303/303 [==============================] - 16s 53ms/step - loss: 0.1600 - accuracy: 0.9503 - val_loss: 0.0764 - val_accuracy: 0.9806\n",
      "Epoch 110/200\n",
      "303/303 [==============================] - 16s 53ms/step - loss: 0.1518 - accuracy: 0.9535 - val_loss: 0.0764 - val_accuracy: 0.9827\n",
      "Epoch 111/200\n",
      "303/303 [==============================] - 16s 53ms/step - loss: 0.1662 - accuracy: 0.9479 - val_loss: 0.0727 - val_accuracy: 0.9819\n",
      "Epoch 112/200\n",
      "303/303 [==============================] - 16s 54ms/step - loss: 0.1628 - accuracy: 0.9492 - val_loss: 0.0897 - val_accuracy: 0.9798\n",
      "Epoch 113/200\n",
      "303/303 [==============================] - 16s 53ms/step - loss: 0.1679 - accuracy: 0.9471 - val_loss: 0.0759 - val_accuracy: 0.9834\n",
      "Epoch 114/200\n",
      "303/303 [==============================] - 16s 54ms/step - loss: 0.1553 - accuracy: 0.9520 - val_loss: 0.0760 - val_accuracy: 0.9815\n",
      "Epoch 115/200\n",
      "302/303 [============================>.] - ETA: 0s - loss: 0.1624 - accuracy: 0.9492INFO:tensorflow:Assets written to: ../Model Data Distorted/assets\n",
      "303/303 [==============================] - 22s 73ms/step - loss: 0.1621 - accuracy: 0.9494 - val_loss: 0.0716 - val_accuracy: 0.9841\n",
      "Epoch 116/200\n",
      "303/303 [==============================] - 16s 53ms/step - loss: 0.1686 - accuracy: 0.9469 - val_loss: 0.0923 - val_accuracy: 0.9793\n",
      "Epoch 117/200\n",
      "303/303 [==============================] - 16s 53ms/step - loss: 0.1723 - accuracy: 0.9456 - val_loss: 0.0874 - val_accuracy: 0.9807\n",
      "Epoch 118/200\n",
      "303/303 [==============================] - 16s 53ms/step - loss: 0.1571 - accuracy: 0.9513 - val_loss: 0.0785 - val_accuracy: 0.9824\n",
      "Epoch 119/200\n",
      "303/303 [==============================] - 16s 53ms/step - loss: 0.1650 - accuracy: 0.9484 - val_loss: 0.0704 - val_accuracy: 0.9827\n",
      "Epoch 120/200\n",
      "303/303 [==============================] - 16s 54ms/step - loss: 0.1660 - accuracy: 0.9478 - val_loss: 0.0692 - val_accuracy: 0.9837\n",
      "Epoch 121/200\n",
      "303/303 [==============================] - 16s 53ms/step - loss: 0.1590 - accuracy: 0.9510 - val_loss: 0.0770 - val_accuracy: 0.9819\n",
      "Epoch 122/200\n",
      "303/303 [==============================] - 16s 53ms/step - loss: 0.1549 - accuracy: 0.9517 - val_loss: 0.0790 - val_accuracy: 0.9830\n",
      "Epoch 123/200\n",
      "303/303 [==============================] - 16s 54ms/step - loss: 0.1635 - accuracy: 0.9491 - val_loss: 0.0851 - val_accuracy: 0.9809\n",
      "Epoch 124/200\n",
      "303/303 [==============================] - 16s 54ms/step - loss: 0.1633 - accuracy: 0.9492 - val_loss: 0.0740 - val_accuracy: 0.9825\n",
      "Epoch 125/200\n",
      "303/303 [==============================] - 16s 54ms/step - loss: 0.1634 - accuracy: 0.9488 - val_loss: 0.0643 - val_accuracy: 0.9838\n",
      "Epoch 126/200\n",
      "303/303 [==============================] - 16s 54ms/step - loss: 0.1727 - accuracy: 0.9452 - val_loss: 0.0951 - val_accuracy: 0.9815\n",
      "Epoch 127/200\n",
      "303/303 [==============================] - 16s 54ms/step - loss: 0.1569 - accuracy: 0.9515 - val_loss: 0.0681 - val_accuracy: 0.9836\n",
      "Epoch 128/200\n",
      "303/303 [==============================] - 16s 54ms/step - loss: 0.1643 - accuracy: 0.9487 - val_loss: 0.0774 - val_accuracy: 0.9834\n",
      "Epoch 129/200\n",
      "303/303 [==============================] - 16s 54ms/step - loss: 0.1750 - accuracy: 0.9443 - val_loss: 0.0737 - val_accuracy: 0.9829\n",
      "Epoch 130/200\n",
      "303/303 [==============================] - 16s 54ms/step - loss: 0.1607 - accuracy: 0.9502 - val_loss: 0.0605 - val_accuracy: 0.9838\n",
      "Epoch 131/200\n",
      "303/303 [==============================] - 16s 54ms/step - loss: 0.1599 - accuracy: 0.9502 - val_loss: 0.0812 - val_accuracy: 0.9822\n",
      "Epoch 132/200\n",
      "303/303 [==============================] - 16s 54ms/step - loss: 0.1671 - accuracy: 0.9474 - val_loss: 0.0721 - val_accuracy: 0.9820\n",
      "Epoch 133/200\n",
      "303/303 [==============================] - 16s 54ms/step - loss: 0.1629 - accuracy: 0.9492 - val_loss: 0.0768 - val_accuracy: 0.9837\n",
      "Epoch 134/200\n",
      "301/303 [============================>.] - ETA: 0s - loss: 0.1679 - accuracy: 0.9473INFO:tensorflow:Assets written to: ../Model Data Distorted/assets\n",
      "303/303 [==============================] - 21s 70ms/step - loss: 0.1679 - accuracy: 0.9473 - val_loss: 0.0681 - val_accuracy: 0.9843\n",
      "Epoch 135/200\n",
      "303/303 [==============================] - 16s 53ms/step - loss: 0.1603 - accuracy: 0.9502 - val_loss: 0.0674 - val_accuracy: 0.9829\n",
      "Epoch 136/200\n",
      "303/303 [==============================] - 16s 54ms/step - loss: 0.1700 - accuracy: 0.9464 - val_loss: 0.0785 - val_accuracy: 0.9826\n",
      "Epoch 137/200\n",
      "303/303 [==============================] - 16s 53ms/step - loss: 0.1471 - accuracy: 0.9553 - val_loss: 0.0714 - val_accuracy: 0.9832\n",
      "Epoch 138/200\n",
      "303/303 [==============================] - 16s 54ms/step - loss: 0.1546 - accuracy: 0.9523 - val_loss: 0.0785 - val_accuracy: 0.9822\n",
      "Epoch 139/200\n",
      "303/303 [==============================] - 16s 54ms/step - loss: 0.1587 - accuracy: 0.9510 - val_loss: 0.0848 - val_accuracy: 0.9828\n",
      "Epoch 140/200\n",
      "303/303 [==============================] - 16s 54ms/step - loss: 0.1621 - accuracy: 0.9495 - val_loss: 0.0786 - val_accuracy: 0.9836\n",
      "Epoch 141/200\n",
      "303/303 [==============================] - 16s 54ms/step - loss: 0.1634 - accuracy: 0.9493 - val_loss: 0.0746 - val_accuracy: 0.9838\n",
      "Epoch 142/200\n",
      "303/303 [==============================] - 16s 54ms/step - loss: 0.1595 - accuracy: 0.9506 - val_loss: 0.0778 - val_accuracy: 0.9827\n",
      "Epoch 143/200\n",
      "303/303 [==============================] - 16s 54ms/step - loss: 0.1669 - accuracy: 0.9477 - val_loss: 0.0700 - val_accuracy: 0.9830\n",
      "Epoch 144/200\n",
      "303/303 [==============================] - 16s 54ms/step - loss: 0.1564 - accuracy: 0.9516 - val_loss: 0.0770 - val_accuracy: 0.9829\n",
      "Epoch 145/200\n",
      "303/303 [==============================] - 16s 54ms/step - loss: 0.1636 - accuracy: 0.9489 - val_loss: 0.0741 - val_accuracy: 0.9821\n",
      "Epoch 146/200\n",
      "303/303 [==============================] - 16s 54ms/step - loss: 0.1604 - accuracy: 0.9502 - val_loss: 0.0607 - val_accuracy: 0.9834\n",
      "Epoch 147/200\n",
      "303/303 [==============================] - 16s 54ms/step - loss: 0.1720 - accuracy: 0.9453 - val_loss: 0.1037 - val_accuracy: 0.9790\n",
      "Epoch 148/200\n",
      "303/303 [==============================] - 16s 54ms/step - loss: 0.1652 - accuracy: 0.9483 - val_loss: 0.0706 - val_accuracy: 0.9834\n",
      "Epoch 149/200\n",
      "303/303 [==============================] - 16s 54ms/step - loss: 0.1440 - accuracy: 0.9566 - val_loss: 0.0781 - val_accuracy: 0.9820\n",
      "Epoch 150/200\n",
      "303/303 [==============================] - 16s 54ms/step - loss: 0.1572 - accuracy: 0.9514 - val_loss: 0.0705 - val_accuracy: 0.9835\n",
      "Epoch 151/200\n",
      "303/303 [==============================] - 17s 55ms/step - loss: 0.1610 - accuracy: 0.9503 - val_loss: 0.0724 - val_accuracy: 0.9830\n",
      "Epoch 152/200\n",
      "302/303 [============================>.] - ETA: 0s - loss: 0.1666 - accuracy: 0.9478Restoring model weights from the end of the best epoch.\n",
      "303/303 [==============================] - 17s 55ms/step - loss: 0.1663 - accuracy: 0.9479 - val_loss: 0.0780 - val_accuracy: 0.9828\n",
      "Epoch 00152: early stopping\n"
     ]
    }
   ],
   "source": [
    "# Training\n",
    "train_generator = make_train_generator(train_images, train_masks, batch_size=batch_size, custom_distortions=True)\n",
    "history = unet.fit(train_generator, validation_data=(val_images, val_masks), steps_per_epoch=steps_per_epoch, batch_size=batch_size, epochs=number_epochs, callbacks=[early_stopping, model_checkpoint])"
   ]
  },
  {
   "cell_type": "code",
   "execution_count": 15,
   "metadata": {},
   "outputs": [
    {
     "data": {
      "image/png": "[encoded data removed]",
      "text/plain": [
       "<Figure size 432x288 with 1 Axes>"
      ]
     },
     "metadata": {
      "needs_background": "light"
     },
     "output_type": "display_data"
    },
    {
     "data": {
      "image/png": "[encoded data removed]",
      "text/plain": [
       "<Figure size 432x288 with 1 Axes>"
      ]
     },
     "metadata": {
      "needs_background": "light"
     },
     "output_type": "display_data"
    }
   ],
   "source": [
    "plot_history(history)"
   ]
  },
  {
   "cell_type": "code",
   "execution_count": 16,
   "metadata": {},
   "outputs": [
    {
     "name": "stdout",
     "output_type": "stream",
     "text": [
      "510/510 [==============================] - 4s 7ms/sample - loss: 0.0427 - accuracy: 0.9889\n"
     ]
    }
   ],
   "source": [
    "unet.evaluate(test_images, test_masks);"
   ]
  }
 ],
 "metadata": {
  "colab": {
   "collapsed_sections": [],
   "name": "UNET Distortion.ipynb",
   "version": ""
  },
  "kernelspec": {
   "display_name": "Python 3",
   "language": "python",
   "name": "python3"
  },
  "language_info": {
   "codemirror_mode": {
    "name": "ipython",
    "version": 3
   },
   "file_extension": ".py",
   "mimetype": "text/x-python",
   "name": "python",
   "nbconvert_exporter": "python",
   "pygments_lexer": "ipython3",
   "version": "3.7.9"
  }
 },
 "nbformat": 4,
 "nbformat_minor": 1
}
