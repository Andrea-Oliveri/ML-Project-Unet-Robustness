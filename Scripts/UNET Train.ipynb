{
 "cells": [
  {
   "cell_type": "markdown",
   "metadata": {},
   "source": [
    "# Training of UNET"
   ]
  },
  {
   "cell_type": "markdown",
   "metadata": {},
   "source": [
    "The aim of this notebook is to train two times the UNET model, once using the training data with simple data augmentations (rotation by multiples of 90 degrees, horizontal and vertical flips), and the second time with said data augmentation and distortions added to the training data (non-uniform illumination and gaussian noise)."
   ]
  },
  {
   "cell_type": "markdown",
   "metadata": {},
   "source": [
    "### $\\bullet$ Importing libraries and utilitary functions"
   ]
  },
  {
   "cell_type": "code",
   "execution_count": 1,
   "metadata": {},
   "outputs": [],
   "source": [
    "# Import python libraries.\n",
    "import matplotlib.pyplot as plt\n",
    "%matplotlib inline\n",
    "import numpy as np\n",
    "%load_ext autoreload\n",
    "%autoreload 2\n",
    "import os\n",
    "os.environ['TF_CPP_MIN_LOG_LEVEL'] = '1'\n",
    "import tensorflow\n",
    "from tensorflow.keras.callbacks import EarlyStopping, ModelCheckpoint\n",
    "\n",
    "# Import utilitary functions and module defining the Unet model.\n",
    "from utils import get_dataset_from_folders\n",
    "from train_data_augmentation import make_train_generator\n",
    "import model\n",
    "from distortions import add_gaussian, add_gaussian_noise\n",
    "from plots import plot_history"
   ]
  },
  {
   "cell_type": "code",
   "execution_count": 2,
   "metadata": {},
   "outputs": [],
   "source": [
    "# Set seeds of random number generators to guarantee reproducibility.\n",
    "np.random.seed(100)\n",
    "tensorflow.random.set_seed(200)"
   ]
  },
  {
   "cell_type": "markdown",
   "metadata": {},
   "source": [
    "### $\\bullet$ Setting size of the input image and different paths"
   ]
  },
  {
   "cell_type": "code",
   "execution_count": 3,
   "metadata": {
    "colab": {
     "background_save": true
    },
    "executionInfo": {
     "elapsed": 3866,
     "status": "ok",
     "timestamp": 1605116263978,
     "user": {
      "displayName": "EPFLML2020 GoodLastName",
      "photoUrl": "",
      "userId": "08441615881122576683"
     },
     "user_tz": -60
    },
    "id": "oFUJJMwMalBG"
   },
   "outputs": [],
   "source": [
    "# To improve training: add data augmentation to the pipeline: for vanilla one, make function that does random rotation by 90 degrees, horizontal-vertical flip. It would be called before every batch is used for training\n",
    "# Also to improve training: try doing learning rate scheduling such as cyclic learning rate scheduling\n",
    "\n",
    "\n",
    "\n",
    "# Shape of the inputs of the deep network.\n",
    "images_shape = (256, 256, 1)\n",
    "\n",
    "# Variables defining the path to the dataset.\n",
    "train_input_path = '../Dataset/train/input/'\n",
    "train_output_path = '../Dataset/train/output/'\n",
    "val_input_path = '../Dataset/validation/input/'\n",
    "val_output_path = '../Dataset/validation/output/'\n",
    "test_input_path = '../Dataset/test/input/'\n",
    "test_output_path = '../Dataset/test/output/'\n",
    "\n",
    "# Variable defining where models will be stored.\n",
    "model_original_save_path = \"../Model Original/\"\n",
    "model_retrained_save_path = \"../Model Retrained/\""
   ]
  },
  {
   "cell_type": "markdown",
   "metadata": {},
   "source": [
    "### $\\bullet$ Load images from the dataset"
   ]
  },
  {
   "cell_type": "code",
   "execution_count": 4,
   "metadata": {
    "colab": {
     "base_uri": "https://localhost:8080/"
    },
    "executionInfo": {
     "elapsed": 7175,
     "status": "ok",
     "timestamp": 1605116267655,
     "user": {
      "displayName": "EPFLML2020 GoodLastName",
      "photoUrl": "",
      "userId": "08441615881122576683"
     },
     "user_tz": -60
    },
    "id": "5kRpcG_R9SvH",
    "outputId": "0f533a82-ba05-4b2a-d4c8-eeb691e26ae0"
   },
   "outputs": [
    {
     "name": "stdout",
     "output_type": "stream",
     "text": [
      "Training set contains 606 images.\n",
      "Validation set contains 96 images.\n",
      "Test set contains 510 images.\n"
     ]
    }
   ],
   "source": [
    "train_images, train_masks = get_dataset_from_folders(train_input_path, train_output_path, images_shape)\n",
    "val_images, val_masks = get_dataset_from_folders(val_input_path, val_output_path, images_shape)\n",
    "test_images, test_masks = get_dataset_from_folders(test_input_path, test_output_path, images_shape)\n",
    "\n",
    "print(f'Training set contains {len(train_images)} images.')\n",
    "print(f'Validation set contains {len(val_images)} images.')\n",
    "print(f'Test set contains {len(test_images)} images.')"
   ]
  },
  {
   "cell_type": "markdown",
   "metadata": {},
   "source": [
    "### $\\bullet$ Choose training parameters and build model"
   ]
  },
  {
   "cell_type": "code",
   "execution_count": 5,
   "metadata": {},
   "outputs": [
    {
     "name": "stdout",
     "output_type": "stream",
     "text": [
      "Model: \"model\"\n",
      "__________________________________________________________________________________________________\n",
      "Layer (type)                    Output Shape         Param #     Connected to                     \n",
      "==================================================================================================\n",
      "input_1 (InputLayer)            [(None, 256, 256, 1) 0                                            \n",
      "__________________________________________________________________________________________________\n",
      "conv2d (Conv2D)                 (None, 256, 256, 16) 160         input_1[0][0]                    \n",
      "__________________________________________________________________________________________________\n",
      "conv2d_1 (Conv2D)               (None, 256, 256, 16) 2320        conv2d[0][0]                     \n",
      "__________________________________________________________________________________________________\n",
      "dropout (Dropout)               (None, 256, 256, 16) 0           conv2d_1[0][0]                   \n",
      "__________________________________________________________________________________________________\n",
      "average_pooling2d (AveragePooli (None, 128, 128, 16) 0           dropout[0][0]                    \n",
      "__________________________________________________________________________________________________\n",
      "conv2d_2 (Conv2D)               (None, 128, 128, 32) 4640        average_pooling2d[0][0]          \n",
      "__________________________________________________________________________________________________\n",
      "conv2d_3 (Conv2D)               (None, 128, 128, 32) 9248        conv2d_2[0][0]                   \n",
      "__________________________________________________________________________________________________\n",
      "dropout_1 (Dropout)             (None, 128, 128, 32) 0           conv2d_3[0][0]                   \n",
      "__________________________________________________________________________________________________\n",
      "average_pooling2d_1 (AveragePoo (None, 64, 64, 32)   0           dropout_1[0][0]                  \n",
      "__________________________________________________________________________________________________\n",
      "conv2d_4 (Conv2D)               (None, 64, 64, 64)   18496       average_pooling2d_1[0][0]        \n",
      "__________________________________________________________________________________________________\n",
      "conv2d_5 (Conv2D)               (None, 64, 64, 64)   36928       conv2d_4[0][0]                   \n",
      "__________________________________________________________________________________________________\n",
      "dropout_2 (Dropout)             (None, 64, 64, 64)   0           conv2d_5[0][0]                   \n",
      "__________________________________________________________________________________________________\n",
      "average_pooling2d_2 (AveragePoo (None, 32, 32, 64)   0           dropout_2[0][0]                  \n",
      "__________________________________________________________________________________________________\n",
      "conv2d_6 (Conv2D)               (None, 32, 32, 128)  73856       average_pooling2d_2[0][0]        \n",
      "__________________________________________________________________________________________________\n",
      "conv2d_7 (Conv2D)               (None, 32, 32, 128)  147584      conv2d_6[0][0]                   \n",
      "__________________________________________________________________________________________________\n",
      "dropout_3 (Dropout)             (None, 32, 32, 128)  0           conv2d_7[0][0]                   \n",
      "__________________________________________________________________________________________________\n",
      "conv2d_transpose (Conv2DTranspo (None, 64, 64, 64)   32832       dropout_3[0][0]                  \n",
      "__________________________________________________________________________________________________\n",
      "concatenate (Concatenate)       (None, 64, 64, 128)  0           dropout_2[0][0]                  \n",
      "                                                                 conv2d_transpose[0][0]           \n",
      "__________________________________________________________________________________________________\n",
      "conv2d_8 (Conv2D)               (None, 64, 64, 64)   73792       concatenate[0][0]                \n",
      "__________________________________________________________________________________________________\n",
      "conv2d_9 (Conv2D)               (None, 64, 64, 64)   36928       conv2d_8[0][0]                   \n",
      "__________________________________________________________________________________________________\n",
      "dropout_4 (Dropout)             (None, 64, 64, 64)   0           conv2d_9[0][0]                   \n",
      "__________________________________________________________________________________________________\n",
      "conv2d_transpose_1 (Conv2DTrans (None, 128, 128, 32) 8224        dropout_4[0][0]                  \n",
      "__________________________________________________________________________________________________\n",
      "concatenate_1 (Concatenate)     (None, 128, 128, 64) 0           dropout_1[0][0]                  \n",
      "                                                                 conv2d_transpose_1[0][0]         \n",
      "__________________________________________________________________________________________________\n",
      "conv2d_10 (Conv2D)              (None, 128, 128, 32) 18464       concatenate_1[0][0]              \n",
      "__________________________________________________________________________________________________\n",
      "conv2d_11 (Conv2D)              (None, 128, 128, 32) 9248        conv2d_10[0][0]                  \n",
      "__________________________________________________________________________________________________\n",
      "dropout_5 (Dropout)             (None, 128, 128, 32) 0           conv2d_11[0][0]                  \n",
      "__________________________________________________________________________________________________\n",
      "conv2d_transpose_2 (Conv2DTrans (None, 256, 256, 16) 2064        dropout_5[0][0]                  \n",
      "__________________________________________________________________________________________________\n",
      "concatenate_2 (Concatenate)     (None, 256, 256, 32) 0           dropout[0][0]                    \n",
      "                                                                 conv2d_transpose_2[0][0]         \n",
      "__________________________________________________________________________________________________\n",
      "conv2d_12 (Conv2D)              (None, 256, 256, 16) 4624        concatenate_2[0][0]              \n",
      "__________________________________________________________________________________________________\n",
      "conv2d_13 (Conv2D)              (None, 256, 256, 16) 2320        conv2d_12[0][0]                  \n",
      "__________________________________________________________________________________________________\n",
      "dropout_6 (Dropout)             (None, 256, 256, 16) 0           conv2d_13[0][0]                  \n",
      "__________________________________________________________________________________________________\n",
      "conv2d_14 (Conv2D)              (None, 256, 256, 1)  17          dropout_6[0][0]                  \n",
      "==================================================================================================\n",
      "Total params: 481,745\n",
      "Trainable params: 481,745\n",
      "Non-trainable params: 0\n",
      "__________________________________________________________________________________________________\n"
     ]
    }
   ],
   "source": [
    "# Setting up parameters used for training\n",
    "number_epochs = 200\n",
    "batch_size = 8\n",
    "steps_per_epoch = np.ceil(len(train_images)/batch_size).astype(np.uint)\n",
    "early_stopping = EarlyStopping(patience=80, verbose=1)\n",
    "model_checkpoint = ModelCheckpoint(filepath=model_original_save_path, save_weights_only=False, monitor='val_accuracy', mode='max', save_best_only=True)\n",
    "\n",
    "# Building Unet model.\n",
    "unet = model.unet(images_shape, show_summary=True)"
   ]
  },
  {
   "cell_type": "markdown",
   "metadata": {},
   "source": [
    "### Training model using images with simple data augmentations and no distortions"
   ]
  },
  {
   "cell_type": "code",
   "execution_count": 6,
   "metadata": {
    "id": "ZoO0FYx9Pjl8",
    "scrolled": false
   },
   "outputs": [
    {
     "name": "stdout",
     "output_type": "stream",
     "text": [
      "WARNING:tensorflow:sample_weight modes were coerced from\n",
      "  ...\n",
      "    to  \n",
      "  ['...']\n",
      "Train for 76 steps, validate on 96 samples\n",
      "Epoch 1/200\n",
      "75/76 [============================>.] - ETA: 0s - loss: 1.4697 - accuracy: 0.8531WARNING:tensorflow:From C:\\Anaconda3\\lib\\site-packages\\tensorflow_core\\python\\ops\\resource_variable_ops.py:1786: calling BaseResourceVariable.__init__ (from tensorflow.python.ops.resource_variable_ops) with constraint is deprecated and will be removed in a future version.\n",
      "Instructions for updating:\n",
      "If using Keras pass *_constraint arguments to layers.\n",
      "INFO:tensorflow:Assets written to: ../Model Original/assets\n",
      "76/76 [==============================] - 24s 319ms/step - loss: 1.4545 - accuracy: 0.8537 - val_loss: 0.3672 - val_accuracy: 0.9095\n",
      "Epoch 2/200\n",
      "75/76 [============================>.] - ETA: 0s - loss: 0.2529 - accuracy: 0.9206INFO:tensorflow:Assets written to: ../Model Original/assets\n",
      "76/76 [==============================] - 18s 235ms/step - loss: 0.2519 - accuracy: 0.9206 - val_loss: 0.1151 - val_accuracy: 0.9487\n",
      "Epoch 3/200\n",
      "75/76 [============================>.] - ETA: 0s - loss: 0.1197 - accuracy: 0.9514INFO:tensorflow:Assets written to: ../Model Original/assets\n",
      "76/76 [==============================] - 19s 250ms/step - loss: 0.1198 - accuracy: 0.9514 - val_loss: 0.0696 - val_accuracy: 0.9728\n",
      "Epoch 4/200\n",
      "75/76 [============================>.] - ETA: 0s - loss: 0.0883 - accuracy: 0.9611INFO:tensorflow:Assets written to: ../Model Original/assets\n",
      "76/76 [==============================] - 20s 262ms/step - loss: 0.0884 - accuracy: 0.9610 - val_loss: 0.0588 - val_accuracy: 0.9780\n",
      "Epoch 5/200\n",
      "75/76 [============================>.] - ETA: 0s - loss: 0.0763 - accuracy: 0.9657INFO:tensorflow:Assets written to: ../Model Original/assets\n",
      "76/76 [==============================] - 19s 244ms/step - loss: 0.0763 - accuracy: 0.9657 - val_loss: 0.0542 - val_accuracy: 0.9795\n",
      "Epoch 6/200\n",
      "75/76 [============================>.] - ETA: 0s - loss: 0.0699 - accuracy: 0.9681INFO:tensorflow:Assets written to: ../Model Original/assets\n",
      "76/76 [==============================] - 18s 242ms/step - loss: 0.0699 - accuracy: 0.9680 - val_loss: 0.0520 - val_accuracy: 0.9798\n",
      "Epoch 7/200\n",
      "75/76 [============================>.] - ETA: 0s - loss: 0.0656 - accuracy: 0.9699INFO:tensorflow:Assets written to: ../Model Original/assets\n",
      "76/76 [==============================] - 18s 243ms/step - loss: 0.0656 - accuracy: 0.9699 - val_loss: 0.0490 - val_accuracy: 0.9812\n",
      "Epoch 8/200\n",
      "75/76 [============================>.] - ETA: 0s - loss: 0.0626 - accuracy: 0.9712INFO:tensorflow:Assets written to: ../Model Original/assets\n",
      "76/76 [==============================] - 19s 252ms/step - loss: 0.0626 - accuracy: 0.9712 - val_loss: 0.0470 - val_accuracy: 0.9817\n",
      "Epoch 9/200\n",
      "75/76 [============================>.] - ETA: 0s - loss: 0.0601 - accuracy: 0.9722INFO:tensorflow:Assets written to: ../Model Original/assets\n",
      "76/76 [==============================] - 20s 258ms/step - loss: 0.0600 - accuracy: 0.9722 - val_loss: 0.0447 - val_accuracy: 0.9820\n",
      "Epoch 10/200\n",
      "75/76 [============================>.] - ETA: 0s - loss: 0.0586 - accuracy: 0.9729INFO:tensorflow:Assets written to: ../Model Original/assets\n",
      "76/76 [==============================] - 19s 249ms/step - loss: 0.0587 - accuracy: 0.9729 - val_loss: 0.0439 - val_accuracy: 0.9827\n",
      "Epoch 11/200\n",
      "75/76 [============================>.] - ETA: 0s - loss: 0.0552 - accuracy: 0.9746INFO:tensorflow:Assets written to: ../Model Original/assets\n",
      "76/76 [==============================] - 19s 254ms/step - loss: 0.0554 - accuracy: 0.9745 - val_loss: 0.0417 - val_accuracy: 0.9832\n",
      "Epoch 12/200\n",
      "75/76 [============================>.] - ETA: 0s - loss: 0.0531 - accuracy: 0.9772INFO:tensorflow:Assets written to: ../Model Original/assets\n",
      "76/76 [==============================] - 19s 253ms/step - loss: 0.0530 - accuracy: 0.9772 - val_loss: 0.0413 - val_accuracy: 0.9836\n",
      "Epoch 13/200\n",
      "75/76 [============================>.] - ETA: 0s - loss: 0.0498 - accuracy: 0.9791INFO:tensorflow:Assets written to: ../Model Original/assets\n",
      "76/76 [==============================] - 19s 252ms/step - loss: 0.0498 - accuracy: 0.9791 - val_loss: 0.0403 - val_accuracy: 0.9843\n",
      "Epoch 14/200\n",
      "75/76 [============================>.] - ETA: 0s - loss: 0.0477 - accuracy: 0.9801INFO:tensorflow:Assets written to: ../Model Original/assets\n",
      "76/76 [==============================] - 20s 263ms/step - loss: 0.0481 - accuracy: 0.9799 - val_loss: 0.0389 - val_accuracy: 0.9849\n",
      "Epoch 15/200\n",
      "76/76 [==============================] - 14s 190ms/step - loss: 0.0458 - accuracy: 0.9807 - val_loss: 0.0385 - val_accuracy: 0.9847\n",
      "Epoch 16/200\n",
      "75/76 [============================>.] - ETA: 0s - loss: 0.0445 - accuracy: 0.9813INFO:tensorflow:Assets written to: ../Model Original/assets\n",
      "76/76 [==============================] - 19s 253ms/step - loss: 0.0446 - accuracy: 0.9812 - val_loss: 0.0379 - val_accuracy: 0.9851\n",
      "Epoch 17/200\n",
      "75/76 [============================>.] - ETA: 0s - loss: 0.0428 - accuracy: 0.9819INFO:tensorflow:Assets written to: ../Model Original/assets\n",
      "76/76 [==============================] - 19s 248ms/step - loss: 0.0428 - accuracy: 0.9819 - val_loss: 0.0378 - val_accuracy: 0.9853\n",
      "Epoch 18/200\n",
      "76/76 [==============================] - 14s 190ms/step - loss: 0.0425 - accuracy: 0.9822 - val_loss: 0.0378 - val_accuracy: 0.9852\n",
      "Epoch 19/200\n",
      "76/76 [==============================] - 15s 200ms/step - loss: 0.0413 - accuracy: 0.9826 - val_loss: 0.0384 - val_accuracy: 0.9845\n",
      "Epoch 20/200\n",
      "75/76 [============================>.] - ETA: 0s - loss: 0.0397 - accuracy: 0.9833INFO:tensorflow:Assets written to: ../Model Original/assets\n",
      "76/76 [==============================] - 20s 265ms/step - loss: 0.0397 - accuracy: 0.9833 - val_loss: 0.0384 - val_accuracy: 0.9853\n",
      "Epoch 21/200\n",
      "76/76 [==============================] - 15s 193ms/step - loss: 0.0386 - accuracy: 0.9838 - val_loss: 0.0391 - val_accuracy: 0.9851\n",
      "Epoch 22/200\n",
      "76/76 [==============================] - 15s 197ms/step - loss: 0.0377 - accuracy: 0.9841 - val_loss: 0.0395 - val_accuracy: 0.9853\n",
      "Epoch 23/200\n",
      "76/76 [==============================] - 15s 199ms/step - loss: 0.0370 - accuracy: 0.9844 - val_loss: 0.0396 - val_accuracy: 0.9851\n",
      "Epoch 24/200\n",
      "76/76 [==============================] - 15s 201ms/step - loss: 0.0367 - accuracy: 0.9844 - val_loss: 0.0392 - val_accuracy: 0.9851\n",
      "Epoch 25/200\n",
      "75/76 [============================>.] - ETA: 0s - loss: 0.0355 - accuracy: 0.9850INFO:tensorflow:Assets written to: ../Model Original/assets\n",
      "76/76 [==============================] - 20s 268ms/step - loss: 0.0356 - accuracy: 0.9850 - val_loss: 0.0386 - val_accuracy: 0.9855\n",
      "Epoch 26/200\n",
      "76/76 [==============================] - 15s 195ms/step - loss: 0.0347 - accuracy: 0.9854 - val_loss: 0.0387 - val_accuracy: 0.9849\n",
      "Epoch 27/200\n",
      "76/76 [==============================] - 15s 198ms/step - loss: 0.0343 - accuracy: 0.9855 - val_loss: 0.0387 - val_accuracy: 0.9848\n",
      "Epoch 28/200\n",
      "75/76 [============================>.] - ETA: 0s - loss: 0.0337 - accuracy: 0.9858INFO:tensorflow:Assets written to: ../Model Original/assets\n",
      "76/76 [==============================] - 20s 264ms/step - loss: 0.0337 - accuracy: 0.9858 - val_loss: 0.0389 - val_accuracy: 0.9859\n",
      "Epoch 29/200\n",
      "76/76 [==============================] - 15s 192ms/step - loss: 0.0329 - accuracy: 0.9861 - val_loss: 0.0402 - val_accuracy: 0.9850\n",
      "Epoch 30/200\n",
      "76/76 [==============================] - 15s 198ms/step - loss: 0.0327 - accuracy: 0.9862 - val_loss: 0.0410 - val_accuracy: 0.9844\n",
      "Epoch 31/200\n",
      "76/76 [==============================] - 15s 199ms/step - loss: 0.0326 - accuracy: 0.9862 - val_loss: 0.0405 - val_accuracy: 0.9854\n",
      "Epoch 32/200\n",
      "76/76 [==============================] - 15s 198ms/step - loss: 0.0319 - accuracy: 0.9866 - val_loss: 0.0402 - val_accuracy: 0.9848\n",
      "Epoch 33/200\n",
      "76/76 [==============================] - 15s 198ms/step - loss: 0.0308 - accuracy: 0.9871 - val_loss: 0.0422 - val_accuracy: 0.9857\n",
      "Epoch 34/200\n",
      "76/76 [==============================] - 15s 201ms/step - loss: 0.0306 - accuracy: 0.9872 - val_loss: 0.0420 - val_accuracy: 0.9857\n",
      "Epoch 35/200\n"
     ]
    },
    {
     "name": "stdout",
     "output_type": "stream",
     "text": [
      "76/76 [==============================] - 15s 201ms/step - loss: 0.0302 - accuracy: 0.9874 - val_loss: 0.0453 - val_accuracy: 0.9851\n",
      "Epoch 36/200\n",
      "76/76 [==============================] - 15s 200ms/step - loss: 0.0296 - accuracy: 0.9877 - val_loss: 0.0436 - val_accuracy: 0.9858\n",
      "Epoch 37/200\n",
      "76/76 [==============================] - 15s 200ms/step - loss: 0.0289 - accuracy: 0.9879 - val_loss: 0.0431 - val_accuracy: 0.9847\n",
      "Epoch 38/200\n",
      "76/76 [==============================] - 15s 202ms/step - loss: 0.0288 - accuracy: 0.9880 - val_loss: 0.0424 - val_accuracy: 0.9845\n",
      "Epoch 39/200\n",
      "76/76 [==============================] - 15s 202ms/step - loss: 0.0290 - accuracy: 0.9880 - val_loss: 0.0412 - val_accuracy: 0.9855\n",
      "Epoch 40/200\n",
      "76/76 [==============================] - 15s 199ms/step - loss: 0.0275 - accuracy: 0.9885 - val_loss: 0.0431 - val_accuracy: 0.9855\n",
      "Epoch 41/200\n",
      "76/76 [==============================] - 15s 198ms/step - loss: 0.0277 - accuracy: 0.9885 - val_loss: 0.0428 - val_accuracy: 0.9857\n",
      "Epoch 42/200\n",
      "76/76 [==============================] - 15s 199ms/step - loss: 0.0271 - accuracy: 0.9887 - val_loss: 0.0461 - val_accuracy: 0.9842\n",
      "Epoch 43/200\n",
      "76/76 [==============================] - 15s 199ms/step - loss: 0.0268 - accuracy: 0.9888 - val_loss: 0.0440 - val_accuracy: 0.9849\n",
      "Epoch 44/200\n",
      "76/76 [==============================] - 15s 199ms/step - loss: 0.0269 - accuracy: 0.9888 - val_loss: 0.0435 - val_accuracy: 0.9848\n",
      "Epoch 45/200\n",
      "76/76 [==============================] - 15s 198ms/step - loss: 0.0262 - accuracy: 0.9891 - val_loss: 0.0458 - val_accuracy: 0.9840\n",
      "Epoch 46/200\n",
      "76/76 [==============================] - 15s 199ms/step - loss: 0.0264 - accuracy: 0.9890 - val_loss: 0.0418 - val_accuracy: 0.9852\n",
      "Epoch 47/200\n",
      "76/76 [==============================] - 15s 198ms/step - loss: 0.0261 - accuracy: 0.9892 - val_loss: 0.0494 - val_accuracy: 0.9836\n",
      "Epoch 48/200\n",
      "76/76 [==============================] - 15s 199ms/step - loss: 0.0256 - accuracy: 0.9893 - val_loss: 0.0464 - val_accuracy: 0.9848\n",
      "Epoch 49/200\n",
      "76/76 [==============================] - 15s 198ms/step - loss: 0.0260 - accuracy: 0.9892 - val_loss: 0.0428 - val_accuracy: 0.9858\n",
      "Epoch 50/200\n",
      "76/76 [==============================] - 15s 198ms/step - loss: 0.0256 - accuracy: 0.9894 - val_loss: 0.0460 - val_accuracy: 0.9858\n",
      "Epoch 51/200\n",
      "76/76 [==============================] - 15s 199ms/step - loss: 0.0253 - accuracy: 0.9894 - val_loss: 0.0460 - val_accuracy: 0.9858\n",
      "Epoch 52/200\n",
      "75/76 [============================>.] - ETA: 0s - loss: 0.0249 - accuracy: 0.9896INFO:tensorflow:Assets written to: ../Model Original/assets\n",
      "76/76 [==============================] - 20s 268ms/step - loss: 0.0249 - accuracy: 0.9896 - val_loss: 0.0460 - val_accuracy: 0.9859\n",
      "Epoch 53/200\n",
      "76/76 [==============================] - 15s 194ms/step - loss: 0.0249 - accuracy: 0.9896 - val_loss: 0.0481 - val_accuracy: 0.9844\n",
      "Epoch 54/200\n",
      "76/76 [==============================] - 15s 198ms/step - loss: 0.0247 - accuracy: 0.9897 - val_loss: 0.0457 - val_accuracy: 0.9852\n",
      "Epoch 55/200\n",
      "76/76 [==============================] - 15s 199ms/step - loss: 0.0246 - accuracy: 0.9898 - val_loss: 0.0454 - val_accuracy: 0.9852\n",
      "Epoch 56/200\n",
      "76/76 [==============================] - 15s 200ms/step - loss: 0.0241 - accuracy: 0.9899 - val_loss: 0.0463 - val_accuracy: 0.9850\n",
      "Epoch 57/200\n",
      "76/76 [==============================] - 15s 199ms/step - loss: 0.0249 - accuracy: 0.9896 - val_loss: 0.0456 - val_accuracy: 0.9849\n",
      "Epoch 58/200\n",
      "75/76 [============================>.] - ETA: 0s - loss: 0.0241 - accuracy: 0.9899INFO:tensorflow:Assets written to: ../Model Original/assets\n",
      "76/76 [==============================] - 20s 260ms/step - loss: 0.0241 - accuracy: 0.9899 - val_loss: 0.0483 - val_accuracy: 0.9860\n",
      "Epoch 59/200\n",
      "76/76 [==============================] - 15s 194ms/step - loss: 0.0238 - accuracy: 0.9900 - val_loss: 0.0508 - val_accuracy: 0.9858\n",
      "Epoch 60/200\n",
      "75/76 [============================>.] - ETA: 0s - loss: 0.0237 - accuracy: 0.9900INFO:tensorflow:Assets written to: ../Model Original/assets\n",
      "76/76 [==============================] - 20s 258ms/step - loss: 0.0238 - accuracy: 0.9900 - val_loss: 0.0509 - val_accuracy: 0.9863\n",
      "Epoch 61/200\n",
      "76/76 [==============================] - 15s 192ms/step - loss: 0.0238 - accuracy: 0.9900 - val_loss: 0.0480 - val_accuracy: 0.9858\n",
      "Epoch 62/200\n",
      "76/76 [==============================] - 15s 197ms/step - loss: 0.0230 - accuracy: 0.9904 - val_loss: 0.0475 - val_accuracy: 0.9845\n",
      "Epoch 63/200\n",
      "76/76 [==============================] - 15s 198ms/step - loss: 0.0240 - accuracy: 0.9900 - val_loss: 0.0450 - val_accuracy: 0.9854\n",
      "Epoch 64/200\n",
      "76/76 [==============================] - 15s 201ms/step - loss: 0.0234 - accuracy: 0.9902 - val_loss: 0.0467 - val_accuracy: 0.9861\n",
      "Epoch 65/200\n",
      "76/76 [==============================] - 15s 200ms/step - loss: 0.0233 - accuracy: 0.9902 - val_loss: 0.0495 - val_accuracy: 0.9862\n",
      "Epoch 66/200\n",
      "76/76 [==============================] - 15s 199ms/step - loss: 0.0228 - accuracy: 0.9905 - val_loss: 0.0493 - val_accuracy: 0.9846\n",
      "Epoch 67/200\n",
      "76/76 [==============================] - 15s 198ms/step - loss: 0.0226 - accuracy: 0.9905 - val_loss: 0.0488 - val_accuracy: 0.9858\n",
      "Epoch 68/200\n",
      "76/76 [==============================] - 15s 199ms/step - loss: 0.0227 - accuracy: 0.9905 - val_loss: 0.0490 - val_accuracy: 0.9858\n",
      "Epoch 69/200\n",
      "76/76 [==============================] - 15s 199ms/step - loss: 0.0231 - accuracy: 0.9904 - val_loss: 0.0481 - val_accuracy: 0.9858\n",
      "Epoch 70/200\n",
      "76/76 [==============================] - 15s 200ms/step - loss: 0.0223 - accuracy: 0.9907 - val_loss: 0.0490 - val_accuracy: 0.9852\n",
      "Epoch 71/200\n",
      "76/76 [==============================] - 15s 201ms/step - loss: 0.0223 - accuracy: 0.9907 - val_loss: 0.0506 - val_accuracy: 0.9857\n",
      "Epoch 72/200\n",
      "75/76 [============================>.] - ETA: 0s - loss: 0.0228 - accuracy: 0.9904INFO:tensorflow:Assets written to: ../Model Original/assets\n",
      "76/76 [==============================] - 21s 272ms/step - loss: 0.0228 - accuracy: 0.9904 - val_loss: 0.0491 - val_accuracy: 0.9866\n",
      "Epoch 73/200\n",
      "76/76 [==============================] - 15s 199ms/step - loss: 0.0228 - accuracy: 0.9904 - val_loss: 0.0500 - val_accuracy: 0.9854\n",
      "Epoch 74/200\n",
      "76/76 [==============================] - 15s 202ms/step - loss: 0.0220 - accuracy: 0.9908 - val_loss: 0.0532 - val_accuracy: 0.9856\n",
      "Epoch 75/200\n",
      "76/76 [==============================] - 15s 200ms/step - loss: 0.0222 - accuracy: 0.9907 - val_loss: 0.0529 - val_accuracy: 0.9861\n",
      "Epoch 76/200\n",
      "76/76 [==============================] - 15s 198ms/step - loss: 0.0220 - accuracy: 0.9908 - val_loss: 0.0493 - val_accuracy: 0.9863\n",
      "Epoch 77/200\n",
      "76/76 [==============================] - 15s 198ms/step - loss: 0.0223 - accuracy: 0.9906 - val_loss: 0.0522 - val_accuracy: 0.9862\n",
      "Epoch 78/200\n",
      "76/76 [==============================] - 15s 201ms/step - loss: 0.0217 - accuracy: 0.9909 - val_loss: 0.0533 - val_accuracy: 0.9845\n",
      "Epoch 79/200\n",
      "76/76 [==============================] - 15s 200ms/step - loss: 0.0219 - accuracy: 0.9909 - val_loss: 0.0509 - val_accuracy: 0.9860\n",
      "Epoch 80/200\n",
      "76/76 [==============================] - 15s 203ms/step - loss: 0.0215 - accuracy: 0.9910 - val_loss: 0.0523 - val_accuracy: 0.9864\n",
      "Epoch 81/200\n",
      "76/76 [==============================] - 15s 203ms/step - loss: 0.0220 - accuracy: 0.9908 - val_loss: 0.0499 - val_accuracy: 0.9859\n",
      "Epoch 82/200\n",
      "76/76 [==============================] - 15s 203ms/step - loss: 0.0212 - accuracy: 0.9911 - val_loss: 0.0535 - val_accuracy: 0.9857\n",
      "Epoch 83/200\n",
      "76/76 [==============================] - 15s 202ms/step - loss: 0.0213 - accuracy: 0.9910 - val_loss: 0.0503 - val_accuracy: 0.9860\n",
      "Epoch 84/200\n",
      "76/76 [==============================] - 15s 201ms/step - loss: 0.0212 - accuracy: 0.9911 - val_loss: 0.0510 - val_accuracy: 0.9866\n",
      "Epoch 85/200\n",
      "76/76 [==============================] - 15s 198ms/step - loss: 0.0217 - accuracy: 0.9909 - val_loss: 0.0528 - val_accuracy: 0.9857\n",
      "Epoch 86/200\n",
      "76/76 [==============================] - 15s 203ms/step - loss: 0.0210 - accuracy: 0.9912 - val_loss: 0.0554 - val_accuracy: 0.9863\n",
      "Epoch 87/200\n",
      "76/76 [==============================] - 16s 205ms/step - loss: 0.0231 - accuracy: 0.9904 - val_loss: 0.0495 - val_accuracy: 0.9853\n"
     ]
    },
    {
     "name": "stdout",
     "output_type": "stream",
     "text": [
      "Epoch 88/200\n",
      "76/76 [==============================] - 16s 208ms/step - loss: 0.0215 - accuracy: 0.9910 - val_loss: 0.0472 - val_accuracy: 0.9865\n",
      "Epoch 89/200\n",
      "76/76 [==============================] - 16s 204ms/step - loss: 0.0209 - accuracy: 0.9912 - val_loss: 0.0537 - val_accuracy: 0.9853\n",
      "Epoch 90/200\n",
      "75/76 [============================>.] - ETA: 0s - loss: 0.0209 - accuracy: 0.9912INFO:tensorflow:Assets written to: ../Model Original/assets\n",
      "76/76 [==============================] - 21s 273ms/step - loss: 0.0210 - accuracy: 0.9912 - val_loss: 0.0492 - val_accuracy: 0.9867\n",
      "Epoch 91/200\n",
      "75/76 [============================>.] - ETA: 0s - loss: 0.0208 - accuracy: 0.9913INFO:tensorflow:Assets written to: ../Model Original/assets\n",
      "76/76 [==============================] - 20s 263ms/step - loss: 0.0207 - accuracy: 0.9913 - val_loss: 0.0513 - val_accuracy: 0.9867\n",
      "Epoch 92/200\n",
      "76/76 [==============================] - 15s 195ms/step - loss: 0.0205 - accuracy: 0.9914 - val_loss: 0.0508 - val_accuracy: 0.9858\n",
      "Epoch 93/200\n",
      "76/76 [==============================] - 15s 203ms/step - loss: 0.0204 - accuracy: 0.9915 - val_loss: 0.0511 - val_accuracy: 0.9864\n",
      "Epoch 94/200\n",
      "76/76 [==============================] - 15s 200ms/step - loss: 0.0203 - accuracy: 0.9914 - val_loss: 0.0543 - val_accuracy: 0.9862\n",
      "Epoch 95/200\n",
      "76/76 [==============================] - 15s 200ms/step - loss: 0.0201 - accuracy: 0.9915 - val_loss: 0.0528 - val_accuracy: 0.9864\n",
      "Epoch 96/200\n",
      "76/76 [==============================] - 15s 198ms/step - loss: 0.0203 - accuracy: 0.9915 - val_loss: 0.0509 - val_accuracy: 0.9859\n",
      "Epoch 97/200\n",
      "76/76 [==============================] - 15s 200ms/step - loss: 0.0201 - accuracy: 0.9915 - val_loss: 0.0504 - val_accuracy: 0.9861\n",
      "Epoch 00097: early stopping\n"
     ]
    }
   ],
   "source": [
    "# Training\n",
    "train_generator = make_train_generator(train_images, train_masks, batch_size=batch_size, custom_distortions=False)\n",
    "history = unet.fit(train_generator, validation_data=(val_images, val_masks), steps_per_epoch=steps_per_epoch, batch_size=batch_size, epochs=number_epochs, callbacks=[early_stopping, model_checkpoint])"
   ]
  },
  {
   "cell_type": "code",
   "execution_count": 7,
   "metadata": {
    "id": "CbpnxqaAYnfU"
   },
   "outputs": [
    {
     "data": {
      "image/png": "[encoded data removed]",
      "text/plain": [
       "<Figure size 432x288 with 1 Axes>"
      ]
     },
     "metadata": {
      "needs_background": "light"
     },
     "output_type": "display_data"
    },
    {
     "data": {
      "image/png": "[encoded data removed]",
      "text/plain": [
       "<Figure size 432x288 with 1 Axes>"
      ]
     },
     "metadata": {
      "needs_background": "light"
     },
     "output_type": "display_data"
    }
   ],
   "source": [
    "plot_history(history)"
   ]
  },
  {
   "cell_type": "code",
   "execution_count": 8,
   "metadata": {},
   "outputs": [
    {
     "name": "stdout",
     "output_type": "stream",
     "text": [
      "510/510 [==============================] - 6s 12ms/sample - loss: 0.0348 - accuracy: 0.9902\n"
     ]
    }
   ],
   "source": [
    "unet.evaluate(test_images, test_masks);"
   ]
  },
  {
   "cell_type": "markdown",
   "metadata": {},
   "source": [
    "### Training model using images with simple data augmentations as well as distortions"
   ]
  },
  {
   "cell_type": "code",
   "execution_count": null,
   "metadata": {},
   "outputs": [],
   "source": [
    "def apply_random_distortion_to_all(function, images, params_for_images={}):\n",
    "    distorted_images = []\n",
    "\n",
    "    for image in images:\n",
    "        params_for_image = {}\n",
    "        for param, val_range in params_for_images.items():\n",
    "            params_for_image[param] =  np.random.uniform(*val_range)\n",
    "            \n",
    "        distorted_images.append(function(image, **params_for_image))\n",
    "    \n",
    "    return np.array(distorted_images)\n",
    "\n",
    "train_images_added_gaussian = apply_random_distortion_to_all(add_gaussian, train_images, {\"amplitude\": (0, 500)})\n",
    "val_images_added_gaussian   = apply_random_distortion_to_all(add_gaussian, val_images  , {\"amplitude\": (0, 500)})\n",
    "test_images_added_gaussian  = apply_random_distortion_to_all(add_gaussian, test_images , {\"amplitude\": (0, 500)})\n",
    "train_images_added_gaussian_noise = apply_random_distortion_to_all(add_gaussian_noise, train_images, {\"mean\": (0, 0), \"sigma\": (0, 50)})\n",
    "val_images_added_gaussian_noise   = apply_random_distortion_to_all(add_gaussian_noise, val_images  , {\"mean\": (0, 0), \"sigma\": (0, 50)})\n",
    "test_images_added_gaussian_noise  = apply_random_distortion_to_all(add_gaussian_noise, test_images , {\"mean\": (0, 0), \"sigma\": (0, 50)})"
   ]
  },
  {
   "cell_type": "code",
   "execution_count": null,
   "metadata": {},
   "outputs": [],
   "source": [
    "train_images = np.append(train_images, train_images_added_gaussian      , axis=0)\n",
    "train_images = np.append(train_images, train_images_added_gaussian_noise, axis=0)\n",
    "train_masks  = np.repeat(train_masks , 3                                , axis=0)\n",
    "val_images   = np.append(val_images  , val_images_added_gaussian        , axis=0)\n",
    "val_images   = np.append(val_images  , val_images_added_gaussian_noise  , axis=0)\n",
    "val_masks    = np.repeat(val_masks   , 3                                , axis=0)\n",
    "test_images  = np.append(test_images , test_images_added_gaussian       , axis=0)\n",
    "test_images  = np.append(test_images , test_images_added_gaussian_noise , axis=0)\n",
    "test_masks   = np.repeat(test_masks  , 3                                , axis=0)\n",
    "\n",
    "print(f'Training set contains {len(train_images)} images.')\n",
    "print(f'Validation set contains {len(val_images)} images.')\n",
    "print(f'Test set contains {len(test_images)} images.')"
   ]
  },
  {
   "cell_type": "code",
   "execution_count": null,
   "metadata": {},
   "outputs": [],
   "source": [
    "# Setting up parameters used for training\n",
    "number_epochs = 200\n",
    "batch_size = 8\n",
    "steps_per_epoch = np.ceil(len(train_images)/batch_size).astype(np.uint)\n",
    "early_stopping = EarlyStopping(patience=80, verbose=1)\n",
    "model_checkpoint = ModelCheckpoint(filepath=model_retrained_save_path, save_weights_only=False, monitor='val_accuracy', mode='max', save_best_only=True)\n",
    "\n",
    "# Building Unet model.\n",
    "unet = model.unet(images_shape, show_summary=False)"
   ]
  },
  {
   "cell_type": "code",
   "execution_count": null,
   "metadata": {
    "scrolled": false
   },
   "outputs": [],
   "source": [
    "# Training\n",
    "history = unet.fit(train_images, train_masks, validation_data = (val_images, val_masks), batch_size = batch_size, epochs=number_epochs, callbacks=[early_stopping, model_checkpoint])"
   ]
  },
  {
   "cell_type": "code",
   "execution_count": null,
   "metadata": {},
   "outputs": [],
   "source": [
    "plot_history(history)"
   ]
  },
  {
   "cell_type": "code",
   "execution_count": null,
   "metadata": {},
   "outputs": [],
   "source": [
    "unet.evaluate(test_images, test_masks);"
   ]
  }
 ],
 "metadata": {
  "colab": {
   "collapsed_sections": [],
   "name": "UNET Distortion.ipynb",
   "version": ""
  },
  "kernelspec": {
   "display_name": "Python 3",
   "language": "python",
   "name": "python3"
  },
  "language_info": {
   "codemirror_mode": {
    "name": "ipython",
    "version": 3
   },
   "file_extension": ".py",
   "mimetype": "text/x-python",
   "name": "python",
   "nbconvert_exporter": "python",
   "pygments_lexer": "ipython3",
   "version": "3.7.9"
  }
 },
 "nbformat": 4,
 "nbformat_minor": 1
}
